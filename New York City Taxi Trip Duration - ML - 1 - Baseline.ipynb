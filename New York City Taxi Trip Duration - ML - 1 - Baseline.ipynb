{
 "cells": [
  {
   "cell_type": "markdown",
   "id": "791c7035",
   "metadata": {},
   "source": [
    "# Model Comparison Across Stages"
   ]
  },
  {
   "cell_type": "markdown",
   "id": "73c6ce23-5554-4829-8010-277903dffd6b",
   "metadata": {},
   "source": [
    "First Workflow (for training data because this has lots of data)\n",
    "1. **checking inaccuracy/error data**\n",
    "2. removing duplicates\n",
    "3. converting datatypes\n",
    "4. creating new feature distance_osrm\n",
    "5. creating new feature NYC_center\n",
    "\n",
    "Second Workflow (for retraining or testing, lesser data)\n",
    "1. creating new feature distance_osrm\n",
    "2. creating new feature NYC_center\n",
    "3. **checking inaccuracy/error data**\n",
    "4. removing duplicates\n",
    "5. converting datatypes\n",
    "6. date time breakdown\n",
    "7. missing value imputation + speed derivation\n",
    "8. outliers handling 1\n",
    "9. outliers handling 2\n",
    "10. pickdrop cluster\n",
    "11. skewness transformation\n",
    "12. correlation matrix\n",
    "13. vif\n",
    "14. log_transform\n",
    "15. feature encoding\n",
    "16. feature scaling\n",
    "17. feature selection\n",
    "18. estimator"
   ]
  },
  {
   "cell_type": "markdown",
   "id": "0300673b-3e29-4335-9aec-e8554ebd1be9",
   "metadata": {
    "jp-MarkdownHeadingCollapsed": true
   },
   "source": [
    "### Stage 1: Baseline Model"
   ]
  },
  {
   "cell_type": "code",
   "execution_count": 1,
   "id": "bb0218fe-f3d2-44d6-9a66-845f950b228b",
   "metadata": {},
   "outputs": [],
   "source": [
    "from playground import *"
   ]
  },
  {
   "cell_type": "code",
   "execution_count": 2,
   "id": "1f9b14c2-383f-48f3-bd7d-5e8d2ea88223",
   "metadata": {},
   "outputs": [],
   "source": [
    "# baseline model\n",
    "df = pd.read_csv(\"dataset/train.csv\")"
   ]
  },
  {
   "cell_type": "code",
   "execution_count": 3,
   "id": "4053cd22-b320-418c-8a25-f3f05d2e242a",
   "metadata": {},
   "outputs": [
    {
     "name": "stdout",
     "output_type": "stream",
     "text": [
      "<class 'pandas.core.frame.DataFrame'>\n",
      "RangeIndex: 1458644 entries, 0 to 1458643\n",
      "Data columns (total 11 columns):\n",
      " #   Column              Non-Null Count    Dtype  \n",
      "---  ------              --------------    -----  \n",
      " 0   id                  1458644 non-null  object \n",
      " 1   vendor_id           1458644 non-null  int64  \n",
      " 2   pickup_datetime     1458644 non-null  object \n",
      " 3   dropoff_datetime    1458644 non-null  object \n",
      " 4   passenger_count     1458644 non-null  int64  \n",
      " 5   pickup_longitude    1458644 non-null  float64\n",
      " 6   pickup_latitude     1458644 non-null  float64\n",
      " 7   dropoff_longitude   1458644 non-null  float64\n",
      " 8   dropoff_latitude    1458644 non-null  float64\n",
      " 9   store_and_fwd_flag  1458644 non-null  object \n",
      " 10  trip_duration       1458644 non-null  int64  \n",
      "dtypes: float64(4), int64(3), object(4)\n",
      "memory usage: 122.4+ MB\n"
     ]
    }
   ],
   "source": [
    "df.info()"
   ]
  },
  {
   "cell_type": "code",
   "execution_count": 4,
   "id": "0345c911-b324-4ff1-9c32-8951b56ff34a",
   "metadata": {},
   "outputs": [],
   "source": [
    "X = df.drop(columns=\"trip_duration\", axis=1)\n",
    "y = df[\"trip_duration\"]"
   ]
  },
  {
   "cell_type": "code",
   "execution_count": 5,
   "id": "c41ce928-3bfc-46a1-9307-668705fc5f15",
   "metadata": {},
   "outputs": [],
   "source": [
    "X_train, X_test, y_train, y_test = train_test_split(X, y, test_size = 0.20, random_state = 42)"
   ]
  },
  {
   "cell_type": "code",
   "execution_count": 6,
   "id": "bb609da3-58fd-4438-88db-ba51b94b7865",
   "metadata": {},
   "outputs": [
    {
     "name": "stdout",
     "output_type": "stream",
     "text": [
      ">>>> Starting the process of removing duplicates ...\n",
      "No duplicates found.\n",
      "CPU times: total: 5.09 s\n",
      "Wall time: 5.72 s\n"
     ]
    }
   ],
   "source": [
    "%%time\n",
    "rm_duplicates = RemoveDuplicates()\n",
    "X_train, y_train = rm_duplicates.transform(X_train, y_train)"
   ]
  },
  {
   "cell_type": "code",
   "execution_count": 7,
   "id": "b3f3be85-2ea7-4f6a-a5b6-9ee357eda45b",
   "metadata": {},
   "outputs": [
    {
     "name": "stdout",
     "output_type": "stream",
     "text": [
      ">>>> Starting data type conversion process...\n",
      "Column 'vendor_id' changed from int64 to object\n",
      "Column 'pickup_datetime' changed from object to datetime64[ns]\n",
      "Column 'dropoff_datetime' changed from object to datetime64[ns]\n",
      ">>>> Starting data type conversion process...\n",
      "Column 'vendor_id' changed from int64 to object\n",
      "Column 'pickup_datetime' changed from object to datetime64[ns]\n",
      "Column 'dropoff_datetime' changed from object to datetime64[ns]\n",
      "CPU times: total: 6.69 s\n",
      "Wall time: 7.43 s\n"
     ]
    }
   ],
   "source": [
    "%%time\n",
    "to_dtypes = ToDataTypes()\n",
    "X_train, y_train = to_dtypes.transform(X_train, y_train)\n",
    "X_test, y_test = to_dtypes.transform(X_test, y_test)"
   ]
  },
  {
   "cell_type": "code",
   "execution_count": 8,
   "id": "61f5f274-e685-4184-bd78-17de73d3d8b2",
   "metadata": {},
   "outputs": [
    {
     "name": "stdout",
     "output_type": "stream",
     "text": [
      ">>>> Starting datetime feature extraction...\n",
      "Extracted features: ['pickup_month', 'pickup_day', 'pickup_day_of_week', 'pickup_hour']\n",
      "Dropped columns: ['pickup_datetime', 'dropoff_datetime']\n",
      ">>>> Starting datetime feature extraction...\n",
      "Extracted features: ['pickup_month', 'pickup_day', 'pickup_day_of_week', 'pickup_hour']\n",
      "Dropped columns: ['pickup_datetime', 'dropoff_datetime']\n",
      "CPU times: total: 6.09 s\n",
      "Wall time: 6.48 s\n"
     ]
    }
   ],
   "source": [
    "%%time\n",
    "datetime_break = DateTimeBreak()\n",
    "X_train = datetime_break.transform(X_train)\n",
    "X_test = datetime_break.transform(X_test)"
   ]
  },
  {
   "cell_type": "code",
   "execution_count": 9,
   "id": "dfe278b7-2e5d-4180-bc99-3a0dd1617848",
   "metadata": {},
   "outputs": [
    {
     "name": "stdout",
     "output_type": "stream",
     "text": [
      ">>>> Starting to encode the features ...\n",
      "Starting transformations...\n",
      "Dropping 'id' column...\n",
      "Performing dummy encoding on 'vendor_id' column...\n",
      "Performing dummy encoding on 'store_and_fwd_flag' column...\n",
      "Performing cyclical encoding on 'pickup_month' column...\n",
      "Cyclical encoding for 'pickup_month' completed.\n",
      "Performing cyclical encoding on 'pickup_day' column...\n",
      "Cyclical encoding for 'pickup_day' completed.\n",
      "Performing cyclical encoding on 'pickup_day_of_week' column...\n",
      "Cyclical encoding for 'pickup_day_of_week' completed.\n",
      "Performing cyclical encoding on 'pickup_hour' column...\n",
      "Cyclical encoding for 'pickup_hour' completed.\n",
      "Dropping original columns after encoding...\n",
      "Transformation completed.\n",
      ">>>> Starting to encode the features ...\n",
      "Starting transformations...\n",
      "Dropping 'id' column...\n",
      "Performing dummy encoding on 'vendor_id' column...\n",
      "Performing dummy encoding on 'store_and_fwd_flag' column...\n",
      "Performing cyclical encoding on 'pickup_month' column...\n",
      "Cyclical encoding for 'pickup_month' completed.\n",
      "Performing cyclical encoding on 'pickup_day' column...\n",
      "Cyclical encoding for 'pickup_day' completed.\n",
      "Performing cyclical encoding on 'pickup_day_of_week' column...\n",
      "Cyclical encoding for 'pickup_day_of_week' completed.\n",
      "Performing cyclical encoding on 'pickup_hour' column...\n",
      "Cyclical encoding for 'pickup_hour' completed.\n",
      "Dropping original columns after encoding...\n",
      "Transformation completed.\n",
      "CPU times: total: 5.09 s\n",
      "Wall time: 5.25 s\n"
     ]
    }
   ],
   "source": [
    "%%time\n",
    "feature_encoding = FeatureEncoding()\n",
    "X_train = feature_encoding.transform(X_train)\n",
    "X_test = feature_encoding.transform(X_test)"
   ]
  },
  {
   "cell_type": "code",
   "execution_count": 10,
   "id": "5f640e2b-5967-44ff-8534-b978e6a6cb5e",
   "metadata": {},
   "outputs": [
    {
     "name": "stdout",
     "output_type": "stream",
     "text": [
      "<class 'pandas.core.frame.DataFrame'>\n",
      "Int64Index: 1166915 entries, 1053743 to 121958\n",
      "Data columns (total 15 columns):\n",
      " #   Column                  Non-Null Count    Dtype  \n",
      "---  ------                  --------------    -----  \n",
      " 0   passenger_count         1166915 non-null  int64  \n",
      " 1   pickup_longitude        1166915 non-null  float64\n",
      " 2   pickup_latitude         1166915 non-null  float64\n",
      " 3   dropoff_longitude       1166915 non-null  float64\n",
      " 4   dropoff_latitude        1166915 non-null  float64\n",
      " 5   vendor_id_2             1166915 non-null  uint8  \n",
      " 6   store_and_fwd_flag_Y    1166915 non-null  uint8  \n",
      " 7   pickup_month_sin        1166915 non-null  float64\n",
      " 8   pickup_month_cos        1166915 non-null  float64\n",
      " 9   pickup_day_sin          1166915 non-null  float64\n",
      " 10  pickup_day_cos          1166915 non-null  float64\n",
      " 11  pickup_day_of_week_sin  1166915 non-null  float64\n",
      " 12  pickup_day_of_week_cos  1166915 non-null  float64\n",
      " 13  pickup_hour_sin         1166915 non-null  float64\n",
      " 14  pickup_hour_cos         1166915 non-null  float64\n",
      "dtypes: float64(12), int64(1), uint8(2)\n",
      "memory usage: 126.9 MB\n"
     ]
    }
   ],
   "source": [
    "X_train.info()"
   ]
  },
  {
   "cell_type": "code",
   "execution_count": 11,
   "id": "fd5027a0-292d-49ee-a154-352ccffae082",
   "metadata": {},
   "outputs": [
    {
     "name": "stdout",
     "output_type": "stream",
     "text": [
      "<class 'pandas.core.frame.DataFrame'>\n",
      "Int64Index: 291729 entries, 67250 to 589044\n",
      "Data columns (total 15 columns):\n",
      " #   Column                  Non-Null Count   Dtype  \n",
      "---  ------                  --------------   -----  \n",
      " 0   passenger_count         291729 non-null  int64  \n",
      " 1   pickup_longitude        291729 non-null  float64\n",
      " 2   pickup_latitude         291729 non-null  float64\n",
      " 3   dropoff_longitude       291729 non-null  float64\n",
      " 4   dropoff_latitude        291729 non-null  float64\n",
      " 5   vendor_id_2             291729 non-null  uint8  \n",
      " 6   store_and_fwd_flag_Y    291729 non-null  uint8  \n",
      " 7   pickup_month_sin        291729 non-null  float64\n",
      " 8   pickup_month_cos        291729 non-null  float64\n",
      " 9   pickup_day_sin          291729 non-null  float64\n",
      " 10  pickup_day_cos          291729 non-null  float64\n",
      " 11  pickup_day_of_week_sin  291729 non-null  float64\n",
      " 12  pickup_day_of_week_cos  291729 non-null  float64\n",
      " 13  pickup_hour_sin         291729 non-null  float64\n",
      " 14  pickup_hour_cos         291729 non-null  float64\n",
      "dtypes: float64(12), int64(1), uint8(2)\n",
      "memory usage: 31.7 MB\n"
     ]
    }
   ],
   "source": [
    "X_test.info()"
   ]
  },
  {
   "cell_type": "code",
   "execution_count": 12,
   "id": "5d8b7eef-cfa5-4cc0-88ea-f2d94310af02",
   "metadata": {},
   "outputs": [],
   "source": [
    "# Define models\n",
    "models = [\n",
    "    ('LR', LinearRegression()),\n",
    "    ('DTR', DecisionTreeRegressor()),\n",
    "    ('XGBR', XGBRegressor())\n",
    "]"
   ]
  },
  {
   "cell_type": "code",
   "execution_count": 13,
   "id": "02a8fea2-a57d-460d-bf50-9fa4ebd54a77",
   "metadata": {},
   "outputs": [
    {
     "name": "stdout",
     "output_type": "stream",
     "text": [
      "LR - RMSLE: 0.8646, Fit time: 1.6810 seconds\n",
      "DTR - RMSLE: 0.6242, Fit time: 52.5158 seconds\n",
      "XGBR - RMSLE: 0.7075, Fit time: 10.8571 seconds\n"
     ]
    }
   ],
   "source": [
    "stage_1 = evaluate_models(models, X_train, y_train, X_test, y_test)"
   ]
  },
  {
   "cell_type": "code",
   "execution_count": 14,
   "id": "3febf3b0-646b-4134-b741-e3ab775b5b30",
   "metadata": {},
   "outputs": [
    {
     "name": "stdout",
     "output_type": "stream",
     "text": [
      "LR - RMSLE: 0.8646, Fit time: 1.6810 seconds\n",
      "DTR - RMSLE: 0.6242, Fit time: 52.5158 seconds\n",
      "XGBR - RMSLE: 0.7075, Fit time: 10.8571 seconds\n"
     ]
    }
   ],
   "source": [
    "print(stage_1)"
   ]
  },
  {
   "cell_type": "markdown",
   "id": "19527c65-1f1f-4aa4-987e-f73773c3cd01",
   "metadata": {
    "jp-MarkdownHeadingCollapsed": true
   },
   "source": [
    "### Stage 2: Adding distance_osrm Feature"
   ]
  },
  {
   "cell_type": "code",
   "execution_count": 1,
   "id": "72d8a956-4faf-47c7-a755-84640092be2e",
   "metadata": {},
   "outputs": [
    {
     "name": "stdout",
     "output_type": "stream",
     "text": [
      "<class 'pandas.core.frame.DataFrame'>\n",
      "RangeIndex: 1458644 entries, 0 to 1458643\n",
      "Data columns (total 14 columns):\n",
      " #   Column                   Non-Null Count    Dtype  \n",
      "---  ------                   --------------    -----  \n",
      " 0   id                       1458644 non-null  object \n",
      " 1   vendor_id                1458644 non-null  int64  \n",
      " 2   pickup_datetime          1458644 non-null  object \n",
      " 3   dropoff_datetime         1458644 non-null  object \n",
      " 4   passenger_count          1458644 non-null  int64  \n",
      " 5   pickup_longitude         1458644 non-null  float64\n",
      " 6   pickup_latitude          1458644 non-null  float64\n",
      " 7   dropoff_longitude        1458644 non-null  float64\n",
      " 8   dropoff_latitude         1458644 non-null  float64\n",
      " 9   store_and_fwd_flag       1458644 non-null  object \n",
      " 10  trip_duration            1458644 non-null  int64  \n",
      " 11  distance_osrm            1458627 non-null  float64\n",
      " 12  pickup_dist_NYC_center   1458644 non-null  float64\n",
      " 13  dropoff_dist_NYC_center  1458644 non-null  float64\n",
      "dtypes: float64(7), int64(3), object(4)\n",
      "memory usage: 155.8+ MB\n"
     ]
    }
   ],
   "source": [
    "from playground import *\n",
    "df = pd.read_csv(\"csv_ml/eda_01.csv\")\n",
    "df.info()"
   ]
  },
  {
   "cell_type": "code",
   "execution_count": 2,
   "id": "5393f271-9922-49b9-bf38-5284c0ec16cb",
   "metadata": {},
   "outputs": [],
   "source": [
    "# specific condition: because some models cannot process missing values\n",
    "df.dropna(subset=['distance_osrm'], inplace=True)"
   ]
  },
  {
   "cell_type": "code",
   "execution_count": 3,
   "id": "1020816f-04f8-4b76-883c-afbcf0b02d3a",
   "metadata": {},
   "outputs": [],
   "source": [
    "X = df.drop(columns=\"trip_duration\", axis=1)\n",
    "y = df[\"trip_duration\"]"
   ]
  },
  {
   "cell_type": "code",
   "execution_count": 4,
   "id": "41a80229-abb7-4982-a510-a5ca7eff4618",
   "metadata": {},
   "outputs": [],
   "source": [
    "X_train, X_test, y_train, y_test = train_test_split(X, y, test_size = 0.20, random_state = 42)"
   ]
  },
  {
   "cell_type": "code",
   "execution_count": 5,
   "id": "acd39497-c426-435e-9920-136e4e16d5bd",
   "metadata": {},
   "outputs": [],
   "source": [
    "cols_to_drop = ['pickup_dist_NYC_center', 'dropoff_dist_NYC_center']\n",
    "X_train.drop(cols_to_drop, axis=1, inplace=True)\n",
    "X_test.drop(cols_to_drop, axis=1, inplace=True)"
   ]
  },
  {
   "cell_type": "code",
   "execution_count": 6,
   "id": "10d90efc-fad3-4e5d-9208-06c91d22e343",
   "metadata": {},
   "outputs": [
    {
     "name": "stdout",
     "output_type": "stream",
     "text": [
      ">>>> Starting the process of removing duplicates ...\n",
      "No duplicates found.\n",
      "CPU times: total: 4.94 s\n",
      "Wall time: 5.13 s\n"
     ]
    }
   ],
   "source": [
    "%%time\n",
    "rm_duplicates = RemoveDuplicates()\n",
    "X_train, y_train = rm_duplicates.transform(X_train, y_train)"
   ]
  },
  {
   "cell_type": "code",
   "execution_count": 7,
   "id": "82ff5870-9f35-460a-ba97-e13066234db6",
   "metadata": {},
   "outputs": [
    {
     "name": "stdout",
     "output_type": "stream",
     "text": [
      ">>>> Starting data type conversion process...\n",
      "Column 'vendor_id' changed from int64 to object\n",
      "Column 'pickup_datetime' changed from object to datetime64[ns]\n",
      "Column 'dropoff_datetime' changed from object to datetime64[ns]\n",
      ">>>> Starting data type conversion process...\n",
      "Column 'vendor_id' changed from int64 to object\n",
      "Column 'pickup_datetime' changed from object to datetime64[ns]\n",
      "Column 'dropoff_datetime' changed from object to datetime64[ns]\n",
      "CPU times: total: 6.06 s\n",
      "Wall time: 6.59 s\n"
     ]
    }
   ],
   "source": [
    "%%time\n",
    "to_dtypes = ToDataTypes()\n",
    "X_train, y_train = to_dtypes.transform(X_train, y_train)\n",
    "X_test, y_test = to_dtypes.transform(X_test, y_test)"
   ]
  },
  {
   "cell_type": "code",
   "execution_count": 8,
   "id": "0f571d4c-1a0c-48be-9f9c-9d6c5d3950e0",
   "metadata": {},
   "outputs": [
    {
     "name": "stdout",
     "output_type": "stream",
     "text": [
      ">>>> Starting datetime feature extraction...\n",
      "Extracted features: ['pickup_month', 'pickup_day', 'pickup_day_of_week', 'pickup_hour']\n",
      "Dropped columns: ['pickup_datetime', 'dropoff_datetime']\n",
      ">>>> Starting datetime feature extraction...\n",
      "Extracted features: ['pickup_month', 'pickup_day', 'pickup_day_of_week', 'pickup_hour']\n",
      "Dropped columns: ['pickup_datetime', 'dropoff_datetime']\n",
      "CPU times: total: 6.39 s\n",
      "Wall time: 8.03 s\n"
     ]
    }
   ],
   "source": [
    "%%time\n",
    "datetime_break = DateTimeBreak()\n",
    "X_train = datetime_break.transform(X_train)\n",
    "X_test = datetime_break.transform(X_test)"
   ]
  },
  {
   "cell_type": "code",
   "execution_count": 9,
   "id": "11fb97b5-d715-4555-950b-e7de69bedc2a",
   "metadata": {},
   "outputs": [
    {
     "name": "stdout",
     "output_type": "stream",
     "text": [
      ">>>> Starting to encode the features ...\n",
      "Starting transformations...\n",
      "Dropping 'id' column...\n",
      "Performing dummy encoding on 'vendor_id' column...\n",
      "Performing dummy encoding on 'store_and_fwd_flag' column...\n",
      "Performing cyclical encoding on 'pickup_month' column...\n",
      "Cyclical encoding for 'pickup_month' completed.\n",
      "Performing cyclical encoding on 'pickup_day' column...\n",
      "Cyclical encoding for 'pickup_day' completed.\n",
      "Performing cyclical encoding on 'pickup_day_of_week' column...\n",
      "Cyclical encoding for 'pickup_day_of_week' completed.\n",
      "Performing cyclical encoding on 'pickup_hour' column...\n",
      "Cyclical encoding for 'pickup_hour' completed.\n",
      "Dropping original columns after encoding...\n",
      "Transformation completed.\n",
      ">>>> Starting to encode the features ...\n",
      "Starting transformations...\n",
      "Dropping 'id' column...\n",
      "Performing dummy encoding on 'vendor_id' column...\n",
      "Performing dummy encoding on 'store_and_fwd_flag' column...\n",
      "Performing cyclical encoding on 'pickup_month' column...\n",
      "Cyclical encoding for 'pickup_month' completed.\n",
      "Performing cyclical encoding on 'pickup_day' column...\n",
      "Cyclical encoding for 'pickup_day' completed.\n",
      "Performing cyclical encoding on 'pickup_day_of_week' column...\n",
      "Cyclical encoding for 'pickup_day_of_week' completed.\n",
      "Performing cyclical encoding on 'pickup_hour' column...\n",
      "Cyclical encoding for 'pickup_hour' completed.\n",
      "Dropping original columns after encoding...\n",
      "Transformation completed.\n",
      "CPU times: total: 5.69 s\n",
      "Wall time: 6.21 s\n"
     ]
    }
   ],
   "source": [
    "%%time\n",
    "feature_encoding = FeatureEncoding()\n",
    "X_train = feature_encoding.transform(X_train)\n",
    "X_test = feature_encoding.transform(X_test)"
   ]
  },
  {
   "cell_type": "code",
   "execution_count": 10,
   "id": "2e890dc1-08b0-4927-9f74-c16233134241",
   "metadata": {},
   "outputs": [
    {
     "name": "stdout",
     "output_type": "stream",
     "text": [
      "<class 'pandas.core.frame.DataFrame'>\n",
      "Int64Index: 1166901 entries, 865804 to 121962\n",
      "Data columns (total 16 columns):\n",
      " #   Column                  Non-Null Count    Dtype  \n",
      "---  ------                  --------------    -----  \n",
      " 0   passenger_count         1166901 non-null  int64  \n",
      " 1   pickup_longitude        1166901 non-null  float64\n",
      " 2   pickup_latitude         1166901 non-null  float64\n",
      " 3   dropoff_longitude       1166901 non-null  float64\n",
      " 4   dropoff_latitude        1166901 non-null  float64\n",
      " 5   distance_osrm           1166901 non-null  float64\n",
      " 6   vendor_id_2             1166901 non-null  uint8  \n",
      " 7   store_and_fwd_flag_Y    1166901 non-null  uint8  \n",
      " 8   pickup_month_sin        1166901 non-null  float64\n",
      " 9   pickup_month_cos        1166901 non-null  float64\n",
      " 10  pickup_day_sin          1166901 non-null  float64\n",
      " 11  pickup_day_cos          1166901 non-null  float64\n",
      " 12  pickup_day_of_week_sin  1166901 non-null  float64\n",
      " 13  pickup_day_of_week_cos  1166901 non-null  float64\n",
      " 14  pickup_hour_sin         1166901 non-null  float64\n",
      " 15  pickup_hour_cos         1166901 non-null  float64\n",
      "dtypes: float64(13), int64(1), uint8(2)\n",
      "memory usage: 135.8 MB\n"
     ]
    }
   ],
   "source": [
    "X_train.info()"
   ]
  },
  {
   "cell_type": "code",
   "execution_count": 11,
   "id": "defee82f-58fb-48f7-acb7-65b3e2ae0c31",
   "metadata": {},
   "outputs": [
    {
     "name": "stdout",
     "output_type": "stream",
     "text": [
      "<class 'pandas.core.frame.DataFrame'>\n",
      "Int64Index: 291726 entries, 64778 to 1119119\n",
      "Data columns (total 16 columns):\n",
      " #   Column                  Non-Null Count   Dtype  \n",
      "---  ------                  --------------   -----  \n",
      " 0   passenger_count         291726 non-null  int64  \n",
      " 1   pickup_longitude        291726 non-null  float64\n",
      " 2   pickup_latitude         291726 non-null  float64\n",
      " 3   dropoff_longitude       291726 non-null  float64\n",
      " 4   dropoff_latitude        291726 non-null  float64\n",
      " 5   distance_osrm           291726 non-null  float64\n",
      " 6   vendor_id_2             291726 non-null  uint8  \n",
      " 7   store_and_fwd_flag_Y    291726 non-null  uint8  \n",
      " 8   pickup_month_sin        291726 non-null  float64\n",
      " 9   pickup_month_cos        291726 non-null  float64\n",
      " 10  pickup_day_sin          291726 non-null  float64\n",
      " 11  pickup_day_cos          291726 non-null  float64\n",
      " 12  pickup_day_of_week_sin  291726 non-null  float64\n",
      " 13  pickup_day_of_week_cos  291726 non-null  float64\n",
      " 14  pickup_hour_sin         291726 non-null  float64\n",
      " 15  pickup_hour_cos         291726 non-null  float64\n",
      "dtypes: float64(13), int64(1), uint8(2)\n",
      "memory usage: 33.9 MB\n"
     ]
    }
   ],
   "source": [
    "X_test.info()"
   ]
  },
  {
   "cell_type": "code",
   "execution_count": 12,
   "id": "0affb76d-1f89-4a56-a7d3-a016a38c6a74",
   "metadata": {},
   "outputs": [],
   "source": [
    "# Define models\n",
    "models = [\n",
    "    ('LR', LinearRegression()),\n",
    "    ('DTR', DecisionTreeRegressor()),\n",
    "    ('XGBR', XGBRegressor())\n",
    "]"
   ]
  },
  {
   "cell_type": "code",
   "execution_count": 13,
   "id": "66202bcb-3d5e-418f-a38b-93d1756c73e3",
   "metadata": {},
   "outputs": [
    {
     "name": "stdout",
     "output_type": "stream",
     "text": [
      "LR - RMSLE: 0.6594, Fit time: 1.6992 seconds\n",
      "DTR - RMSLE: 0.5957, Fit time: 51.1731 seconds\n",
      "XGBR - RMSLE: 0.6944, Fit time: 11.4793 seconds\n"
     ]
    }
   ],
   "source": [
    "stage_2 = evaluate_models(models, X_train, y_train, X_test, y_test)"
   ]
  },
  {
   "cell_type": "markdown",
   "id": "e4079514-70db-49cd-943c-5dd40106b539",
   "metadata": {
    "jp-MarkdownHeadingCollapsed": true
   },
   "source": [
    "### Stage 3: Missing Value Imputation"
   ]
  },
  {
   "cell_type": "code",
   "execution_count": 1,
   "id": "437ecfa4-72aa-4f21-87c2-b8ba7a06ded2",
   "metadata": {},
   "outputs": [
    {
     "name": "stdout",
     "output_type": "stream",
     "text": [
      "<class 'pandas.core.frame.DataFrame'>\n",
      "RangeIndex: 1458644 entries, 0 to 1458643\n",
      "Data columns (total 14 columns):\n",
      " #   Column                   Non-Null Count    Dtype  \n",
      "---  ------                   --------------    -----  \n",
      " 0   id                       1458644 non-null  object \n",
      " 1   vendor_id                1458644 non-null  int64  \n",
      " 2   pickup_datetime          1458644 non-null  object \n",
      " 3   dropoff_datetime         1458644 non-null  object \n",
      " 4   passenger_count          1458644 non-null  int64  \n",
      " 5   pickup_longitude         1458644 non-null  float64\n",
      " 6   pickup_latitude          1458644 non-null  float64\n",
      " 7   dropoff_longitude        1458644 non-null  float64\n",
      " 8   dropoff_latitude         1458644 non-null  float64\n",
      " 9   store_and_fwd_flag       1458644 non-null  object \n",
      " 10  trip_duration            1458644 non-null  int64  \n",
      " 11  distance_osrm            1458627 non-null  float64\n",
      " 12  pickup_dist_NYC_center   1458644 non-null  float64\n",
      " 13  dropoff_dist_NYC_center  1458644 non-null  float64\n",
      "dtypes: float64(7), int64(3), object(4)\n",
      "memory usage: 155.8+ MB\n"
     ]
    }
   ],
   "source": [
    "from playground import *\n",
    "df = pd.read_csv(\"csv_ml/eda_01.csv\")\n",
    "df.info()"
   ]
  },
  {
   "cell_type": "code",
   "execution_count": 2,
   "id": "3da866b6-6995-4bbc-8180-00b923586e35",
   "metadata": {},
   "outputs": [],
   "source": [
    "X = df.drop(columns=\"trip_duration\", axis=1)\n",
    "y = df[\"trip_duration\"]"
   ]
  },
  {
   "cell_type": "code",
   "execution_count": 3,
   "id": "beb1af75-8471-4394-b5dc-dddfc6e5804d",
   "metadata": {},
   "outputs": [],
   "source": [
    "X_train, X_test, y_train, y_test = train_test_split(X, y, test_size = 0.20, random_state = 42)"
   ]
  },
  {
   "cell_type": "code",
   "execution_count": 4,
   "id": "81ccdd62-d308-4870-a2bd-edc93598230e",
   "metadata": {},
   "outputs": [],
   "source": [
    "cols_to_drop = ['pickup_dist_NYC_center', 'dropoff_dist_NYC_center']\n",
    "X_train.drop(cols_to_drop, axis=1, inplace=True)\n",
    "X_test.drop(cols_to_drop, axis=1, inplace=True)"
   ]
  },
  {
   "cell_type": "code",
   "execution_count": 5,
   "id": "c46a2621-77c8-4c46-9253-7805af0ddfe6",
   "metadata": {},
   "outputs": [
    {
     "name": "stdout",
     "output_type": "stream",
     "text": [
      ">>>> Starting the process of removing duplicates ...\n",
      "No duplicates found.\n",
      "CPU times: total: 4.64 s\n",
      "Wall time: 4.69 s\n"
     ]
    }
   ],
   "source": [
    "%%time\n",
    "rm_duplicates = RemoveDuplicates()\n",
    "X_train, y_train = rm_duplicates.transform(X_train, y_train)"
   ]
  },
  {
   "cell_type": "code",
   "execution_count": 6,
   "id": "7f812eeb-84ee-4488-ac1f-989b45dad7a3",
   "metadata": {},
   "outputs": [
    {
     "name": "stdout",
     "output_type": "stream",
     "text": [
      ">>>> Starting data type conversion process...\n",
      "Column 'vendor_id' changed from int64 to object\n",
      "Column 'pickup_datetime' changed from object to datetime64[ns]\n",
      "Column 'dropoff_datetime' changed from object to datetime64[ns]\n",
      ">>>> Starting data type conversion process...\n",
      "Column 'vendor_id' changed from int64 to object\n",
      "Column 'pickup_datetime' changed from object to datetime64[ns]\n",
      "Column 'dropoff_datetime' changed from object to datetime64[ns]\n",
      "CPU times: total: 6.5 s\n",
      "Wall time: 7.52 s\n"
     ]
    }
   ],
   "source": [
    "%%time\n",
    "to_dtypes = ToDataTypes()\n",
    "X_train, y_train = to_dtypes.transform(X_train, y_train)\n",
    "X_test, y_test = to_dtypes.transform(X_test, y_test)"
   ]
  },
  {
   "cell_type": "code",
   "execution_count": 7,
   "id": "4c2757ba-025c-4ca4-aa8d-77f10dc239d5",
   "metadata": {},
   "outputs": [
    {
     "name": "stdout",
     "output_type": "stream",
     "text": [
      ">>>> Starting datetime feature extraction...\n",
      "Extracted features: ['pickup_month', 'pickup_day', 'pickup_day_of_week', 'pickup_hour']\n",
      "Dropped columns: ['pickup_datetime', 'dropoff_datetime']\n",
      ">>>> Starting datetime feature extraction...\n",
      "Extracted features: ['pickup_month', 'pickup_day', 'pickup_day_of_week', 'pickup_hour']\n",
      "Dropped columns: ['pickup_datetime', 'dropoff_datetime']\n",
      "CPU times: total: 5.61 s\n",
      "Wall time: 5.88 s\n"
     ]
    }
   ],
   "source": [
    "%%time\n",
    "datetime_break = DateTimeBreak()\n",
    "X_train = datetime_break.transform(X_train)\n",
    "X_test = datetime_break.transform(X_test)"
   ]
  },
  {
   "cell_type": "code",
   "execution_count": 8,
   "id": "aef9c4ed-0c4f-4aea-83d5-01a88d95b360",
   "metadata": {},
   "outputs": [
    {
     "name": "stdout",
     "output_type": "stream",
     "text": [
      "CPU times: total: 0 ns\n",
      "Wall time: 0 ns\n",
      ">>>> Starting missing value imputation...\n",
      "Dropped 16 entries (0.00%) from column 'distance_osrm' due to missing values.\n",
      "Initial data length: 1166915\n",
      "Removed data: 16 (0.00%)\n",
      "Final data length: 1166899\n",
      ">>>> Starting missing value imputation...\n",
      "Dropped 1 entries (0.00%) from column 'distance_osrm' due to missing values.\n",
      "Initial data length: 291729\n",
      "Removed data: 1 (0.00%)\n",
      "Final data length: 291728\n"
     ]
    }
   ],
   "source": [
    "%time\n",
    "miss_val_input = MissValInput()\n",
    "X_train, y_train = miss_val_input.fit_transform(X_train, y_train)\n",
    "X_test, y_test = miss_val_input.transform(X_test, y_test)"
   ]
  },
  {
   "cell_type": "code",
   "execution_count": 9,
   "id": "645af8f4-208f-4f2b-866e-864292ea2dc7",
   "metadata": {},
   "outputs": [
    {
     "name": "stdout",
     "output_type": "stream",
     "text": [
      ">>>> Starting to encode the features ...\n",
      "Starting transformations...\n",
      "Dropping 'id' column...\n",
      "Performing dummy encoding on 'vendor_id' column...\n",
      "Performing dummy encoding on 'store_and_fwd_flag' column...\n",
      "Performing cyclical encoding on 'pickup_month' column...\n",
      "Cyclical encoding for 'pickup_month' completed.\n",
      "Performing cyclical encoding on 'pickup_day' column...\n",
      "Cyclical encoding for 'pickup_day' completed.\n",
      "Performing cyclical encoding on 'pickup_day_of_week' column...\n",
      "Cyclical encoding for 'pickup_day_of_week' completed.\n",
      "Performing cyclical encoding on 'pickup_hour' column...\n",
      "Cyclical encoding for 'pickup_hour' completed.\n",
      "Dropping original columns after encoding...\n",
      "Transformation completed.\n",
      ">>>> Starting to encode the features ...\n",
      "Starting transformations...\n",
      "Dropping 'id' column...\n",
      "Performing dummy encoding on 'vendor_id' column...\n",
      "Performing dummy encoding on 'store_and_fwd_flag' column...\n",
      "Performing cyclical encoding on 'pickup_month' column...\n",
      "Cyclical encoding for 'pickup_month' completed.\n",
      "Performing cyclical encoding on 'pickup_day' column...\n",
      "Cyclical encoding for 'pickup_day' completed.\n",
      "Performing cyclical encoding on 'pickup_day_of_week' column...\n",
      "Cyclical encoding for 'pickup_day_of_week' completed.\n",
      "Performing cyclical encoding on 'pickup_hour' column...\n",
      "Cyclical encoding for 'pickup_hour' completed.\n",
      "Dropping original columns after encoding...\n",
      "Transformation completed.\n",
      "CPU times: total: 4.59 s\n",
      "Wall time: 4.69 s\n"
     ]
    }
   ],
   "source": [
    "%%time\n",
    "feature_encoding = FeatureEncoding()\n",
    "X_train = feature_encoding.transform(X_train)\n",
    "X_test = feature_encoding.transform(X_test)"
   ]
  },
  {
   "cell_type": "code",
   "execution_count": 10,
   "id": "fafbe479-f7f0-49e1-86d5-2405833666e8",
   "metadata": {},
   "outputs": [
    {
     "name": "stdout",
     "output_type": "stream",
     "text": [
      "<class 'pandas.core.frame.DataFrame'>\n",
      "Int64Index: 1166899 entries, 1053743 to 121958\n",
      "Data columns (total 16 columns):\n",
      " #   Column                  Non-Null Count    Dtype  \n",
      "---  ------                  --------------    -----  \n",
      " 0   passenger_count         1166899 non-null  int64  \n",
      " 1   pickup_longitude        1166899 non-null  float64\n",
      " 2   pickup_latitude         1166899 non-null  float64\n",
      " 3   dropoff_longitude       1166899 non-null  float64\n",
      " 4   dropoff_latitude        1166899 non-null  float64\n",
      " 5   distance_osrm           1166899 non-null  float64\n",
      " 6   vendor_id_2             1166899 non-null  uint8  \n",
      " 7   store_and_fwd_flag_Y    1166899 non-null  uint8  \n",
      " 8   pickup_month_sin        1166899 non-null  float64\n",
      " 9   pickup_month_cos        1166899 non-null  float64\n",
      " 10  pickup_day_sin          1166899 non-null  float64\n",
      " 11  pickup_day_cos          1166899 non-null  float64\n",
      " 12  pickup_day_of_week_sin  1166899 non-null  float64\n",
      " 13  pickup_day_of_week_cos  1166899 non-null  float64\n",
      " 14  pickup_hour_sin         1166899 non-null  float64\n",
      " 15  pickup_hour_cos         1166899 non-null  float64\n",
      "dtypes: float64(13), int64(1), uint8(2)\n",
      "memory usage: 135.8 MB\n"
     ]
    }
   ],
   "source": [
    "X_train.info()"
   ]
  },
  {
   "cell_type": "code",
   "execution_count": 11,
   "id": "080cfc16-8573-4c35-94f6-e21e106fe6e2",
   "metadata": {},
   "outputs": [
    {
     "name": "stdout",
     "output_type": "stream",
     "text": [
      "<class 'pandas.core.frame.DataFrame'>\n",
      "Int64Index: 291728 entries, 67250 to 589044\n",
      "Data columns (total 16 columns):\n",
      " #   Column                  Non-Null Count   Dtype  \n",
      "---  ------                  --------------   -----  \n",
      " 0   passenger_count         291728 non-null  int64  \n",
      " 1   pickup_longitude        291728 non-null  float64\n",
      " 2   pickup_latitude         291728 non-null  float64\n",
      " 3   dropoff_longitude       291728 non-null  float64\n",
      " 4   dropoff_latitude        291728 non-null  float64\n",
      " 5   distance_osrm           291728 non-null  float64\n",
      " 6   vendor_id_2             291728 non-null  uint8  \n",
      " 7   store_and_fwd_flag_Y    291728 non-null  uint8  \n",
      " 8   pickup_month_sin        291728 non-null  float64\n",
      " 9   pickup_month_cos        291728 non-null  float64\n",
      " 10  pickup_day_sin          291728 non-null  float64\n",
      " 11  pickup_day_cos          291728 non-null  float64\n",
      " 12  pickup_day_of_week_sin  291728 non-null  float64\n",
      " 13  pickup_day_of_week_cos  291728 non-null  float64\n",
      " 14  pickup_hour_sin         291728 non-null  float64\n",
      " 15  pickup_hour_cos         291728 non-null  float64\n",
      "dtypes: float64(13), int64(1), uint8(2)\n",
      "memory usage: 33.9 MB\n"
     ]
    }
   ],
   "source": [
    "X_test.info()"
   ]
  },
  {
   "cell_type": "code",
   "execution_count": 12,
   "id": "ac97c120-5557-4b3c-9030-b0783fd5d6b3",
   "metadata": {},
   "outputs": [],
   "source": [
    "# Define models\n",
    "models = [\n",
    "    ('LR', LinearRegression()),\n",
    "    ('DTR', DecisionTreeRegressor()),\n",
    "    ('XGBR', XGBRegressor())\n",
    "]"
   ]
  },
  {
   "cell_type": "code",
   "execution_count": 13,
   "id": "0312d226-96e3-41b4-b808-f476fb588bbc",
   "metadata": {},
   "outputs": [
    {
     "name": "stdout",
     "output_type": "stream",
     "text": [
      "LR - RMSLE: 0.6560, Fit time: 1.3997 seconds\n",
      "DTR - RMSLE: 0.5937, Fit time: 46.4586 seconds\n",
      "XGBR - RMSLE: 0.7084, Fit time: 12.4147 seconds\n"
     ]
    }
   ],
   "source": [
    "stage_3 = evaluate_models(models, X_train, y_train, X_test, y_test)"
   ]
  },
  {
   "cell_type": "markdown",
   "id": "e529532a-adcf-409a-abd2-077ca0d6cc2d",
   "metadata": {
    "jp-MarkdownHeadingCollapsed": true
   },
   "source": [
    "### Stage 4: Adding speed_osrm Feature"
   ]
  },
  {
   "cell_type": "code",
   "execution_count": 1,
   "id": "05b11379-0647-4323-bd76-4c43152bb8e0",
   "metadata": {},
   "outputs": [
    {
     "name": "stdout",
     "output_type": "stream",
     "text": [
      "<class 'pandas.core.frame.DataFrame'>\n",
      "RangeIndex: 1458644 entries, 0 to 1458643\n",
      "Data columns (total 14 columns):\n",
      " #   Column                   Non-Null Count    Dtype  \n",
      "---  ------                   --------------    -----  \n",
      " 0   id                       1458644 non-null  object \n",
      " 1   vendor_id                1458644 non-null  int64  \n",
      " 2   pickup_datetime          1458644 non-null  object \n",
      " 3   dropoff_datetime         1458644 non-null  object \n",
      " 4   passenger_count          1458644 non-null  int64  \n",
      " 5   pickup_longitude         1458644 non-null  float64\n",
      " 6   pickup_latitude          1458644 non-null  float64\n",
      " 7   dropoff_longitude        1458644 non-null  float64\n",
      " 8   dropoff_latitude         1458644 non-null  float64\n",
      " 9   store_and_fwd_flag       1458644 non-null  object \n",
      " 10  trip_duration            1458644 non-null  int64  \n",
      " 11  distance_osrm            1458627 non-null  float64\n",
      " 12  pickup_dist_NYC_center   1458644 non-null  float64\n",
      " 13  dropoff_dist_NYC_center  1458644 non-null  float64\n",
      "dtypes: float64(7), int64(3), object(4)\n",
      "memory usage: 155.8+ MB\n"
     ]
    }
   ],
   "source": [
    "from playground import *\n",
    "df = pd.read_csv(\"csv_ml/eda_01.csv\")\n",
    "df.info()"
   ]
  },
  {
   "cell_type": "code",
   "execution_count": 2,
   "id": "29647793-2e87-457a-92f1-fa49ad6a8155",
   "metadata": {},
   "outputs": [],
   "source": [
    "X = df.drop(columns=\"trip_duration\", axis=1)\n",
    "y = df[\"trip_duration\"]"
   ]
  },
  {
   "cell_type": "code",
   "execution_count": 3,
   "id": "f161001c-ae1e-4405-a4aa-1c16bf9ed44a",
   "metadata": {},
   "outputs": [],
   "source": [
    "X_train, X_test, y_train, y_test = train_test_split(X, y, test_size = 0.20, random_state = 42)"
   ]
  },
  {
   "cell_type": "code",
   "execution_count": 4,
   "id": "ebd321f3-2ae9-40e2-9bc1-4fe81d9b5499",
   "metadata": {},
   "outputs": [],
   "source": [
    "cols_to_drop = ['pickup_dist_NYC_center', 'dropoff_dist_NYC_center']\n",
    "X_train.drop(cols_to_drop, axis=1, inplace=True)\n",
    "X_test.drop(cols_to_drop, axis=1, inplace=True)"
   ]
  },
  {
   "cell_type": "code",
   "execution_count": 5,
   "id": "e9df88d3-ba4f-47aa-99f3-008fbdeb312b",
   "metadata": {},
   "outputs": [
    {
     "name": "stdout",
     "output_type": "stream",
     "text": [
      ">>>> Starting the process of removing duplicates ...\n",
      "No duplicates found.\n",
      "CPU times: total: 4.75 s\n",
      "Wall time: 4.93 s\n"
     ]
    }
   ],
   "source": [
    "%%time\n",
    "rm_duplicates = RemoveDuplicates()\n",
    "X_train, y_train = rm_duplicates.transform(X_train, y_train)"
   ]
  },
  {
   "cell_type": "code",
   "execution_count": 6,
   "id": "7e964415-8e15-4b34-a682-7e21d1404226",
   "metadata": {},
   "outputs": [
    {
     "name": "stdout",
     "output_type": "stream",
     "text": [
      ">>>> Starting data type conversion process...\n",
      "Column 'vendor_id' changed from int64 to object\n",
      "Column 'pickup_datetime' changed from object to datetime64[ns]\n",
      "Column 'dropoff_datetime' changed from object to datetime64[ns]\n",
      ">>>> Starting data type conversion process...\n",
      "Column 'vendor_id' changed from int64 to object\n",
      "Column 'pickup_datetime' changed from object to datetime64[ns]\n",
      "Column 'dropoff_datetime' changed from object to datetime64[ns]\n",
      "CPU times: total: 5.27 s\n",
      "Wall time: 5.44 s\n"
     ]
    }
   ],
   "source": [
    "%%time\n",
    "to_dtypes = ToDataTypes()\n",
    "X_train, y_train = to_dtypes.transform(X_train, y_train)\n",
    "X_test, y_test = to_dtypes.transform(X_test, y_test)"
   ]
  },
  {
   "cell_type": "code",
   "execution_count": 7,
   "id": "133cc20d-1ac4-4fad-b353-4207cfd16660",
   "metadata": {},
   "outputs": [
    {
     "name": "stdout",
     "output_type": "stream",
     "text": [
      ">>>> Starting datetime feature extraction...\n",
      "Extracted features: ['pickup_month', 'pickup_day', 'pickup_day_of_week', 'pickup_hour']\n",
      "Dropped columns: ['pickup_datetime', 'dropoff_datetime']\n",
      ">>>> Starting datetime feature extraction...\n",
      "Extracted features: ['pickup_month', 'pickup_day', 'pickup_day_of_week', 'pickup_hour']\n",
      "Dropped columns: ['pickup_datetime', 'dropoff_datetime']\n",
      "CPU times: total: 6.31 s\n",
      "Wall time: 6.74 s\n"
     ]
    }
   ],
   "source": [
    "%%time\n",
    "datetime_break = DateTimeBreak()\n",
    "X_train = datetime_break.transform(X_train)\n",
    "X_test = datetime_break.transform(X_test)"
   ]
  },
  {
   "cell_type": "code",
   "execution_count": 8,
   "id": "e47773e1-b7ba-4366-898f-74e75076fb9e",
   "metadata": {},
   "outputs": [
    {
     "name": "stdout",
     "output_type": "stream",
     "text": [
      "CPU times: total: 0 ns\n",
      "Wall time: 0 ns\n",
      ">>>> Starting missing value imputation...\n",
      "Dropped 16 entries (0.00%) from column 'distance_osrm' due to missing values.\n",
      "Initial data length: 1166915\n",
      "Removed data: 16 (0.00%)\n",
      "Final data length: 1166899\n",
      ">>>> Starting missing value imputation...\n",
      "Dropped 1 entries (0.00%) from column 'distance_osrm' due to missing values.\n",
      "Initial data length: 291729\n",
      "Removed data: 1 (0.00%)\n",
      "Final data length: 291728\n"
     ]
    }
   ],
   "source": [
    "%time\n",
    "miss_val_input = MissValInput()\n",
    "X_train, y_train = miss_val_input.fit_transform(X_train, y_train)\n",
    "X_test, y_test = miss_val_input.transform(X_test, y_test)"
   ]
  },
  {
   "cell_type": "code",
   "execution_count": 9,
   "id": "f91d1aad-9ba1-4416-8e00-41585599afc6",
   "metadata": {},
   "outputs": [
    {
     "name": "stdout",
     "output_type": "stream",
     "text": [
      "CPU times: total: 0 ns\n",
      "Wall time: 0 ns\n",
      ">>>> Starting speed derivation...\n",
      "Feature 'speed_osrm' has been created.\n",
      ">>>> Starting speed derivation...\n",
      "Feature 'speed_osrm' has been created.\n"
     ]
    }
   ],
   "source": [
    "%time\n",
    "speed_deriv = SpeedDeriv()\n",
    "X_train, y_train = speed_deriv.transform(X_train, y_train)\n",
    "X_test, y_test = speed_deriv.transform(X_test, y_test)"
   ]
  },
  {
   "cell_type": "code",
   "execution_count": 10,
   "id": "e34dd0d4-e31b-48de-88d2-7eaf4ed5f98a",
   "metadata": {},
   "outputs": [
    {
     "name": "stdout",
     "output_type": "stream",
     "text": [
      ">>>> Starting to encode the features ...\n",
      "Starting transformations...\n",
      "Dropping 'id' column...\n",
      "Performing dummy encoding on 'vendor_id' column...\n",
      "Performing dummy encoding on 'store_and_fwd_flag' column...\n",
      "Performing cyclical encoding on 'pickup_month' column...\n",
      "Cyclical encoding for 'pickup_month' completed.\n",
      "Performing cyclical encoding on 'pickup_day' column...\n",
      "Cyclical encoding for 'pickup_day' completed.\n",
      "Performing cyclical encoding on 'pickup_day_of_week' column...\n",
      "Cyclical encoding for 'pickup_day_of_week' completed.\n",
      "Performing cyclical encoding on 'pickup_hour' column...\n",
      "Cyclical encoding for 'pickup_hour' completed.\n",
      "Dropping original columns after encoding...\n",
      "Transformation completed.\n",
      ">>>> Starting to encode the features ...\n",
      "Starting transformations...\n",
      "Dropping 'id' column...\n",
      "Performing dummy encoding on 'vendor_id' column...\n",
      "Performing dummy encoding on 'store_and_fwd_flag' column...\n",
      "Performing cyclical encoding on 'pickup_month' column...\n",
      "Cyclical encoding for 'pickup_month' completed.\n",
      "Performing cyclical encoding on 'pickup_day' column...\n",
      "Cyclical encoding for 'pickup_day' completed.\n",
      "Performing cyclical encoding on 'pickup_day_of_week' column...\n",
      "Cyclical encoding for 'pickup_day_of_week' completed.\n",
      "Performing cyclical encoding on 'pickup_hour' column...\n",
      "Cyclical encoding for 'pickup_hour' completed.\n",
      "Dropping original columns after encoding...\n",
      "Transformation completed.\n",
      "CPU times: total: 5.3 s\n",
      "Wall time: 5.68 s\n"
     ]
    }
   ],
   "source": [
    "%%time\n",
    "feature_encoding = FeatureEncoding()\n",
    "X_train = feature_encoding.transform(X_train)\n",
    "X_test = feature_encoding.transform(X_test)"
   ]
  },
  {
   "cell_type": "code",
   "execution_count": 11,
   "id": "b05490f2-ec10-4a63-99c7-adc813780328",
   "metadata": {},
   "outputs": [
    {
     "name": "stdout",
     "output_type": "stream",
     "text": [
      "<class 'pandas.core.frame.DataFrame'>\n",
      "Int64Index: 1166899 entries, 1053743 to 121958\n",
      "Data columns (total 17 columns):\n",
      " #   Column                  Non-Null Count    Dtype  \n",
      "---  ------                  --------------    -----  \n",
      " 0   passenger_count         1166899 non-null  int64  \n",
      " 1   pickup_longitude        1166899 non-null  float64\n",
      " 2   pickup_latitude         1166899 non-null  float64\n",
      " 3   dropoff_longitude       1166899 non-null  float64\n",
      " 4   dropoff_latitude        1166899 non-null  float64\n",
      " 5   distance_osrm           1166899 non-null  float64\n",
      " 6   speed_osrm              1166899 non-null  float64\n",
      " 7   vendor_id_2             1166899 non-null  uint8  \n",
      " 8   store_and_fwd_flag_Y    1166899 non-null  uint8  \n",
      " 9   pickup_month_sin        1166899 non-null  float64\n",
      " 10  pickup_month_cos        1166899 non-null  float64\n",
      " 11  pickup_day_sin          1166899 non-null  float64\n",
      " 12  pickup_day_cos          1166899 non-null  float64\n",
      " 13  pickup_day_of_week_sin  1166899 non-null  float64\n",
      " 14  pickup_day_of_week_cos  1166899 non-null  float64\n",
      " 15  pickup_hour_sin         1166899 non-null  float64\n",
      " 16  pickup_hour_cos         1166899 non-null  float64\n",
      "dtypes: float64(14), int64(1), uint8(2)\n",
      "memory usage: 144.7 MB\n"
     ]
    }
   ],
   "source": [
    "X_train.info()"
   ]
  },
  {
   "cell_type": "code",
   "execution_count": 12,
   "id": "983ec2e5-c1a6-4747-9b7b-970d6f6be8c7",
   "metadata": {},
   "outputs": [
    {
     "name": "stdout",
     "output_type": "stream",
     "text": [
      "<class 'pandas.core.frame.DataFrame'>\n",
      "Int64Index: 291728 entries, 67250 to 589044\n",
      "Data columns (total 17 columns):\n",
      " #   Column                  Non-Null Count   Dtype  \n",
      "---  ------                  --------------   -----  \n",
      " 0   passenger_count         291728 non-null  int64  \n",
      " 1   pickup_longitude        291728 non-null  float64\n",
      " 2   pickup_latitude         291728 non-null  float64\n",
      " 3   dropoff_longitude       291728 non-null  float64\n",
      " 4   dropoff_latitude        291728 non-null  float64\n",
      " 5   distance_osrm           291728 non-null  float64\n",
      " 6   speed_osrm              291728 non-null  float64\n",
      " 7   vendor_id_2             291728 non-null  uint8  \n",
      " 8   store_and_fwd_flag_Y    291728 non-null  uint8  \n",
      " 9   pickup_month_sin        291728 non-null  float64\n",
      " 10  pickup_month_cos        291728 non-null  float64\n",
      " 11  pickup_day_sin          291728 non-null  float64\n",
      " 12  pickup_day_cos          291728 non-null  float64\n",
      " 13  pickup_day_of_week_sin  291728 non-null  float64\n",
      " 14  pickup_day_of_week_cos  291728 non-null  float64\n",
      " 15  pickup_hour_sin         291728 non-null  float64\n",
      " 16  pickup_hour_cos         291728 non-null  float64\n",
      "dtypes: float64(14), int64(1), uint8(2)\n",
      "memory usage: 36.2 MB\n"
     ]
    }
   ],
   "source": [
    "X_test.info()"
   ]
  },
  {
   "cell_type": "code",
   "execution_count": 13,
   "id": "598c11a8-8d7c-4d22-a3d5-e991a52d60db",
   "metadata": {},
   "outputs": [],
   "source": [
    "# Define models\n",
    "models = [\n",
    "    ('LR', LinearRegression()),\n",
    "    ('DTR', DecisionTreeRegressor()),\n",
    "    ('XGBR', XGBRegressor())\n",
    "]"
   ]
  },
  {
   "cell_type": "code",
   "execution_count": 14,
   "id": "682834b6-21f4-4fce-bb11-c1cdbe7bb94e",
   "metadata": {},
   "outputs": [
    {
     "name": "stdout",
     "output_type": "stream",
     "text": [
      "LR - RMSLE: 0.6235, Fit time: 1.8488 seconds\n",
      "DTR - RMSLE: 0.1430, Fit time: 48.4794 seconds\n",
      "XGBR - RMSLE: 0.2661, Fit time: 14.2972 seconds\n"
     ]
    }
   ],
   "source": [
    "stage_4 = evaluate_models(models, X_train, y_train, X_test, y_test)"
   ]
  },
  {
   "cell_type": "markdown",
   "id": "85ab7936-a217-45f8-832d-71f8023f9ed2",
   "metadata": {
    "jp-MarkdownHeadingCollapsed": true
   },
   "source": [
    "### Stage 5: Applying sensible restrictions to the Features"
   ]
  },
  {
   "cell_type": "code",
   "execution_count": 1,
   "id": "27e5fc39-70ed-4f63-a3da-280b0033d24b",
   "metadata": {},
   "outputs": [
    {
     "name": "stdout",
     "output_type": "stream",
     "text": [
      "<class 'pandas.core.frame.DataFrame'>\n",
      "RangeIndex: 1458644 entries, 0 to 1458643\n",
      "Data columns (total 14 columns):\n",
      " #   Column                   Non-Null Count    Dtype  \n",
      "---  ------                   --------------    -----  \n",
      " 0   id                       1458644 non-null  object \n",
      " 1   vendor_id                1458644 non-null  int64  \n",
      " 2   pickup_datetime          1458644 non-null  object \n",
      " 3   dropoff_datetime         1458644 non-null  object \n",
      " 4   passenger_count          1458644 non-null  int64  \n",
      " 5   pickup_longitude         1458644 non-null  float64\n",
      " 6   pickup_latitude          1458644 non-null  float64\n",
      " 7   dropoff_longitude        1458644 non-null  float64\n",
      " 8   dropoff_latitude         1458644 non-null  float64\n",
      " 9   store_and_fwd_flag       1458644 non-null  object \n",
      " 10  trip_duration            1458644 non-null  int64  \n",
      " 11  distance_osrm            1458627 non-null  float64\n",
      " 12  pickup_dist_NYC_center   1458644 non-null  float64\n",
      " 13  dropoff_dist_NYC_center  1458644 non-null  float64\n",
      "dtypes: float64(7), int64(3), object(4)\n",
      "memory usage: 155.8+ MB\n"
     ]
    }
   ],
   "source": [
    "from playground import *\n",
    "df = pd.read_csv(\"csv_ml/eda_01.csv\")\n",
    "df.info()"
   ]
  },
  {
   "cell_type": "code",
   "execution_count": 2,
   "id": "903461e1-28a0-4ac9-84d8-694174466147",
   "metadata": {},
   "outputs": [],
   "source": [
    "X = df.drop(columns=\"trip_duration\", axis=1)\n",
    "y = df[\"trip_duration\"]"
   ]
  },
  {
   "cell_type": "code",
   "execution_count": 3,
   "id": "a8031293-28c1-4de8-b6a7-49d053488fd4",
   "metadata": {},
   "outputs": [],
   "source": [
    "X_train, X_test, y_train, y_test = train_test_split(X, y, test_size = 0.20, random_state = 42)"
   ]
  },
  {
   "cell_type": "code",
   "execution_count": 4,
   "id": "f47d0d1f-9cd3-4a2e-a5ba-b5959599a3b9",
   "metadata": {},
   "outputs": [],
   "source": [
    "cols_to_drop = ['pickup_dist_NYC_center', 'dropoff_dist_NYC_center']\n",
    "X_train.drop(cols_to_drop, axis=1, inplace=True)\n",
    "X_test.drop(cols_to_drop, axis=1, inplace=True)"
   ]
  },
  {
   "cell_type": "code",
   "execution_count": 5,
   "id": "8a6abd30-4a77-4b09-a026-9ed7ca530ee1",
   "metadata": {},
   "outputs": [
    {
     "name": "stdout",
     "output_type": "stream",
     "text": [
      ">>>> Starting the process of removing duplicates ...\n",
      "No duplicates found.\n",
      "CPU times: total: 5.38 s\n",
      "Wall time: 5.74 s\n"
     ]
    }
   ],
   "source": [
    "%%time\n",
    "rm_duplicates = RemoveDuplicates()\n",
    "X_train, y_train = rm_duplicates.transform(X_train, y_train)"
   ]
  },
  {
   "cell_type": "code",
   "execution_count": 6,
   "id": "c37789ae-63e8-406a-bd05-8c668088d6e3",
   "metadata": {},
   "outputs": [
    {
     "name": "stdout",
     "output_type": "stream",
     "text": [
      ">>>> Starting data type conversion process...\n",
      "Column 'vendor_id' changed from int64 to object\n",
      "Column 'pickup_datetime' changed from object to datetime64[ns]\n",
      "Column 'dropoff_datetime' changed from object to datetime64[ns]\n",
      ">>>> Starting data type conversion process...\n",
      "Column 'vendor_id' changed from int64 to object\n",
      "Column 'pickup_datetime' changed from object to datetime64[ns]\n",
      "Column 'dropoff_datetime' changed from object to datetime64[ns]\n",
      "CPU times: total: 5.5 s\n",
      "Wall time: 5.75 s\n"
     ]
    }
   ],
   "source": [
    "%%time\n",
    "to_dtypes = ToDataTypes()\n",
    "X_train, y_train = to_dtypes.transform(X_train, y_train)\n",
    "X_test, y_test = to_dtypes.transform(X_test, y_test)"
   ]
  },
  {
   "cell_type": "code",
   "execution_count": 7,
   "id": "53a97011-e5c2-4f77-a1ae-e5af77901b75",
   "metadata": {},
   "outputs": [
    {
     "name": "stdout",
     "output_type": "stream",
     "text": [
      ">>>> Starting datetime feature extraction...\n",
      "Extracted features: ['pickup_month', 'pickup_day', 'pickup_day_of_week', 'pickup_hour']\n",
      "Dropped columns: ['pickup_datetime', 'dropoff_datetime']\n",
      ">>>> Starting datetime feature extraction...\n",
      "Extracted features: ['pickup_month', 'pickup_day', 'pickup_day_of_week', 'pickup_hour']\n",
      "Dropped columns: ['pickup_datetime', 'dropoff_datetime']\n",
      "CPU times: total: 6.08 s\n",
      "Wall time: 6.43 s\n"
     ]
    }
   ],
   "source": [
    "%%time\n",
    "datetime_break = DateTimeBreak()\n",
    "X_train = datetime_break.transform(X_train)\n",
    "X_test = datetime_break.transform(X_test)"
   ]
  },
  {
   "cell_type": "code",
   "execution_count": 8,
   "id": "dd0df2a3-1a36-4c70-be83-77b4f2ff9868",
   "metadata": {},
   "outputs": [
    {
     "name": "stdout",
     "output_type": "stream",
     "text": [
      "CPU times: total: 0 ns\n",
      "Wall time: 0 ns\n",
      ">>>> Starting missing value imputation...\n",
      "Dropped 16 entries (0.00%) from column 'distance_osrm' due to missing values.\n",
      "Initial data length: 1166915\n",
      "Removed data: 16 (0.00%)\n",
      "Final data length: 1166899\n",
      ">>>> Starting missing value imputation...\n",
      "Dropped 1 entries (0.00%) from column 'distance_osrm' due to missing values.\n",
      "Initial data length: 291729\n",
      "Removed data: 1 (0.00%)\n",
      "Final data length: 291728\n"
     ]
    }
   ],
   "source": [
    "%time\n",
    "miss_val_input = MissValInput()\n",
    "X_train, y_train = miss_val_input.fit_transform(X_train, y_train)\n",
    "X_test, y_test = miss_val_input.transform(X_test, y_test)"
   ]
  },
  {
   "cell_type": "code",
   "execution_count": 9,
   "id": "9909b156-3475-41f8-99d9-f181c0c35577",
   "metadata": {},
   "outputs": [
    {
     "name": "stdout",
     "output_type": "stream",
     "text": [
      ">>>> Starting features restriction ...\n",
      "The dataset size: 1166899 rows\n",
      "trip_duration (old) -> [min, max]: [1, 3526282]\n",
      "trip_duration (new) -> [min, max]: [60, 86392]\n",
      "distance_osrm (old) -> [min, max]: [0.0, 765.6445]\n",
      "distance_osrm (new) -> [min, max]: [0.1001, 97.7243]\n",
      "speed_osrm column not found, skipping restriction on 'speed_osrm'.\n",
      "passenger_count (old) -> [min, max]: [0, 8]\n",
      "passenger_count (new) -> [min, max]: [1, 8]\n",
      "Total removed data: 11632 (1.00%)\n",
      "CPU times: total: 2.02 s\n",
      "Wall time: 2.26 s\n"
     ]
    }
   ],
   "source": [
    "%%time\n",
    "feature_restriction = FeatureRestriction()\n",
    "X_train, y_train = feature_restriction.transform(X_train, y_train)"
   ]
  },
  {
   "cell_type": "code",
   "execution_count": 10,
   "id": "55ff36ba-9744-4f46-8e10-0a19e3b3da33",
   "metadata": {},
   "outputs": [
    {
     "name": "stdout",
     "output_type": "stream",
     "text": [
      ">>>> Starting to encode the features ...\n",
      "Starting transformations...\n",
      "Dropping 'id' column...\n",
      "Performing dummy encoding on 'vendor_id' column...\n",
      "Performing dummy encoding on 'store_and_fwd_flag' column...\n",
      "Performing cyclical encoding on 'pickup_month' column...\n",
      "Cyclical encoding for 'pickup_month' completed.\n",
      "Performing cyclical encoding on 'pickup_day' column...\n",
      "Cyclical encoding for 'pickup_day' completed.\n",
      "Performing cyclical encoding on 'pickup_day_of_week' column...\n",
      "Cyclical encoding for 'pickup_day_of_week' completed.\n",
      "Performing cyclical encoding on 'pickup_hour' column...\n",
      "Cyclical encoding for 'pickup_hour' completed.\n",
      "Dropping original columns after encoding...\n",
      "Transformation completed.\n",
      ">>>> Starting to encode the features ...\n",
      "Starting transformations...\n",
      "Dropping 'id' column...\n",
      "Performing dummy encoding on 'vendor_id' column...\n",
      "Performing dummy encoding on 'store_and_fwd_flag' column...\n",
      "Performing cyclical encoding on 'pickup_month' column...\n",
      "Cyclical encoding for 'pickup_month' completed.\n",
      "Performing cyclical encoding on 'pickup_day' column...\n",
      "Cyclical encoding for 'pickup_day' completed.\n",
      "Performing cyclical encoding on 'pickup_day_of_week' column...\n",
      "Cyclical encoding for 'pickup_day_of_week' completed.\n",
      "Performing cyclical encoding on 'pickup_hour' column...\n",
      "Cyclical encoding for 'pickup_hour' completed.\n",
      "Dropping original columns after encoding...\n",
      "Transformation completed.\n",
      "CPU times: total: 5.06 s\n",
      "Wall time: 6.47 s\n"
     ]
    }
   ],
   "source": [
    "%%time\n",
    "feature_encoding = FeatureEncoding()\n",
    "X_train = feature_encoding.transform(X_train)\n",
    "X_test = feature_encoding.transform(X_test)"
   ]
  },
  {
   "cell_type": "code",
   "execution_count": 11,
   "id": "5a90d424-00e5-4c7f-bc3e-ab85d64c569f",
   "metadata": {},
   "outputs": [
    {
     "name": "stdout",
     "output_type": "stream",
     "text": [
      "<class 'pandas.core.frame.DataFrame'>\n",
      "Int64Index: 1155267 entries, 1053743 to 121958\n",
      "Data columns (total 16 columns):\n",
      " #   Column                  Non-Null Count    Dtype  \n",
      "---  ------                  --------------    -----  \n",
      " 0   passenger_count         1155267 non-null  int64  \n",
      " 1   pickup_longitude        1155267 non-null  float64\n",
      " 2   pickup_latitude         1155267 non-null  float64\n",
      " 3   dropoff_longitude       1155267 non-null  float64\n",
      " 4   dropoff_latitude        1155267 non-null  float64\n",
      " 5   distance_osrm           1155267 non-null  float64\n",
      " 6   vendor_id_2             1155267 non-null  uint8  \n",
      " 7   store_and_fwd_flag_Y    1155267 non-null  uint8  \n",
      " 8   pickup_month_sin        1155267 non-null  float64\n",
      " 9   pickup_month_cos        1155267 non-null  float64\n",
      " 10  pickup_day_sin          1155267 non-null  float64\n",
      " 11  pickup_day_cos          1155267 non-null  float64\n",
      " 12  pickup_day_of_week_sin  1155267 non-null  float64\n",
      " 13  pickup_day_of_week_cos  1155267 non-null  float64\n",
      " 14  pickup_hour_sin         1155267 non-null  float64\n",
      " 15  pickup_hour_cos         1155267 non-null  float64\n",
      "dtypes: float64(13), int64(1), uint8(2)\n",
      "memory usage: 134.4 MB\n"
     ]
    }
   ],
   "source": [
    "X_train.info()"
   ]
  },
  {
   "cell_type": "code",
   "execution_count": 12,
   "id": "f285f509-2847-4f63-87ae-b51302f979e3",
   "metadata": {},
   "outputs": [
    {
     "name": "stdout",
     "output_type": "stream",
     "text": [
      "<class 'pandas.core.frame.DataFrame'>\n",
      "Int64Index: 291728 entries, 67250 to 589044\n",
      "Data columns (total 16 columns):\n",
      " #   Column                  Non-Null Count   Dtype  \n",
      "---  ------                  --------------   -----  \n",
      " 0   passenger_count         291728 non-null  int64  \n",
      " 1   pickup_longitude        291728 non-null  float64\n",
      " 2   pickup_latitude         291728 non-null  float64\n",
      " 3   dropoff_longitude       291728 non-null  float64\n",
      " 4   dropoff_latitude        291728 non-null  float64\n",
      " 5   distance_osrm           291728 non-null  float64\n",
      " 6   vendor_id_2             291728 non-null  uint8  \n",
      " 7   store_and_fwd_flag_Y    291728 non-null  uint8  \n",
      " 8   pickup_month_sin        291728 non-null  float64\n",
      " 9   pickup_month_cos        291728 non-null  float64\n",
      " 10  pickup_day_sin          291728 non-null  float64\n",
      " 11  pickup_day_cos          291728 non-null  float64\n",
      " 12  pickup_day_of_week_sin  291728 non-null  float64\n",
      " 13  pickup_day_of_week_cos  291728 non-null  float64\n",
      " 14  pickup_hour_sin         291728 non-null  float64\n",
      " 15  pickup_hour_cos         291728 non-null  float64\n",
      "dtypes: float64(13), int64(1), uint8(2)\n",
      "memory usage: 33.9 MB\n"
     ]
    }
   ],
   "source": [
    "X_test.info()"
   ]
  },
  {
   "cell_type": "code",
   "execution_count": 13,
   "id": "9a9ec4c9-d1f8-44e3-adf8-be82d4956df8",
   "metadata": {},
   "outputs": [],
   "source": [
    "# Define models\n",
    "models = [\n",
    "    ('LR', LinearRegression()),\n",
    "    ('DTR', DecisionTreeRegressor()),\n",
    "    ('XGBR', XGBRegressor())\n",
    "]"
   ]
  },
  {
   "cell_type": "code",
   "execution_count": 14,
   "id": "eca5852d-d11f-4df9-9450-f7acd307e800",
   "metadata": {},
   "outputs": [
    {
     "name": "stdout",
     "output_type": "stream",
     "text": [
      "LR - RMSLE: 0.6394, Fit time: 1.5391 seconds\n",
      "DTR - RMSLE: 0.6078, Fit time: 47.7388 seconds\n",
      "XGBR - RMSLE: 0.5942, Fit time: 11.0469 seconds\n"
     ]
    }
   ],
   "source": [
    "stage_5 = evaluate_models(models, X_train, y_train, X_test, y_test)"
   ]
  },
  {
   "cell_type": "markdown",
   "id": "97b50cea-3420-4652-a7bf-1f6008e8cd09",
   "metadata": {
    "jp-MarkdownHeadingCollapsed": true
   },
   "source": [
    "### Stage 6: Restricting the boundary to the area around NYC"
   ]
  },
  {
   "cell_type": "code",
   "execution_count": 1,
   "id": "6ac08e75-1918-4629-abc0-e2760a86ed8f",
   "metadata": {},
   "outputs": [
    {
     "name": "stdout",
     "output_type": "stream",
     "text": [
      "<class 'pandas.core.frame.DataFrame'>\n",
      "RangeIndex: 1458644 entries, 0 to 1458643\n",
      "Data columns (total 14 columns):\n",
      " #   Column                   Non-Null Count    Dtype  \n",
      "---  ------                   --------------    -----  \n",
      " 0   id                       1458644 non-null  object \n",
      " 1   vendor_id                1458644 non-null  int64  \n",
      " 2   pickup_datetime          1458644 non-null  object \n",
      " 3   dropoff_datetime         1458644 non-null  object \n",
      " 4   passenger_count          1458644 non-null  int64  \n",
      " 5   pickup_longitude         1458644 non-null  float64\n",
      " 6   pickup_latitude          1458644 non-null  float64\n",
      " 7   dropoff_longitude        1458644 non-null  float64\n",
      " 8   dropoff_latitude         1458644 non-null  float64\n",
      " 9   store_and_fwd_flag       1458644 non-null  object \n",
      " 10  trip_duration            1458644 non-null  int64  \n",
      " 11  distance_osrm            1458627 non-null  float64\n",
      " 12  pickup_dist_NYC_center   1458644 non-null  float64\n",
      " 13  dropoff_dist_NYC_center  1458644 non-null  float64\n",
      "dtypes: float64(7), int64(3), object(4)\n",
      "memory usage: 155.8+ MB\n"
     ]
    }
   ],
   "source": [
    "from playground import *\n",
    "df = pd.read_csv(\"csv_ml/eda_01.csv\")\n",
    "df.info()"
   ]
  },
  {
   "cell_type": "code",
   "execution_count": 2,
   "id": "767ee9d4-0f08-4827-874f-8f2b2b348bde",
   "metadata": {},
   "outputs": [],
   "source": [
    "X = df.drop(columns=\"trip_duration\", axis=1)\n",
    "y = df[\"trip_duration\"]"
   ]
  },
  {
   "cell_type": "code",
   "execution_count": 3,
   "id": "df755100-f429-4824-bbcc-05e2bfb146aa",
   "metadata": {},
   "outputs": [],
   "source": [
    "X_train, X_test, y_train, y_test = train_test_split(X, y, test_size = 0.20, random_state = 42)"
   ]
  },
  {
   "cell_type": "code",
   "execution_count": 4,
   "id": "717062d8-ae9b-4693-a4c0-e346123e4fc9",
   "metadata": {},
   "outputs": [
    {
     "name": "stdout",
     "output_type": "stream",
     "text": [
      ">>>> Starting the process of removing duplicates ...\n",
      "No duplicates found.\n",
      "CPU times: total: 5.52 s\n",
      "Wall time: 5.77 s\n"
     ]
    }
   ],
   "source": [
    "%%time\n",
    "rm_duplicates = RemoveDuplicates()\n",
    "X_train, y_train = rm_duplicates.transform(X_train, y_train)"
   ]
  },
  {
   "cell_type": "code",
   "execution_count": 5,
   "id": "9beee39e-7285-4848-95fd-0d1ab1029cff",
   "metadata": {},
   "outputs": [
    {
     "name": "stdout",
     "output_type": "stream",
     "text": [
      ">>>> Starting data type conversion process...\n",
      "Column 'vendor_id' changed from int64 to object\n",
      "Column 'pickup_datetime' changed from object to datetime64[ns]\n",
      "Column 'dropoff_datetime' changed from object to datetime64[ns]\n",
      ">>>> Starting data type conversion process...\n",
      "Column 'vendor_id' changed from int64 to object\n",
      "Column 'pickup_datetime' changed from object to datetime64[ns]\n",
      "Column 'dropoff_datetime' changed from object to datetime64[ns]\n",
      "CPU times: total: 5.2 s\n",
      "Wall time: 5.34 s\n"
     ]
    }
   ],
   "source": [
    "%%time\n",
    "to_dtypes = ToDataTypes()\n",
    "X_train, y_train = to_dtypes.transform(X_train, y_train)\n",
    "X_test, y_test = to_dtypes.transform(X_test, y_test)"
   ]
  },
  {
   "cell_type": "code",
   "execution_count": 6,
   "id": "c5b9d2f5-b509-4cab-8123-34287e6f02cc",
   "metadata": {},
   "outputs": [
    {
     "name": "stdout",
     "output_type": "stream",
     "text": [
      ">>>> Starting datetime feature extraction...\n",
      "Extracted features: ['pickup_month', 'pickup_day', 'pickup_day_of_week', 'pickup_hour']\n",
      "Dropped columns: ['pickup_datetime', 'dropoff_datetime']\n",
      ">>>> Starting datetime feature extraction...\n",
      "Extracted features: ['pickup_month', 'pickup_day', 'pickup_day_of_week', 'pickup_hour']\n",
      "Dropped columns: ['pickup_datetime', 'dropoff_datetime']\n",
      "CPU times: total: 5.44 s\n",
      "Wall time: 5.61 s\n"
     ]
    }
   ],
   "source": [
    "%%time\n",
    "datetime_break = DateTimeBreak()\n",
    "X_train = datetime_break.transform(X_train)\n",
    "X_test = datetime_break.transform(X_test)"
   ]
  },
  {
   "cell_type": "code",
   "execution_count": 7,
   "id": "489ff8c3-2c37-4424-8a21-53584dfa3030",
   "metadata": {},
   "outputs": [
    {
     "name": "stdout",
     "output_type": "stream",
     "text": [
      "CPU times: total: 0 ns\n",
      "Wall time: 0 ns\n",
      ">>>> Starting missing value imputation...\n",
      "Dropped 16 entries (0.00%) from column 'distance_osrm' due to missing values.\n",
      "Initial data length: 1166915\n",
      "Removed data: 16 (0.00%)\n",
      "Final data length: 1166899\n",
      ">>>> Starting missing value imputation...\n",
      "Dropped 1 entries (0.00%) from column 'distance_osrm' due to missing values.\n",
      "Initial data length: 291729\n",
      "Removed data: 1 (0.00%)\n",
      "Final data length: 291728\n"
     ]
    }
   ],
   "source": [
    "%time\n",
    "miss_val_input = MissValInput()\n",
    "X_train, y_train = miss_val_input.fit_transform(X_train, y_train)\n",
    "X_test, y_test = miss_val_input.transform(X_test, y_test)"
   ]
  },
  {
   "cell_type": "code",
   "execution_count": 8,
   "id": "dd092a39-58a4-46bc-ad1f-838b682d85a9",
   "metadata": {},
   "outputs": [
    {
     "name": "stdout",
     "output_type": "stream",
     "text": [
      ">>>> Starting features restriction ...\n",
      "The dataset size: 1166899 rows\n",
      "trip_duration (old) -> [min, max]: [1, 3526282]\n",
      "trip_duration (new) -> [min, max]: [60, 86392]\n",
      "distance_osrm (old) -> [min, max]: [0.0, 765.6445]\n",
      "distance_osrm (new) -> [min, max]: [0.1001, 97.7243]\n",
      "speed_osrm column not found, skipping restriction on 'speed_osrm'.\n",
      "passenger_count (old) -> [min, max]: [0, 8]\n",
      "passenger_count (new) -> [min, max]: [1, 8]\n",
      "Total removed data: 11632 (1.00%)\n",
      "CPU times: total: 2.27 s\n",
      "Wall time: 3.15 s\n"
     ]
    }
   ],
   "source": [
    "%%time\n",
    "feature_restriction = FeatureRestriction()\n",
    "X_train, y_train = feature_restriction.transform(X_train, y_train)"
   ]
  },
  {
   "cell_type": "code",
   "execution_count": 9,
   "id": "158f8d5c-ab5a-4a62-91ee-4a7f605ae4ff",
   "metadata": {},
   "outputs": [
    {
     "name": "stdout",
     "output_type": "stream",
     "text": [
      ">>>> Starting New York City map restriction ...\n",
      "Outliers saved to 'csv_ml_baseline\\outliers_map_ml_baseline.csv'\n",
      "Map saved as 'html_ml_baseline/outliers_map_ml_baseline.html'\n",
      "Removed 71 (0.01%) records outside NYC boundaries.\n",
      "CPU times: total: 2.8 s\n",
      "Wall time: 2.84 s\n"
     ]
    }
   ],
   "source": [
    "%%time\n",
    "outlier_mapper = OutlierMapper(map_title=\"outliers_map_ml_baseline\", csv_dir=\"csv_ml_baseline\", html_dir=\"html_ml_baseline\")\n",
    "X_train, y_train = outlier_mapper.transform(X_train, y_train)\n",
    "X_test.drop(columns=['pickup_dist_NYC_center', 'dropoff_dist_NYC_center'], inplace=True)"
   ]
  },
  {
   "cell_type": "code",
   "execution_count": 10,
   "id": "956b46eb-1baa-437e-bcfa-223db236225f",
   "metadata": {},
   "outputs": [
    {
     "name": "stdout",
     "output_type": "stream",
     "text": [
      ">>>> Starting to encode the features ...\n",
      "Starting transformations...\n",
      "Dropping 'id' column...\n",
      "Performing dummy encoding on 'vendor_id' column...\n",
      "Performing dummy encoding on 'store_and_fwd_flag' column...\n",
      "Performing cyclical encoding on 'pickup_month' column...\n",
      "Cyclical encoding for 'pickup_month' completed.\n",
      "Performing cyclical encoding on 'pickup_day' column...\n",
      "Cyclical encoding for 'pickup_day' completed.\n",
      "Performing cyclical encoding on 'pickup_day_of_week' column...\n",
      "Cyclical encoding for 'pickup_day_of_week' completed.\n",
      "Performing cyclical encoding on 'pickup_hour' column...\n",
      "Cyclical encoding for 'pickup_hour' completed.\n",
      "Dropping original columns after encoding...\n",
      "Transformation completed.\n",
      ">>>> Starting to encode the features ...\n",
      "Starting transformations...\n",
      "Dropping 'id' column...\n",
      "Performing dummy encoding on 'vendor_id' column...\n",
      "Performing dummy encoding on 'store_and_fwd_flag' column...\n",
      "Performing cyclical encoding on 'pickup_month' column...\n",
      "Cyclical encoding for 'pickup_month' completed.\n",
      "Performing cyclical encoding on 'pickup_day' column...\n",
      "Cyclical encoding for 'pickup_day' completed.\n",
      "Performing cyclical encoding on 'pickup_day_of_week' column...\n",
      "Cyclical encoding for 'pickup_day_of_week' completed.\n",
      "Performing cyclical encoding on 'pickup_hour' column...\n",
      "Cyclical encoding for 'pickup_hour' completed.\n",
      "Dropping original columns after encoding...\n",
      "Transformation completed.\n",
      "CPU times: total: 4.75 s\n",
      "Wall time: 4.92 s\n"
     ]
    }
   ],
   "source": [
    "%%time\n",
    "feature_encoding = FeatureEncoding()\n",
    "X_train = feature_encoding.transform(X_train)\n",
    "X_test = feature_encoding.transform(X_test)"
   ]
  },
  {
   "cell_type": "code",
   "execution_count": 11,
   "id": "3485dbac-da47-4f82-85f1-19552151229d",
   "metadata": {},
   "outputs": [
    {
     "name": "stdout",
     "output_type": "stream",
     "text": [
      "<class 'pandas.core.frame.DataFrame'>\n",
      "Int64Index: 1155196 entries, 1053743 to 121958\n",
      "Data columns (total 16 columns):\n",
      " #   Column                  Non-Null Count    Dtype  \n",
      "---  ------                  --------------    -----  \n",
      " 0   passenger_count         1155196 non-null  int64  \n",
      " 1   pickup_longitude        1155196 non-null  float64\n",
      " 2   pickup_latitude         1155196 non-null  float64\n",
      " 3   dropoff_longitude       1155196 non-null  float64\n",
      " 4   dropoff_latitude        1155196 non-null  float64\n",
      " 5   distance_osrm           1155196 non-null  float64\n",
      " 6   vendor_id_2             1155196 non-null  uint8  \n",
      " 7   store_and_fwd_flag_Y    1155196 non-null  uint8  \n",
      " 8   pickup_month_sin        1155196 non-null  float64\n",
      " 9   pickup_month_cos        1155196 non-null  float64\n",
      " 10  pickup_day_sin          1155196 non-null  float64\n",
      " 11  pickup_day_cos          1155196 non-null  float64\n",
      " 12  pickup_day_of_week_sin  1155196 non-null  float64\n",
      " 13  pickup_day_of_week_cos  1155196 non-null  float64\n",
      " 14  pickup_hour_sin         1155196 non-null  float64\n",
      " 15  pickup_hour_cos         1155196 non-null  float64\n",
      "dtypes: float64(13), int64(1), uint8(2)\n",
      "memory usage: 134.4 MB\n"
     ]
    }
   ],
   "source": [
    "X_train.info()"
   ]
  },
  {
   "cell_type": "code",
   "execution_count": 12,
   "id": "47d04862-cf0f-4019-bbf3-f3bd2ef8b8e7",
   "metadata": {},
   "outputs": [
    {
     "name": "stdout",
     "output_type": "stream",
     "text": [
      "<class 'pandas.core.frame.DataFrame'>\n",
      "Int64Index: 291728 entries, 67250 to 589044\n",
      "Data columns (total 16 columns):\n",
      " #   Column                  Non-Null Count   Dtype  \n",
      "---  ------                  --------------   -----  \n",
      " 0   passenger_count         291728 non-null  int64  \n",
      " 1   pickup_longitude        291728 non-null  float64\n",
      " 2   pickup_latitude         291728 non-null  float64\n",
      " 3   dropoff_longitude       291728 non-null  float64\n",
      " 4   dropoff_latitude        291728 non-null  float64\n",
      " 5   distance_osrm           291728 non-null  float64\n",
      " 6   vendor_id_2             291728 non-null  uint8  \n",
      " 7   store_and_fwd_flag_Y    291728 non-null  uint8  \n",
      " 8   pickup_month_sin        291728 non-null  float64\n",
      " 9   pickup_month_cos        291728 non-null  float64\n",
      " 10  pickup_day_sin          291728 non-null  float64\n",
      " 11  pickup_day_cos          291728 non-null  float64\n",
      " 12  pickup_day_of_week_sin  291728 non-null  float64\n",
      " 13  pickup_day_of_week_cos  291728 non-null  float64\n",
      " 14  pickup_hour_sin         291728 non-null  float64\n",
      " 15  pickup_hour_cos         291728 non-null  float64\n",
      "dtypes: float64(13), int64(1), uint8(2)\n",
      "memory usage: 33.9 MB\n"
     ]
    }
   ],
   "source": [
    "X_test.info()"
   ]
  },
  {
   "cell_type": "code",
   "execution_count": 13,
   "id": "ad210b1b-88b2-4f61-ab7c-c15f303ef9bb",
   "metadata": {},
   "outputs": [],
   "source": [
    "# Define models\n",
    "models = [\n",
    "    ('LR', LinearRegression()),\n",
    "    ('DTR', DecisionTreeRegressor()),\n",
    "    ('XGBR', XGBRegressor())\n",
    "]"
   ]
  },
  {
   "cell_type": "code",
   "execution_count": 14,
   "id": "7c939886-7e42-4413-a417-008a73fba72c",
   "metadata": {},
   "outputs": [
    {
     "name": "stdout",
     "output_type": "stream",
     "text": [
      "LR - RMSLE: 0.6386, Fit time: 1.4434 seconds\n",
      "DTR - RMSLE: 0.6115, Fit time: 50.3154 seconds\n",
      "XGBR - RMSLE: 0.5948, Fit time: 14.8784 seconds\n"
     ]
    }
   ],
   "source": [
    "stage_6 = evaluate_models(models, X_train, y_train, X_test, y_test)"
   ]
  },
  {
   "cell_type": "markdown",
   "id": "1efa9577-f2ad-4876-bdd7-3523c9372a4f",
   "metadata": {
    "jp-MarkdownHeadingCollapsed": true
   },
   "source": [
    "### Stage 7: Replacing pickup_longitude, pickup_latitude with pickup_cluster and dropoff_longitude, dropoff_latitude with dropoff_cluster"
   ]
  },
  {
   "cell_type": "code",
   "execution_count": 1,
   "id": "e6510087-bbbf-4fa3-b865-dd50c14abc69",
   "metadata": {},
   "outputs": [
    {
     "name": "stdout",
     "output_type": "stream",
     "text": [
      "<class 'pandas.core.frame.DataFrame'>\n",
      "RangeIndex: 1458644 entries, 0 to 1458643\n",
      "Data columns (total 14 columns):\n",
      " #   Column                   Non-Null Count    Dtype  \n",
      "---  ------                   --------------    -----  \n",
      " 0   id                       1458644 non-null  object \n",
      " 1   vendor_id                1458644 non-null  int64  \n",
      " 2   pickup_datetime          1458644 non-null  object \n",
      " 3   dropoff_datetime         1458644 non-null  object \n",
      " 4   passenger_count          1458644 non-null  int64  \n",
      " 5   pickup_longitude         1458644 non-null  float64\n",
      " 6   pickup_latitude          1458644 non-null  float64\n",
      " 7   dropoff_longitude        1458644 non-null  float64\n",
      " 8   dropoff_latitude         1458644 non-null  float64\n",
      " 9   store_and_fwd_flag       1458644 non-null  object \n",
      " 10  trip_duration            1458644 non-null  int64  \n",
      " 11  distance_osrm            1458627 non-null  float64\n",
      " 12  pickup_dist_NYC_center   1458644 non-null  float64\n",
      " 13  dropoff_dist_NYC_center  1458644 non-null  float64\n",
      "dtypes: float64(7), int64(3), object(4)\n",
      "memory usage: 155.8+ MB\n"
     ]
    }
   ],
   "source": [
    "from playground import *\n",
    "df = pd.read_csv(\"csv_ml/eda_01.csv\")\n",
    "df.info()"
   ]
  },
  {
   "cell_type": "code",
   "execution_count": 2,
   "id": "b8123b71-013d-483c-b2e5-9eb4b7112c88",
   "metadata": {},
   "outputs": [],
   "source": [
    "X = df.drop(columns=\"trip_duration\", axis=1)\n",
    "y = df[\"trip_duration\"]"
   ]
  },
  {
   "cell_type": "code",
   "execution_count": 3,
   "id": "ede164d5-2168-4d91-80b9-2699f487842b",
   "metadata": {},
   "outputs": [],
   "source": [
    "X_train, X_test, y_train, y_test = train_test_split(X, y, test_size = 0.20, random_state = 42)"
   ]
  },
  {
   "cell_type": "code",
   "execution_count": 4,
   "id": "e1876de0-b2ce-454c-9724-6ea0b3cf2150",
   "metadata": {},
   "outputs": [
    {
     "name": "stdout",
     "output_type": "stream",
     "text": [
      ">>>> Starting the process of removing duplicates ...\n",
      "No duplicates found.\n",
      "CPU times: total: 5.44 s\n",
      "Wall time: 5.58 s\n"
     ]
    }
   ],
   "source": [
    "%%time\n",
    "rm_duplicates = RemoveDuplicates()\n",
    "X_train, y_train = rm_duplicates.transform(X_train, y_train)"
   ]
  },
  {
   "cell_type": "code",
   "execution_count": 5,
   "id": "4337dd41-c6b1-4754-b07a-ccc43e3ae775",
   "metadata": {},
   "outputs": [
    {
     "name": "stdout",
     "output_type": "stream",
     "text": [
      ">>>> Starting data type conversion process...\n",
      "Column 'vendor_id' changed from int64 to object\n",
      "Column 'pickup_datetime' changed from object to datetime64[ns]\n",
      "Column 'dropoff_datetime' changed from object to datetime64[ns]\n",
      ">>>> Starting data type conversion process...\n",
      "Column 'vendor_id' changed from int64 to object\n",
      "Column 'pickup_datetime' changed from object to datetime64[ns]\n",
      "Column 'dropoff_datetime' changed from object to datetime64[ns]\n",
      "CPU times: total: 5.36 s\n",
      "Wall time: 5.41 s\n"
     ]
    }
   ],
   "source": [
    "%%time\n",
    "to_dtypes = ToDataTypes()\n",
    "X_train, y_train = to_dtypes.transform(X_train, y_train)\n",
    "X_test, y_test = to_dtypes.transform(X_test, y_test)"
   ]
  },
  {
   "cell_type": "code",
   "execution_count": 6,
   "id": "9922a2e0-e880-4569-bbfd-dffdd1f4d091",
   "metadata": {},
   "outputs": [
    {
     "name": "stdout",
     "output_type": "stream",
     "text": [
      ">>>> Starting datetime feature extraction...\n",
      "Extracted features: ['pickup_month', 'pickup_day', 'pickup_day_of_week', 'pickup_hour']\n",
      "Dropped columns: ['pickup_datetime', 'dropoff_datetime']\n",
      ">>>> Starting datetime feature extraction...\n",
      "Extracted features: ['pickup_month', 'pickup_day', 'pickup_day_of_week', 'pickup_hour']\n",
      "Dropped columns: ['pickup_datetime', 'dropoff_datetime']\n",
      "CPU times: total: 5.39 s\n",
      "Wall time: 5.39 s\n"
     ]
    }
   ],
   "source": [
    "%%time\n",
    "datetime_break = DateTimeBreak()\n",
    "X_train = datetime_break.transform(X_train)\n",
    "X_test = datetime_break.transform(X_test)"
   ]
  },
  {
   "cell_type": "code",
   "execution_count": 7,
   "id": "cccb2cb3-5482-4611-aa8b-24664a5682e8",
   "metadata": {},
   "outputs": [
    {
     "name": "stdout",
     "output_type": "stream",
     "text": [
      "CPU times: total: 0 ns\n",
      "Wall time: 0 ns\n",
      ">>>> Starting missing value imputation...\n",
      "Dropped 16 entries (0.00%) from column 'distance_osrm' due to missing values.\n",
      "Initial data length: 1166915\n",
      "Removed data: 16 (0.00%)\n",
      "Final data length: 1166899\n",
      ">>>> Starting missing value imputation...\n",
      "Dropped 1 entries (0.00%) from column 'distance_osrm' due to missing values.\n",
      "Initial data length: 291729\n",
      "Removed data: 1 (0.00%)\n",
      "Final data length: 291728\n"
     ]
    }
   ],
   "source": [
    "%time\n",
    "miss_val_input = MissValInput()\n",
    "X_train, y_train = miss_val_input.fit_transform(X_train, y_train)\n",
    "X_test, y_test = miss_val_input.transform(X_test, y_test)"
   ]
  },
  {
   "cell_type": "code",
   "execution_count": 8,
   "id": "388b9642-0b87-40c8-8390-21510b656f5a",
   "metadata": {},
   "outputs": [
    {
     "name": "stdout",
     "output_type": "stream",
     "text": [
      ">>>> Starting features restriction ...\n",
      "The dataset size: 1166899 rows\n",
      "trip_duration (old) -> [min, max]: [1, 3526282]\n",
      "trip_duration (new) -> [min, max]: [60, 86392]\n",
      "distance_osrm (old) -> [min, max]: [0.0, 765.6445]\n",
      "distance_osrm (new) -> [min, max]: [0.1001, 97.7243]\n",
      "speed_osrm column not found, skipping restriction on 'speed_osrm'.\n",
      "passenger_count (old) -> [min, max]: [0, 8]\n",
      "passenger_count (new) -> [min, max]: [1, 8]\n",
      "Total removed data: 11632 (1.00%)\n",
      "CPU times: total: 1.88 s\n",
      "Wall time: 1.89 s\n"
     ]
    }
   ],
   "source": [
    "%%time\n",
    "feature_restriction = FeatureRestriction()\n",
    "X_train, y_train = feature_restriction.transform(X_train, y_train)"
   ]
  },
  {
   "cell_type": "code",
   "execution_count": 9,
   "id": "57b2a662-7762-4161-81ca-a9fb1154695f",
   "metadata": {},
   "outputs": [
    {
     "name": "stdout",
     "output_type": "stream",
     "text": [
      ">>>> Starting New York City map restriction ...\n",
      "Outliers saved to 'csv_ml_baseline\\outliers_map_ml_baseline.csv'\n",
      "Map saved as 'html_ml_baseline/outliers_map_ml_baseline.html'\n",
      "Removed 71 (0.01%) records outside NYC boundaries.\n",
      "CPU times: total: 2.44 s\n",
      "Wall time: 2.44 s\n"
     ]
    }
   ],
   "source": [
    "%%time\n",
    "outlier_mapper = OutlierMapper(map_title=\"outliers_map_ml_baseline\", csv_dir=\"csv_ml_baseline\", html_dir=\"html_ml_baseline\")\n",
    "X_train, y_train = outlier_mapper.transform(X_train, y_train)\n",
    "X_test.drop(columns=['pickup_dist_NYC_center', 'dropoff_dist_NYC_center'], inplace=True)"
   ]
  },
  {
   "cell_type": "code",
   "execution_count": 10,
   "id": "6d7a30d5-cc2b-4687-a853-a3fb2231ef0a",
   "metadata": {},
   "outputs": [
    {
     "name": "stdout",
     "output_type": "stream",
     "text": [
      ">>>> Starting to create cluster features ...\n",
      "New features 'pickup_cluster' and 'dropoff_cluster' have been created.\n",
      "Dropped the columns 'pickup_longitude', 'pickup_latitude', 'dropoff_longitude', and 'dropoff_latitude'\n",
      ">>>> Starting to create cluster features ...\n",
      "New features 'pickup_cluster' and 'dropoff_cluster' have been created.\n",
      "Dropped the columns 'pickup_longitude', 'pickup_latitude', 'dropoff_longitude', and 'dropoff_latitude'\n",
      "CPU times: total: 50.9 s\n",
      "Wall time: 23.1 s\n"
     ]
    }
   ],
   "source": [
    "%%time\n",
    "pickdrop_cluster = PickDropCluster(optimal_k_pickup=4, optimal_k_dropoff=4)\n",
    "X_train, y_train = pickdrop_cluster.fit_transform(X_train, y_train)\n",
    "X_test, y_test = pickdrop_cluster.transform(X_test, y_test)"
   ]
  },
  {
   "cell_type": "code",
   "execution_count": 11,
   "id": "4d1cb223-5c58-472c-8291-1def06b7bb00",
   "metadata": {},
   "outputs": [
    {
     "name": "stdout",
     "output_type": "stream",
     "text": [
      ">>>> Starting to encode the features ...\n",
      "Starting transformations...\n",
      "Dropping 'id' column...\n",
      "Performing dummy encoding on 'vendor_id' column...\n",
      "Performing dummy encoding on 'store_and_fwd_flag' column...\n",
      "Performing dummy encoding on 'pickup_cluster' column...\n",
      "Performing dummy encoding on 'dropoff_cluster' column...\n",
      "Performing cyclical encoding on 'pickup_month' column...\n",
      "Cyclical encoding for 'pickup_month' completed.\n",
      "Performing cyclical encoding on 'pickup_day' column...\n",
      "Cyclical encoding for 'pickup_day' completed.\n",
      "Performing cyclical encoding on 'pickup_day_of_week' column...\n",
      "Cyclical encoding for 'pickup_day_of_week' completed.\n",
      "Performing cyclical encoding on 'pickup_hour' column...\n",
      "Cyclical encoding for 'pickup_hour' completed.\n",
      "Dropping original columns after encoding...\n",
      "Transformation completed.\n",
      ">>>> Starting to encode the features ...\n",
      "Starting transformations...\n",
      "Dropping 'id' column...\n",
      "Performing dummy encoding on 'vendor_id' column...\n",
      "Performing dummy encoding on 'store_and_fwd_flag' column...\n",
      "Performing dummy encoding on 'pickup_cluster' column...\n",
      "Performing dummy encoding on 'dropoff_cluster' column...\n",
      "Performing cyclical encoding on 'pickup_month' column...\n",
      "Cyclical encoding for 'pickup_month' completed.\n",
      "Performing cyclical encoding on 'pickup_day' column...\n",
      "Cyclical encoding for 'pickup_day' completed.\n",
      "Performing cyclical encoding on 'pickup_day_of_week' column...\n",
      "Cyclical encoding for 'pickup_day_of_week' completed.\n",
      "Performing cyclical encoding on 'pickup_hour' column...\n",
      "Cyclical encoding for 'pickup_hour' completed.\n",
      "Dropping original columns after encoding...\n",
      "Transformation completed.\n",
      "CPU times: total: 6.89 s\n",
      "Wall time: 6.93 s\n"
     ]
    }
   ],
   "source": [
    "%%time\n",
    "feature_encoding = FeatureEncoding()\n",
    "X_train = feature_encoding.transform(X_train)\n",
    "X_test = feature_encoding.transform(X_test)"
   ]
  },
  {
   "cell_type": "code",
   "execution_count": 12,
   "id": "c3f947c2-f58a-427c-b440-ae114d42007e",
   "metadata": {},
   "outputs": [
    {
     "name": "stdout",
     "output_type": "stream",
     "text": [
      "<class 'pandas.core.frame.DataFrame'>\n",
      "Int64Index: 1155196 entries, 1053743 to 121958\n",
      "Data columns (total 18 columns):\n",
      " #   Column                  Non-Null Count    Dtype  \n",
      "---  ------                  --------------    -----  \n",
      " 0   passenger_count         1155196 non-null  int64  \n",
      " 1   distance_osrm           1155196 non-null  float64\n",
      " 2   vendor_id_2             1155196 non-null  uint8  \n",
      " 3   store_and_fwd_flag_Y    1155196 non-null  uint8  \n",
      " 4   pickup_cluster_1        1155196 non-null  uint8  \n",
      " 5   pickup_cluster_2        1155196 non-null  uint8  \n",
      " 6   pickup_cluster_3        1155196 non-null  uint8  \n",
      " 7   dropoff_cluster_1       1155196 non-null  uint8  \n",
      " 8   dropoff_cluster_2       1155196 non-null  uint8  \n",
      " 9   dropoff_cluster_3       1155196 non-null  uint8  \n",
      " 10  pickup_month_sin        1155196 non-null  float64\n",
      " 11  pickup_month_cos        1155196 non-null  float64\n",
      " 12  pickup_day_sin          1155196 non-null  float64\n",
      " 13  pickup_day_cos          1155196 non-null  float64\n",
      " 14  pickup_day_of_week_sin  1155196 non-null  float64\n",
      " 15  pickup_day_of_week_cos  1155196 non-null  float64\n",
      " 16  pickup_hour_sin         1155196 non-null  float64\n",
      " 17  pickup_hour_cos         1155196 non-null  float64\n",
      "dtypes: float64(9), int64(1), uint8(8)\n",
      "memory usage: 105.8 MB\n"
     ]
    }
   ],
   "source": [
    "X_train.info()"
   ]
  },
  {
   "cell_type": "code",
   "execution_count": 13,
   "id": "7c82bbaf-d1c1-45a5-8c73-297061b1ba53",
   "metadata": {},
   "outputs": [
    {
     "name": "stdout",
     "output_type": "stream",
     "text": [
      "<class 'pandas.core.frame.DataFrame'>\n",
      "Int64Index: 291728 entries, 67250 to 589044\n",
      "Data columns (total 18 columns):\n",
      " #   Column                  Non-Null Count   Dtype  \n",
      "---  ------                  --------------   -----  \n",
      " 0   passenger_count         291728 non-null  int64  \n",
      " 1   distance_osrm           291728 non-null  float64\n",
      " 2   vendor_id_2             291728 non-null  uint8  \n",
      " 3   store_and_fwd_flag_Y    291728 non-null  uint8  \n",
      " 4   pickup_cluster_1        291728 non-null  uint8  \n",
      " 5   pickup_cluster_2        291728 non-null  uint8  \n",
      " 6   pickup_cluster_3        291728 non-null  uint8  \n",
      " 7   dropoff_cluster_1       291728 non-null  uint8  \n",
      " 8   dropoff_cluster_2       291728 non-null  uint8  \n",
      " 9   dropoff_cluster_3       291728 non-null  uint8  \n",
      " 10  pickup_month_sin        291728 non-null  float64\n",
      " 11  pickup_month_cos        291728 non-null  float64\n",
      " 12  pickup_day_sin          291728 non-null  float64\n",
      " 13  pickup_day_cos          291728 non-null  float64\n",
      " 14  pickup_day_of_week_sin  291728 non-null  float64\n",
      " 15  pickup_day_of_week_cos  291728 non-null  float64\n",
      " 16  pickup_hour_sin         291728 non-null  float64\n",
      " 17  pickup_hour_cos         291728 non-null  float64\n",
      "dtypes: float64(9), int64(1), uint8(8)\n",
      "memory usage: 26.7 MB\n"
     ]
    }
   ],
   "source": [
    "X_test.info()"
   ]
  },
  {
   "cell_type": "code",
   "execution_count": 14,
   "id": "9e43beab-267e-4e54-a5dd-0d917af8be2c",
   "metadata": {},
   "outputs": [],
   "source": [
    "# Define models\n",
    "models = [\n",
    "    ('LR', LinearRegression()),\n",
    "    ('DTR', DecisionTreeRegressor()),\n",
    "    ('XGBR', XGBRegressor())\n",
    "]"
   ]
  },
  {
   "cell_type": "code",
   "execution_count": 15,
   "id": "7de19be3-7431-49fb-a545-f68af8ca4180",
   "metadata": {},
   "outputs": [
    {
     "name": "stdout",
     "output_type": "stream",
     "text": [
      "LR - RMSLE: 0.6351, Fit time: 1.5940 seconds\n",
      "DTR - RMSLE: 0.6372, Fit time: 22.4325 seconds\n",
      "XGBR - RMSLE: 0.6131, Fit time: 11.2697 seconds\n"
     ]
    }
   ],
   "source": [
    "stage_7 = evaluate_models(models, X_train, y_train, X_test, y_test)"
   ]
  },
  {
   "cell_type": "markdown",
   "id": "fac717dc-fe40-41af-be68-4ceff1599c33",
   "metadata": {
    "jp-MarkdownHeadingCollapsed": true
   },
   "source": [
    "### Stage 8: Skewness Transformation"
   ]
  },
  {
   "cell_type": "code",
   "execution_count": 1,
   "id": "16e19ccf-6eed-4d62-a23d-0b535f054067",
   "metadata": {},
   "outputs": [
    {
     "name": "stdout",
     "output_type": "stream",
     "text": [
      "<class 'pandas.core.frame.DataFrame'>\n",
      "RangeIndex: 1458644 entries, 0 to 1458643\n",
      "Data columns (total 14 columns):\n",
      " #   Column                   Non-Null Count    Dtype  \n",
      "---  ------                   --------------    -----  \n",
      " 0   id                       1458644 non-null  object \n",
      " 1   vendor_id                1458644 non-null  int64  \n",
      " 2   pickup_datetime          1458644 non-null  object \n",
      " 3   dropoff_datetime         1458644 non-null  object \n",
      " 4   passenger_count          1458644 non-null  int64  \n",
      " 5   pickup_longitude         1458644 non-null  float64\n",
      " 6   pickup_latitude          1458644 non-null  float64\n",
      " 7   dropoff_longitude        1458644 non-null  float64\n",
      " 8   dropoff_latitude         1458644 non-null  float64\n",
      " 9   store_and_fwd_flag       1458644 non-null  object \n",
      " 10  trip_duration            1458644 non-null  int64  \n",
      " 11  distance_osrm            1458627 non-null  float64\n",
      " 12  pickup_dist_NYC_center   1458644 non-null  float64\n",
      " 13  dropoff_dist_NYC_center  1458644 non-null  float64\n",
      "dtypes: float64(7), int64(3), object(4)\n",
      "memory usage: 155.8+ MB\n"
     ]
    }
   ],
   "source": [
    "from playground import *\n",
    "df = pd.read_csv(\"csv_ml/eda_01.csv\")\n",
    "df.info()"
   ]
  },
  {
   "cell_type": "code",
   "execution_count": 2,
   "id": "e4786fe0-2da4-486f-9b6e-d8ffed1a963a",
   "metadata": {},
   "outputs": [],
   "source": [
    "X = df.drop(columns=\"trip_duration\", axis=1)\n",
    "y = df[\"trip_duration\"]"
   ]
  },
  {
   "cell_type": "code",
   "execution_count": 3,
   "id": "fdd1d608-7b26-42d5-a1a4-72d18575b496",
   "metadata": {},
   "outputs": [],
   "source": [
    "X_train, X_test, y_train, y_test = train_test_split(X, y, test_size = 0.20, random_state = 42)"
   ]
  },
  {
   "cell_type": "code",
   "execution_count": 4,
   "id": "d4deed7c-9187-43dc-819e-e7e69509b9b5",
   "metadata": {},
   "outputs": [
    {
     "name": "stdout",
     "output_type": "stream",
     "text": [
      ">>>> Starting the process of removing duplicates ...\n",
      "No duplicates found.\n",
      "CPU times: total: 5.69 s\n",
      "Wall time: 5.79 s\n"
     ]
    }
   ],
   "source": [
    "%%time\n",
    "rm_duplicates = RemoveDuplicates()\n",
    "X_train, y_train = rm_duplicates.transform(X_train, y_train)"
   ]
  },
  {
   "cell_type": "code",
   "execution_count": 5,
   "id": "a26ee2c3-01a9-40e8-8b0a-0b815dcc67e3",
   "metadata": {},
   "outputs": [
    {
     "name": "stdout",
     "output_type": "stream",
     "text": [
      ">>>> Starting data type conversion process...\n",
      "Column 'vendor_id' changed from int64 to object\n",
      "Column 'pickup_datetime' changed from object to datetime64[ns]\n",
      "Column 'dropoff_datetime' changed from object to datetime64[ns]\n",
      ">>>> Starting data type conversion process...\n",
      "Column 'vendor_id' changed from int64 to object\n",
      "Column 'pickup_datetime' changed from object to datetime64[ns]\n",
      "Column 'dropoff_datetime' changed from object to datetime64[ns]\n",
      "CPU times: total: 5.59 s\n",
      "Wall time: 5.78 s\n"
     ]
    }
   ],
   "source": [
    "%%time\n",
    "to_dtypes = ToDataTypes()\n",
    "X_train, y_train = to_dtypes.transform(X_train, y_train)\n",
    "X_test, y_test = to_dtypes.transform(X_test, y_test)"
   ]
  },
  {
   "cell_type": "code",
   "execution_count": 6,
   "id": "df0f7de5-ae2e-44e5-a50d-7e25151d8a29",
   "metadata": {},
   "outputs": [
    {
     "name": "stdout",
     "output_type": "stream",
     "text": [
      ">>>> Starting datetime feature extraction...\n",
      "Extracted features: ['pickup_month', 'pickup_day', 'pickup_day_of_week', 'pickup_hour']\n",
      "Dropped columns: ['pickup_datetime', 'dropoff_datetime']\n",
      ">>>> Starting datetime feature extraction...\n",
      "Extracted features: ['pickup_month', 'pickup_day', 'pickup_day_of_week', 'pickup_hour']\n",
      "Dropped columns: ['pickup_datetime', 'dropoff_datetime']\n",
      "CPU times: total: 5.59 s\n",
      "Wall time: 5.61 s\n"
     ]
    }
   ],
   "source": [
    "%%time\n",
    "datetime_break = DateTimeBreak()\n",
    "X_train = datetime_break.transform(X_train)\n",
    "X_test = datetime_break.transform(X_test)"
   ]
  },
  {
   "cell_type": "code",
   "execution_count": 7,
   "id": "e6797fe6-3f86-4f2e-a1f6-7b4472b7f9bb",
   "metadata": {},
   "outputs": [
    {
     "name": "stdout",
     "output_type": "stream",
     "text": [
      "CPU times: total: 0 ns\n",
      "Wall time: 0 ns\n",
      ">>>> Starting missing value imputation...\n",
      "Dropped 16 entries (0.00%) from column 'distance_osrm' due to missing values.\n",
      "Initial data length: 1166915\n",
      "Removed data: 16 (0.00%)\n",
      "Final data length: 1166899\n",
      ">>>> Starting missing value imputation...\n",
      "Dropped 1 entries (0.00%) from column 'distance_osrm' due to missing values.\n",
      "Initial data length: 291729\n",
      "Removed data: 1 (0.00%)\n",
      "Final data length: 291728\n"
     ]
    }
   ],
   "source": [
    "%time\n",
    "miss_val_input = MissValInput()\n",
    "X_train, y_train = miss_val_input.fit_transform(X_train, y_train)\n",
    "X_test, y_test = miss_val_input.transform(X_test, y_test)"
   ]
  },
  {
   "cell_type": "code",
   "execution_count": 8,
   "id": "de28d8f3-52ed-4263-b7b6-a6d305ba6af0",
   "metadata": {},
   "outputs": [
    {
     "name": "stdout",
     "output_type": "stream",
     "text": [
      ">>>> Starting features restriction ...\n",
      "The dataset size: 1166899 rows\n",
      "trip_duration (old) -> [min, max]: [1, 3526282]\n",
      "trip_duration (new) -> [min, max]: [60, 86392]\n",
      "distance_osrm (old) -> [min, max]: [0.0, 765.6445]\n",
      "distance_osrm (new) -> [min, max]: [0.1001, 97.7243]\n",
      "speed_osrm column not found, skipping restriction on 'speed_osrm'.\n",
      "passenger_count (old) -> [min, max]: [0, 8]\n",
      "passenger_count (new) -> [min, max]: [1, 8]\n",
      "Total removed data: 11632 (1.00%)\n",
      "CPU times: total: 1.86 s\n",
      "Wall time: 1.95 s\n"
     ]
    }
   ],
   "source": [
    "%%time\n",
    "feature_restriction = FeatureRestriction()\n",
    "X_train, y_train = feature_restriction.transform(X_train, y_train)"
   ]
  },
  {
   "cell_type": "code",
   "execution_count": 9,
   "id": "cd24de33-99b8-4020-8ec3-2b48799d685a",
   "metadata": {},
   "outputs": [
    {
     "name": "stdout",
     "output_type": "stream",
     "text": [
      ">>>> Starting New York City map restriction ...\n",
      "Outliers saved to 'csv_ml_baseline\\outliers_map_ml_baseline.csv'\n",
      "Map saved as 'html_ml_baseline/outliers_map_ml_baseline.html'\n",
      "Removed 71 (0.01%) records outside NYC boundaries.\n",
      "CPU times: total: 2.45 s\n",
      "Wall time: 2.5 s\n"
     ]
    }
   ],
   "source": [
    "%%time\n",
    "outlier_mapper = OutlierMapper(map_title=\"outliers_map_ml_baseline\", csv_dir=\"csv_ml_baseline\", html_dir=\"html_ml_baseline\")\n",
    "X_train, y_train = outlier_mapper.transform(X_train, y_train)\n",
    "X_test.drop(columns=['pickup_dist_NYC_center', 'dropoff_dist_NYC_center'], inplace=True)"
   ]
  },
  {
   "cell_type": "code",
   "execution_count": 10,
   "id": "01bf43fe-c64a-4204-883b-afc2c2665d84",
   "metadata": {},
   "outputs": [
    {
     "name": "stdout",
     "output_type": "stream",
     "text": [
      ">>>> Starting to transform the skew features ...\n",
      "\n",
      "Skewness of X columns before transformation:\n",
      "passenger_count      2.127703\n",
      "pickup_longitude     3.299983\n",
      "pickup_latitude     -1.107068\n",
      "dropoff_longitude    2.452137\n",
      "dropoff_latitude    -0.379705\n",
      "distance_osrm        3.010464\n",
      "dtype: float64\n",
      "Skewness of y before transformation: 25.401763381908253\n",
      "\n",
      "Column 'passenger_count' has skewness 2.127702902910666 which is outside the range (-2, 2)\n",
      "Min value of column 'passenger_count': 1\n",
      "Applied custom log transformation formula to 'passenger_count'.\n",
      "\n",
      "Column 'pickup_longitude' has skewness 3.2999832729155765 which is outside the range (-2, 2)\n",
      "Min value of column 'pickup_longitude': -74.3177490234375\n",
      "Applied custom log transformation formula to 'pickup_longitude'.\n",
      "\n",
      "Column 'dropoff_longitude' has skewness 2.4521373274651324 which is outside the range (-2, 2)\n",
      "Min value of column 'dropoff_longitude': -74.58055877685547\n",
      "Applied custom log transformation formula to 'dropoff_longitude'.\n",
      "\n",
      "Column 'distance_osrm' has skewness 3.010464145433996 which is outside the range (-2, 2)\n",
      "Min value of column 'distance_osrm': 0.1001\n",
      "Applied custom log transformation formula to 'distance_osrm'.\n",
      "\n",
      "Target variable 'y' has skewness 25.401763381908253 which is outside the range (-2, 2)\n",
      "Min value of target variable 'y': 60\n",
      "Applied custom log transformation formula to 'y'.\n",
      "\n",
      "Skewness of X columns after transformation:\n",
      "log_passenger_count      1.616804\n",
      "log_pickup_longitude     0.000000\n",
      "pickup_latitude         -1.107068\n",
      "log_dropoff_longitude    0.000000\n",
      "dropoff_latitude        -0.379705\n",
      "log_distance_osrm        0.772178\n",
      "dtype: float64\n",
      "Skewness of y after transformation: 0.23322481529312797\n",
      "CPU times: total: 1.03 s\n",
      "Wall time: 1.06 s\n"
     ]
    }
   ],
   "source": [
    "%%time\n",
    "skewness_transform = SkewnessTransform()\n",
    "X_train, y_train = skewness_transform.transform(X_train, y_train)"
   ]
  },
  {
   "cell_type": "code",
   "execution_count": 11,
   "id": "c219dd4e-60d0-4290-b559-c1320833d1b8",
   "metadata": {},
   "outputs": [],
   "source": [
    "# Apply the same transformation to test set\n",
    "X_test['passenger_count'] = np.log1p(np.maximum(X_test['passenger_count'] + np.abs(X_test['passenger_count']), 0))\n",
    "X_test['pickup_longitude'] = np.log1p(np.maximum(X_test['pickup_longitude'] + np.abs(X_test['pickup_longitude']), 0))\n",
    "X_test['dropoff_longitude'] = np.log1p(np.maximum(X_test['dropoff_longitude'] + np.abs(X_test['dropoff_longitude']), 0))\n",
    "X_test['distance_osrm'] = np.log1p(np.maximum(X_test['distance_osrm'] + np.abs(X_test['distance_osrm']), 0))\n",
    "y_test = np.log1p(np.maximum(y_test + np.abs(y_test), 0))\n",
    "\n",
    "X_test.rename(columns={'passenger_count': 'log_passenger_count'}, inplace=True)\n",
    "X_test.rename(columns={'pickup_longitude': 'log_pickup_longitude'}, inplace=True)\n",
    "X_test.rename(columns={'dropoff_longitude': 'log_dropoff_longitude'}, inplace=True)\n",
    "X_test.rename(columns={'distance_osrm': 'log_distance_osrm'}, inplace=True)"
   ]
  },
  {
   "cell_type": "code",
   "execution_count": 12,
   "id": "27207048-2d20-438b-8321-50d321c283a6",
   "metadata": {},
   "outputs": [
    {
     "name": "stdout",
     "output_type": "stream",
     "text": [
      ">>>> Starting to encode the features ...\n",
      "Starting transformations...\n",
      "Dropping 'id' column...\n",
      "Performing dummy encoding on 'vendor_id' column...\n",
      "Performing dummy encoding on 'store_and_fwd_flag' column...\n",
      "Performing cyclical encoding on 'pickup_month' column...\n",
      "Cyclical encoding for 'pickup_month' completed.\n",
      "Performing cyclical encoding on 'pickup_day' column...\n",
      "Cyclical encoding for 'pickup_day' completed.\n",
      "Performing cyclical encoding on 'pickup_day_of_week' column...\n",
      "Cyclical encoding for 'pickup_day_of_week' completed.\n",
      "Performing cyclical encoding on 'pickup_hour' column...\n",
      "Cyclical encoding for 'pickup_hour' completed.\n",
      "Dropping original columns after encoding...\n",
      "Transformation completed.\n",
      ">>>> Starting to encode the features ...\n",
      "Starting transformations...\n",
      "Dropping 'id' column...\n",
      "Performing dummy encoding on 'vendor_id' column...\n",
      "Performing dummy encoding on 'store_and_fwd_flag' column...\n",
      "Performing cyclical encoding on 'pickup_month' column...\n",
      "Cyclical encoding for 'pickup_month' completed.\n",
      "Performing cyclical encoding on 'pickup_day' column...\n",
      "Cyclical encoding for 'pickup_day' completed.\n",
      "Performing cyclical encoding on 'pickup_day_of_week' column...\n",
      "Cyclical encoding for 'pickup_day_of_week' completed.\n",
      "Performing cyclical encoding on 'pickup_hour' column...\n",
      "Cyclical encoding for 'pickup_hour' completed.\n",
      "Dropping original columns after encoding...\n",
      "Transformation completed.\n",
      "CPU times: total: 4.83 s\n",
      "Wall time: 5.24 s\n"
     ]
    }
   ],
   "source": [
    "%%time\n",
    "feature_encoding = FeatureEncoding()\n",
    "X_train = feature_encoding.transform(X_train)\n",
    "X_test = feature_encoding.transform(X_test)"
   ]
  },
  {
   "cell_type": "code",
   "execution_count": 13,
   "id": "f76fb17e-8a65-4a39-b9da-6e4d405e07f6",
   "metadata": {},
   "outputs": [
    {
     "name": "stdout",
     "output_type": "stream",
     "text": [
      "<class 'pandas.core.frame.DataFrame'>\n",
      "Int64Index: 1155196 entries, 1053743 to 121958\n",
      "Data columns (total 16 columns):\n",
      " #   Column                  Non-Null Count    Dtype  \n",
      "---  ------                  --------------    -----  \n",
      " 0   log_passenger_count     1155196 non-null  float64\n",
      " 1   log_pickup_longitude    1155196 non-null  float64\n",
      " 2   pickup_latitude         1155196 non-null  float64\n",
      " 3   log_dropoff_longitude   1155196 non-null  float64\n",
      " 4   dropoff_latitude        1155196 non-null  float64\n",
      " 5   log_distance_osrm       1155196 non-null  float64\n",
      " 6   vendor_id_2             1155196 non-null  uint8  \n",
      " 7   store_and_fwd_flag_Y    1155196 non-null  uint8  \n",
      " 8   pickup_month_sin        1155196 non-null  float64\n",
      " 9   pickup_month_cos        1155196 non-null  float64\n",
      " 10  pickup_day_sin          1155196 non-null  float64\n",
      " 11  pickup_day_cos          1155196 non-null  float64\n",
      " 12  pickup_day_of_week_sin  1155196 non-null  float64\n",
      " 13  pickup_day_of_week_cos  1155196 non-null  float64\n",
      " 14  pickup_hour_sin         1155196 non-null  float64\n",
      " 15  pickup_hour_cos         1155196 non-null  float64\n",
      "dtypes: float64(14), uint8(2)\n",
      "memory usage: 134.4 MB\n"
     ]
    }
   ],
   "source": [
    "X_train.info()"
   ]
  },
  {
   "cell_type": "code",
   "execution_count": 14,
   "id": "f2ff547b-14c4-4b61-851e-c3b06764e9d6",
   "metadata": {},
   "outputs": [
    {
     "name": "stdout",
     "output_type": "stream",
     "text": [
      "<class 'pandas.core.frame.DataFrame'>\n",
      "Int64Index: 291728 entries, 67250 to 589044\n",
      "Data columns (total 16 columns):\n",
      " #   Column                  Non-Null Count   Dtype  \n",
      "---  ------                  --------------   -----  \n",
      " 0   log_passenger_count     291728 non-null  float64\n",
      " 1   log_pickup_longitude    291728 non-null  float64\n",
      " 2   pickup_latitude         291728 non-null  float64\n",
      " 3   log_dropoff_longitude   291728 non-null  float64\n",
      " 4   dropoff_latitude        291728 non-null  float64\n",
      " 5   log_distance_osrm       291728 non-null  float64\n",
      " 6   vendor_id_2             291728 non-null  uint8  \n",
      " 7   store_and_fwd_flag_Y    291728 non-null  uint8  \n",
      " 8   pickup_month_sin        291728 non-null  float64\n",
      " 9   pickup_month_cos        291728 non-null  float64\n",
      " 10  pickup_day_sin          291728 non-null  float64\n",
      " 11  pickup_day_cos          291728 non-null  float64\n",
      " 12  pickup_day_of_week_sin  291728 non-null  float64\n",
      " 13  pickup_day_of_week_cos  291728 non-null  float64\n",
      " 14  pickup_hour_sin         291728 non-null  float64\n",
      " 15  pickup_hour_cos         291728 non-null  float64\n",
      "dtypes: float64(14), uint8(2)\n",
      "memory usage: 33.9 MB\n"
     ]
    }
   ],
   "source": [
    "X_test.info()"
   ]
  },
  {
   "cell_type": "code",
   "execution_count": 15,
   "id": "037d8ee5-70a3-465a-af8c-cba097b8b526",
   "metadata": {},
   "outputs": [],
   "source": [
    "# Define models\n",
    "models = [\n",
    "    ('LR', LinearRegression()),\n",
    "    ('DTR', DecisionTreeRegressor()),\n",
    "    ('XGBR', XGBRegressor())\n",
    "]"
   ]
  },
  {
   "cell_type": "code",
   "execution_count": 16,
   "id": "3ab6109f-0ae2-4bf2-819c-0939b1e02387",
   "metadata": {},
   "outputs": [
    {
     "name": "stdout",
     "output_type": "stream",
     "text": [
      "LR - RMSLE: 0.0646, Fit time: 1.6233 seconds\n",
      "DTR - RMSLE: 0.0807, Fit time: 33.0034 seconds\n",
      "XGBR - RMSLE: 0.0591, Fit time: 13.9955 seconds\n"
     ]
    }
   ],
   "source": [
    "stage_8 = evaluate_models(models, X_train, y_train, X_test, y_test)"
   ]
  },
  {
   "cell_type": "markdown",
   "id": "5ab4ac09-63c6-4e3f-ac0e-3203ddfbf060",
   "metadata": {
    "jp-MarkdownHeadingCollapsed": true
   },
   "source": [
    "### Stage 9: Encoding Features"
   ]
  },
  {
   "cell_type": "code",
   "execution_count": 23,
   "id": "b4baa39d-eab8-46d7-8a35-7d525d918509",
   "metadata": {},
   "outputs": [
    {
     "name": "stdout",
     "output_type": "stream",
     "text": [
      "<class 'pandas.core.frame.DataFrame'>\n",
      "RangeIndex: 1458644 entries, 0 to 1458643\n",
      "Data columns (total 14 columns):\n",
      " #   Column                   Non-Null Count    Dtype  \n",
      "---  ------                   --------------    -----  \n",
      " 0   id                       1458644 non-null  object \n",
      " 1   vendor_id                1458644 non-null  int64  \n",
      " 2   pickup_datetime          1458644 non-null  object \n",
      " 3   dropoff_datetime         1458644 non-null  object \n",
      " 4   passenger_count          1458644 non-null  int64  \n",
      " 5   pickup_longitude         1458644 non-null  float64\n",
      " 6   pickup_latitude          1458644 non-null  float64\n",
      " 7   dropoff_longitude        1458644 non-null  float64\n",
      " 8   dropoff_latitude         1458644 non-null  float64\n",
      " 9   store_and_fwd_flag       1458644 non-null  object \n",
      " 10  trip_duration            1458644 non-null  int64  \n",
      " 11  distance_osrm            1458627 non-null  float64\n",
      " 12  pickup_dist_NYC_center   1458644 non-null  float64\n",
      " 13  dropoff_dist_NYC_center  1458644 non-null  float64\n",
      "dtypes: float64(7), int64(3), object(4)\n",
      "memory usage: 155.8+ MB\n"
     ]
    }
   ],
   "source": [
    "from playground import *\n",
    "df = pd.read_csv(\"csv_ml/eda_01.csv\")\n",
    "df.info()"
   ]
  },
  {
   "cell_type": "code",
   "execution_count": 24,
   "id": "a47d35de-65b0-4319-970b-784d63399acb",
   "metadata": {},
   "outputs": [],
   "source": [
    "X = df.drop(columns=\"trip_duration\", axis=1)\n",
    "y = df[\"trip_duration\"]"
   ]
  },
  {
   "cell_type": "code",
   "execution_count": 25,
   "id": "e372b669-440c-4bd5-a4d1-ffb80fffbd36",
   "metadata": {},
   "outputs": [],
   "source": [
    "X_train, X_test, y_train, y_test = train_test_split(X, y, test_size = 0.20, random_state = 42)"
   ]
  },
  {
   "cell_type": "code",
   "execution_count": 26,
   "id": "637369ae-58ca-4977-b4c5-48bb52976cc8",
   "metadata": {},
   "outputs": [
    {
     "name": "stdout",
     "output_type": "stream",
     "text": [
      ">>>> Starting the process of removing duplicates ...\n",
      "No duplicates found.\n",
      "CPU times: total: 5.06 s\n",
      "Wall time: 5.23 s\n"
     ]
    }
   ],
   "source": [
    "%%time\n",
    "rm_duplicates = RemoveDuplicates()\n",
    "X_train, y_train = rm_duplicates.transform(X_train, y_train)"
   ]
  },
  {
   "cell_type": "code",
   "execution_count": 27,
   "id": "7b0fb296-d567-4b1f-ace1-faa999b41ffa",
   "metadata": {},
   "outputs": [
    {
     "name": "stdout",
     "output_type": "stream",
     "text": [
      ">>>> Starting data type conversion process...\n",
      "Column 'vendor_id' changed from int64 to object\n",
      "Column 'pickup_datetime' changed from object to datetime64[ns]\n",
      "Column 'dropoff_datetime' changed from object to datetime64[ns]\n",
      ">>>> Starting data type conversion process...\n",
      "Column 'vendor_id' changed from int64 to object\n",
      "Column 'pickup_datetime' changed from object to datetime64[ns]\n",
      "Column 'dropoff_datetime' changed from object to datetime64[ns]\n",
      "CPU times: total: 5.2 s\n",
      "Wall time: 5.59 s\n"
     ]
    }
   ],
   "source": [
    "%%time\n",
    "to_dtypes = ToDataTypes()\n",
    "X_train, y_train = to_dtypes.transform(X_train, y_train)\n",
    "X_test, y_test = to_dtypes.transform(X_test, y_test)"
   ]
  },
  {
   "cell_type": "code",
   "execution_count": 28,
   "id": "bfcaeb4c-b25d-4f08-a540-f273427b529e",
   "metadata": {},
   "outputs": [
    {
     "name": "stdout",
     "output_type": "stream",
     "text": [
      ">>>> Starting datetime feature extraction...\n",
      "Extracted features: ['pickup_month', 'pickup_day', 'pickup_day_of_week', 'pickup_hour']\n",
      "Dropped columns: ['pickup_datetime', 'dropoff_datetime']\n",
      ">>>> Starting datetime feature extraction...\n",
      "Extracted features: ['pickup_month', 'pickup_day', 'pickup_day_of_week', 'pickup_hour']\n",
      "Dropped columns: ['pickup_datetime', 'dropoff_datetime']\n",
      "CPU times: total: 5.36 s\n",
      "Wall time: 5.55 s\n"
     ]
    }
   ],
   "source": [
    "%%time\n",
    "datetime_break = DateTimeBreak()\n",
    "X_train = datetime_break.transform(X_train)\n",
    "X_test = datetime_break.transform(X_test)"
   ]
  },
  {
   "cell_type": "code",
   "execution_count": 29,
   "id": "6ef3dd7c-6bc3-43c9-8b42-4fb63318f0d3",
   "metadata": {},
   "outputs": [
    {
     "name": "stdout",
     "output_type": "stream",
     "text": [
      "CPU times: total: 0 ns\n",
      "Wall time: 0 ns\n",
      ">>>> Starting missing value imputation...\n",
      "Dropped 16 entries (0.00%) from column 'distance_osrm' due to missing values.\n",
      "Initial data length: 1166915\n",
      "Removed data: 16 (0.00%)\n",
      "Final data length: 1166899\n",
      ">>>> Starting missing value imputation...\n",
      "Dropped 1 entries (0.00%) from column 'distance_osrm' due to missing values.\n",
      "Initial data length: 291729\n",
      "Removed data: 1 (0.00%)\n",
      "Final data length: 291728\n"
     ]
    }
   ],
   "source": [
    "%time\n",
    "miss_val_input = MissValInput()\n",
    "X_train, y_train = miss_val_input.fit_transform(X_train, y_train)\n",
    "X_test, y_test = miss_val_input.transform(X_test, y_test)"
   ]
  },
  {
   "cell_type": "code",
   "execution_count": 30,
   "id": "48d74be6-8459-48d0-9172-5b92d60008a8",
   "metadata": {},
   "outputs": [
    {
     "name": "stdout",
     "output_type": "stream",
     "text": [
      ">>>> Starting features restriction ...\n",
      "The dataset size: 1166899 rows\n",
      "trip_duration (old) -> [min, max]: [1, 3526282]\n",
      "trip_duration (new) -> [min, max]: [60, 86392]\n",
      "distance_osrm (old) -> [min, max]: [0.0, 765.6445]\n",
      "distance_osrm (new) -> [min, max]: [0.1001, 97.7243]\n",
      "speed_osrm column not found, skipping restriction on 'speed_osrm'.\n",
      "passenger_count (old) -> [min, max]: [0, 8]\n",
      "passenger_count (new) -> [min, max]: [1, 8]\n",
      "Total removed data: 11632 (1.00%)\n",
      "CPU times: total: 1.92 s\n",
      "Wall time: 1.99 s\n"
     ]
    }
   ],
   "source": [
    "%%time\n",
    "feature_restriction = FeatureRestriction()\n",
    "X_train, y_train = feature_restriction.transform(X_train, y_train)"
   ]
  },
  {
   "cell_type": "code",
   "execution_count": 31,
   "id": "bb3f9eed-871d-494e-bef5-b1025779bf72",
   "metadata": {},
   "outputs": [
    {
     "name": "stdout",
     "output_type": "stream",
     "text": [
      ">>>> Starting New York City map restriction ...\n",
      "Outliers saved to 'csv_ml_baseline\\outliers_map_ml_baseline.csv'\n",
      "Map saved as 'html_ml_baseline/outliers_map_ml_baseline.html'\n",
      "Removed 71 (0.01%) records outside NYC boundaries.\n",
      "CPU times: total: 2.48 s\n",
      "Wall time: 2.51 s\n"
     ]
    }
   ],
   "source": [
    "%%time\n",
    "outlier_mapper = OutlierMapper(map_title=\"outliers_map_ml_baseline\", csv_dir=\"csv_ml_baseline\", html_dir=\"html_ml_baseline\")\n",
    "X_train, y_train = outlier_mapper.transform(X_train, y_train)\n",
    "X_test.drop(columns=['pickup_dist_NYC_center', 'dropoff_dist_NYC_center'], inplace=True)"
   ]
  },
  {
   "cell_type": "code",
   "execution_count": 32,
   "id": "acbbbbf0-f53a-46d7-b3ad-b6e539efa4c3",
   "metadata": {},
   "outputs": [],
   "source": [
    "X_train = X_train.drop(columns=['id'])\n",
    "X_test = X_test.drop(columns=['id'])\n",
    "\n",
    "col= ['vendor_id', 'store_and_fwd_flag', 'pickup_month', 'pickup_day', 'pickup_day_of_week', 'pickup_hour']\n",
    "\n",
    "X_train[col] = X_train[col].astype(str)\n",
    "X_test[col] = X_test[col].astype(str)\n",
    "\n",
    "X_train = pd.get_dummies(X_train, columns=col, drop_first=True)\n",
    "X_test = pd.get_dummies(X_test, columns=col, drop_first=True)\n",
    "\n",
    "# X_train = X_train.drop(columns=columns_to_drop)\n",
    "# X_test = X_test.drop(columns=columns_to_drop)"
   ]
  },
  {
   "cell_type": "code",
   "execution_count": 12,
   "id": "b04c6aad-5c67-4c08-93a3-19de70267018",
   "metadata": {},
   "outputs": [
    {
     "name": "stdout",
     "output_type": "stream",
     "text": [
      ">>>> Starting to encode the features ...\n",
      "Starting transformations...\n",
      "Dropping 'id' column...\n",
      "Performing dummy encoding on 'vendor_id' column...\n",
      "Performing dummy encoding on 'store_and_fwd_flag' column...\n",
      "Performing cyclical encoding on 'pickup_month' column...\n",
      "Cyclical encoding for 'pickup_month' completed.\n",
      "Performing cyclical encoding on 'pickup_day' column...\n",
      "Cyclical encoding for 'pickup_day' completed.\n",
      "Performing cyclical encoding on 'pickup_day_of_week' column...\n",
      "Cyclical encoding for 'pickup_day_of_week' completed.\n",
      "Performing cyclical encoding on 'pickup_hour' column...\n",
      "Cyclical encoding for 'pickup_hour' completed.\n",
      "Dropping original columns after encoding...\n",
      "Transformation completed.\n",
      ">>>> Starting to encode the features ...\n",
      "Starting transformations...\n",
      "Dropping 'id' column...\n",
      "Performing dummy encoding on 'vendor_id' column...\n",
      "Performing dummy encoding on 'store_and_fwd_flag' column...\n",
      "Performing cyclical encoding on 'pickup_month' column...\n",
      "Cyclical encoding for 'pickup_month' completed.\n",
      "Performing cyclical encoding on 'pickup_day' column...\n",
      "Cyclical encoding for 'pickup_day' completed.\n",
      "Performing cyclical encoding on 'pickup_day_of_week' column...\n",
      "Cyclical encoding for 'pickup_day_of_week' completed.\n",
      "Performing cyclical encoding on 'pickup_hour' column...\n",
      "Cyclical encoding for 'pickup_hour' completed.\n",
      "Dropping original columns after encoding...\n",
      "Transformation completed.\n",
      "CPU times: total: 4.83 s\n",
      "Wall time: 5.24 s\n"
     ]
    }
   ],
   "source": [
    "# %%time\n",
    "# feature_encoding = FeatureEncoding()\n",
    "# X_train = feature_encoding.transform(X_train)\n",
    "# X_test = feature_encoding.transform(X_test)"
   ]
  },
  {
   "cell_type": "code",
   "execution_count": 34,
   "id": "7e6bca7b-c29b-4ca5-ae78-73e4b95342df",
   "metadata": {
    "scrolled": true
   },
   "outputs": [
    {
     "name": "stdout",
     "output_type": "stream",
     "text": [
      "<class 'pandas.core.frame.DataFrame'>\n",
      "Int64Index: 1155196 entries, 1053743 to 121958\n",
      "Data columns (total 72 columns):\n",
      " #   Column                Non-Null Count    Dtype  \n",
      "---  ------                --------------    -----  \n",
      " 0   passenger_count       1155196 non-null  int64  \n",
      " 1   pickup_longitude      1155196 non-null  float64\n",
      " 2   pickup_latitude       1155196 non-null  float64\n",
      " 3   dropoff_longitude     1155196 non-null  float64\n",
      " 4   dropoff_latitude      1155196 non-null  float64\n",
      " 5   distance_osrm         1155196 non-null  float64\n",
      " 6   vendor_id_2           1155196 non-null  uint8  \n",
      " 7   store_and_fwd_flag_Y  1155196 non-null  uint8  \n",
      " 8   pickup_month_2        1155196 non-null  uint8  \n",
      " 9   pickup_month_3        1155196 non-null  uint8  \n",
      " 10  pickup_month_4        1155196 non-null  uint8  \n",
      " 11  pickup_month_5        1155196 non-null  uint8  \n",
      " 12  pickup_month_6        1155196 non-null  uint8  \n",
      " 13  pickup_day_10         1155196 non-null  uint8  \n",
      " 14  pickup_day_11         1155196 non-null  uint8  \n",
      " 15  pickup_day_12         1155196 non-null  uint8  \n",
      " 16  pickup_day_13         1155196 non-null  uint8  \n",
      " 17  pickup_day_14         1155196 non-null  uint8  \n",
      " 18  pickup_day_15         1155196 non-null  uint8  \n",
      " 19  pickup_day_16         1155196 non-null  uint8  \n",
      " 20  pickup_day_17         1155196 non-null  uint8  \n",
      " 21  pickup_day_18         1155196 non-null  uint8  \n",
      " 22  pickup_day_19         1155196 non-null  uint8  \n",
      " 23  pickup_day_2          1155196 non-null  uint8  \n",
      " 24  pickup_day_20         1155196 non-null  uint8  \n",
      " 25  pickup_day_21         1155196 non-null  uint8  \n",
      " 26  pickup_day_22         1155196 non-null  uint8  \n",
      " 27  pickup_day_23         1155196 non-null  uint8  \n",
      " 28  pickup_day_24         1155196 non-null  uint8  \n",
      " 29  pickup_day_25         1155196 non-null  uint8  \n",
      " 30  pickup_day_26         1155196 non-null  uint8  \n",
      " 31  pickup_day_27         1155196 non-null  uint8  \n",
      " 32  pickup_day_28         1155196 non-null  uint8  \n",
      " 33  pickup_day_29         1155196 non-null  uint8  \n",
      " 34  pickup_day_3          1155196 non-null  uint8  \n",
      " 35  pickup_day_30         1155196 non-null  uint8  \n",
      " 36  pickup_day_31         1155196 non-null  uint8  \n",
      " 37  pickup_day_4          1155196 non-null  uint8  \n",
      " 38  pickup_day_5          1155196 non-null  uint8  \n",
      " 39  pickup_day_6          1155196 non-null  uint8  \n",
      " 40  pickup_day_7          1155196 non-null  uint8  \n",
      " 41  pickup_day_8          1155196 non-null  uint8  \n",
      " 42  pickup_day_9          1155196 non-null  uint8  \n",
      " 43  pickup_day_of_week_1  1155196 non-null  uint8  \n",
      " 44  pickup_day_of_week_2  1155196 non-null  uint8  \n",
      " 45  pickup_day_of_week_3  1155196 non-null  uint8  \n",
      " 46  pickup_day_of_week_4  1155196 non-null  uint8  \n",
      " 47  pickup_day_of_week_5  1155196 non-null  uint8  \n",
      " 48  pickup_day_of_week_6  1155196 non-null  uint8  \n",
      " 49  pickup_hour_1         1155196 non-null  uint8  \n",
      " 50  pickup_hour_10        1155196 non-null  uint8  \n",
      " 51  pickup_hour_11        1155196 non-null  uint8  \n",
      " 52  pickup_hour_12        1155196 non-null  uint8  \n",
      " 53  pickup_hour_13        1155196 non-null  uint8  \n",
      " 54  pickup_hour_14        1155196 non-null  uint8  \n",
      " 55  pickup_hour_15        1155196 non-null  uint8  \n",
      " 56  pickup_hour_16        1155196 non-null  uint8  \n",
      " 57  pickup_hour_17        1155196 non-null  uint8  \n",
      " 58  pickup_hour_18        1155196 non-null  uint8  \n",
      " 59  pickup_hour_19        1155196 non-null  uint8  \n",
      " 60  pickup_hour_2         1155196 non-null  uint8  \n",
      " 61  pickup_hour_20        1155196 non-null  uint8  \n",
      " 62  pickup_hour_21        1155196 non-null  uint8  \n",
      " 63  pickup_hour_22        1155196 non-null  uint8  \n",
      " 64  pickup_hour_23        1155196 non-null  uint8  \n",
      " 65  pickup_hour_3         1155196 non-null  uint8  \n",
      " 66  pickup_hour_4         1155196 non-null  uint8  \n",
      " 67  pickup_hour_5         1155196 non-null  uint8  \n",
      " 68  pickup_hour_6         1155196 non-null  uint8  \n",
      " 69  pickup_hour_7         1155196 non-null  uint8  \n",
      " 70  pickup_hour_8         1155196 non-null  uint8  \n",
      " 71  pickup_hour_9         1155196 non-null  uint8  \n",
      "dtypes: float64(5), int64(1), uint8(66)\n",
      "memory usage: 134.4 MB\n"
     ]
    }
   ],
   "source": [
    "X_train.info()"
   ]
  },
  {
   "cell_type": "code",
   "execution_count": 35,
   "id": "87715707-d030-471f-aa2f-8588d39c59c3",
   "metadata": {
    "scrolled": true
   },
   "outputs": [
    {
     "name": "stdout",
     "output_type": "stream",
     "text": [
      "<class 'pandas.core.frame.DataFrame'>\n",
      "Int64Index: 291728 entries, 67250 to 589044\n",
      "Data columns (total 72 columns):\n",
      " #   Column                Non-Null Count   Dtype  \n",
      "---  ------                --------------   -----  \n",
      " 0   passenger_count       291728 non-null  int64  \n",
      " 1   pickup_longitude      291728 non-null  float64\n",
      " 2   pickup_latitude       291728 non-null  float64\n",
      " 3   dropoff_longitude     291728 non-null  float64\n",
      " 4   dropoff_latitude      291728 non-null  float64\n",
      " 5   distance_osrm         291728 non-null  float64\n",
      " 6   vendor_id_2           291728 non-null  uint8  \n",
      " 7   store_and_fwd_flag_Y  291728 non-null  uint8  \n",
      " 8   pickup_month_2        291728 non-null  uint8  \n",
      " 9   pickup_month_3        291728 non-null  uint8  \n",
      " 10  pickup_month_4        291728 non-null  uint8  \n",
      " 11  pickup_month_5        291728 non-null  uint8  \n",
      " 12  pickup_month_6        291728 non-null  uint8  \n",
      " 13  pickup_day_10         291728 non-null  uint8  \n",
      " 14  pickup_day_11         291728 non-null  uint8  \n",
      " 15  pickup_day_12         291728 non-null  uint8  \n",
      " 16  pickup_day_13         291728 non-null  uint8  \n",
      " 17  pickup_day_14         291728 non-null  uint8  \n",
      " 18  pickup_day_15         291728 non-null  uint8  \n",
      " 19  pickup_day_16         291728 non-null  uint8  \n",
      " 20  pickup_day_17         291728 non-null  uint8  \n",
      " 21  pickup_day_18         291728 non-null  uint8  \n",
      " 22  pickup_day_19         291728 non-null  uint8  \n",
      " 23  pickup_day_2          291728 non-null  uint8  \n",
      " 24  pickup_day_20         291728 non-null  uint8  \n",
      " 25  pickup_day_21         291728 non-null  uint8  \n",
      " 26  pickup_day_22         291728 non-null  uint8  \n",
      " 27  pickup_day_23         291728 non-null  uint8  \n",
      " 28  pickup_day_24         291728 non-null  uint8  \n",
      " 29  pickup_day_25         291728 non-null  uint8  \n",
      " 30  pickup_day_26         291728 non-null  uint8  \n",
      " 31  pickup_day_27         291728 non-null  uint8  \n",
      " 32  pickup_day_28         291728 non-null  uint8  \n",
      " 33  pickup_day_29         291728 non-null  uint8  \n",
      " 34  pickup_day_3          291728 non-null  uint8  \n",
      " 35  pickup_day_30         291728 non-null  uint8  \n",
      " 36  pickup_day_31         291728 non-null  uint8  \n",
      " 37  pickup_day_4          291728 non-null  uint8  \n",
      " 38  pickup_day_5          291728 non-null  uint8  \n",
      " 39  pickup_day_6          291728 non-null  uint8  \n",
      " 40  pickup_day_7          291728 non-null  uint8  \n",
      " 41  pickup_day_8          291728 non-null  uint8  \n",
      " 42  pickup_day_9          291728 non-null  uint8  \n",
      " 43  pickup_day_of_week_1  291728 non-null  uint8  \n",
      " 44  pickup_day_of_week_2  291728 non-null  uint8  \n",
      " 45  pickup_day_of_week_3  291728 non-null  uint8  \n",
      " 46  pickup_day_of_week_4  291728 non-null  uint8  \n",
      " 47  pickup_day_of_week_5  291728 non-null  uint8  \n",
      " 48  pickup_day_of_week_6  291728 non-null  uint8  \n",
      " 49  pickup_hour_1         291728 non-null  uint8  \n",
      " 50  pickup_hour_10        291728 non-null  uint8  \n",
      " 51  pickup_hour_11        291728 non-null  uint8  \n",
      " 52  pickup_hour_12        291728 non-null  uint8  \n",
      " 53  pickup_hour_13        291728 non-null  uint8  \n",
      " 54  pickup_hour_14        291728 non-null  uint8  \n",
      " 55  pickup_hour_15        291728 non-null  uint8  \n",
      " 56  pickup_hour_16        291728 non-null  uint8  \n",
      " 57  pickup_hour_17        291728 non-null  uint8  \n",
      " 58  pickup_hour_18        291728 non-null  uint8  \n",
      " 59  pickup_hour_19        291728 non-null  uint8  \n",
      " 60  pickup_hour_2         291728 non-null  uint8  \n",
      " 61  pickup_hour_20        291728 non-null  uint8  \n",
      " 62  pickup_hour_21        291728 non-null  uint8  \n",
      " 63  pickup_hour_22        291728 non-null  uint8  \n",
      " 64  pickup_hour_23        291728 non-null  uint8  \n",
      " 65  pickup_hour_3         291728 non-null  uint8  \n",
      " 66  pickup_hour_4         291728 non-null  uint8  \n",
      " 67  pickup_hour_5         291728 non-null  uint8  \n",
      " 68  pickup_hour_6         291728 non-null  uint8  \n",
      " 69  pickup_hour_7         291728 non-null  uint8  \n",
      " 70  pickup_hour_8         291728 non-null  uint8  \n",
      " 71  pickup_hour_9         291728 non-null  uint8  \n",
      "dtypes: float64(5), int64(1), uint8(66)\n",
      "memory usage: 33.9 MB\n"
     ]
    }
   ],
   "source": [
    "X_test.info()"
   ]
  },
  {
   "cell_type": "code",
   "execution_count": 36,
   "id": "c1548778-0f6a-4e7a-929f-a6e2f4f47386",
   "metadata": {},
   "outputs": [],
   "source": [
    "# Define models\n",
    "models = [\n",
    "    ('LR', LinearRegression()),\n",
    "    ('DTR', DecisionTreeRegressor()),\n",
    "    ('XGBR', XGBRegressor())\n",
    "]"
   ]
  },
  {
   "cell_type": "code",
   "execution_count": 37,
   "id": "d0d3b838-4633-4d03-a500-675c7b44d0fd",
   "metadata": {},
   "outputs": [
    {
     "name": "stdout",
     "output_type": "stream",
     "text": [
      "LR - RMSLE: 0.6432, Fit time: 12.7416 seconds\n",
      "DTR - RMSLE: 0.6035, Fit time: 90.4740 seconds\n",
      "XGBR - RMSLE: 0.6035, Fit time: 23.4781 seconds\n"
     ]
    }
   ],
   "source": [
    "stage_9 = evaluate_models(models, X_train, y_train, X_test, y_test)"
   ]
  },
  {
   "cell_type": "markdown",
   "id": "ab14aa29-a546-470b-a582-84b76bea431b",
   "metadata": {
    "jp-MarkdownHeadingCollapsed": true
   },
   "source": [
    "### Stage 10: Feature Scaling - Standardization (Z-score normalization)"
   ]
  },
  {
   "cell_type": "code",
   "execution_count": 34,
   "id": "5d7e0e1a-f7ba-4dbc-8f2b-847be7f4d385",
   "metadata": {},
   "outputs": [
    {
     "name": "stdout",
     "output_type": "stream",
     "text": [
      "<class 'pandas.core.frame.DataFrame'>\n",
      "RangeIndex: 1458644 entries, 0 to 1458643\n",
      "Data columns (total 14 columns):\n",
      " #   Column                   Non-Null Count    Dtype  \n",
      "---  ------                   --------------    -----  \n",
      " 0   id                       1458644 non-null  object \n",
      " 1   vendor_id                1458644 non-null  int64  \n",
      " 2   pickup_datetime          1458644 non-null  object \n",
      " 3   dropoff_datetime         1458644 non-null  object \n",
      " 4   passenger_count          1458644 non-null  int64  \n",
      " 5   pickup_longitude         1458644 non-null  float64\n",
      " 6   pickup_latitude          1458644 non-null  float64\n",
      " 7   dropoff_longitude        1458644 non-null  float64\n",
      " 8   dropoff_latitude         1458644 non-null  float64\n",
      " 9   store_and_fwd_flag       1458644 non-null  object \n",
      " 10  trip_duration            1458644 non-null  int64  \n",
      " 11  distance_osrm            1458627 non-null  float64\n",
      " 12  pickup_dist_NYC_center   1458644 non-null  float64\n",
      " 13  dropoff_dist_NYC_center  1458644 non-null  float64\n",
      "dtypes: float64(7), int64(3), object(4)\n",
      "memory usage: 155.8+ MB\n"
     ]
    }
   ],
   "source": [
    "from playground import *\n",
    "df = pd.read_csv(\"csv_ml/eda_01.csv\")\n",
    "df.info()"
   ]
  },
  {
   "cell_type": "code",
   "execution_count": 35,
   "id": "e473b295-bccc-4eca-8146-8737b13d6a77",
   "metadata": {},
   "outputs": [],
   "source": [
    "X = df.drop(columns=\"trip_duration\", axis=1)\n",
    "y = df[\"trip_duration\"]"
   ]
  },
  {
   "cell_type": "code",
   "execution_count": 36,
   "id": "f7157a1d-517b-4f3c-8beb-0a7eb421cff3",
   "metadata": {},
   "outputs": [],
   "source": [
    "X_train, X_test, y_train, y_test = train_test_split(X, y, test_size = 0.20, random_state = 42)"
   ]
  },
  {
   "cell_type": "code",
   "execution_count": 37,
   "id": "ff278d33-e813-44c4-a2ed-5bedd7d7f7a5",
   "metadata": {},
   "outputs": [
    {
     "name": "stdout",
     "output_type": "stream",
     "text": [
      ">>>> Starting the process of removing duplicates ...\n",
      "No duplicates found.\n",
      "CPU times: total: 5.45 s\n",
      "Wall time: 5.49 s\n"
     ]
    }
   ],
   "source": [
    "%%time\n",
    "rm_duplicates = RemoveDuplicates()\n",
    "X_train, y_train = rm_duplicates.transform(X_train, y_train)"
   ]
  },
  {
   "cell_type": "code",
   "execution_count": 38,
   "id": "137d873f-71ca-4953-8fce-0dfb1e504ef5",
   "metadata": {},
   "outputs": [
    {
     "name": "stdout",
     "output_type": "stream",
     "text": [
      ">>>> Starting data type conversion process...\n",
      "Column 'vendor_id' changed from int64 to object\n",
      "Column 'pickup_datetime' changed from object to datetime64[ns]\n",
      "Column 'dropoff_datetime' changed from object to datetime64[ns]\n",
      ">>>> Starting data type conversion process...\n",
      "Column 'vendor_id' changed from int64 to object\n",
      "Column 'pickup_datetime' changed from object to datetime64[ns]\n",
      "Column 'dropoff_datetime' changed from object to datetime64[ns]\n",
      "CPU times: total: 5.53 s\n",
      "Wall time: 5.59 s\n"
     ]
    }
   ],
   "source": [
    "%%time\n",
    "to_dtypes = ToDataTypes()\n",
    "X_train, y_train = to_dtypes.transform(X_train, y_train)\n",
    "X_test, y_test = to_dtypes.transform(X_test, y_test)"
   ]
  },
  {
   "cell_type": "code",
   "execution_count": 39,
   "id": "c1af06eb-15a5-40f8-8b0b-b045a28ae22f",
   "metadata": {},
   "outputs": [
    {
     "name": "stdout",
     "output_type": "stream",
     "text": [
      ">>>> Starting datetime feature extraction...\n",
      "Extracted features: ['pickup_month', 'pickup_day', 'pickup_day_of_week', 'pickup_hour']\n",
      "Dropped columns: ['pickup_datetime', 'dropoff_datetime']\n",
      ">>>> Starting datetime feature extraction...\n",
      "Extracted features: ['pickup_month', 'pickup_day', 'pickup_day_of_week', 'pickup_hour']\n",
      "Dropped columns: ['pickup_datetime', 'dropoff_datetime']\n",
      "CPU times: total: 5.69 s\n",
      "Wall time: 5.88 s\n"
     ]
    }
   ],
   "source": [
    "%%time\n",
    "datetime_break = DateTimeBreak()\n",
    "X_train = datetime_break.transform(X_train)\n",
    "X_test = datetime_break.transform(X_test)"
   ]
  },
  {
   "cell_type": "code",
   "execution_count": 40,
   "id": "36bc0d04-a996-4b24-a931-bf70d8d5fe09",
   "metadata": {},
   "outputs": [
    {
     "name": "stdout",
     "output_type": "stream",
     "text": [
      "CPU times: total: 0 ns\n",
      "Wall time: 0 ns\n",
      ">>>> Starting missing value imputation...\n",
      "Dropped 16 entries (0.00%) from column 'distance_osrm' due to missing values.\n",
      "Initial data length: 1166915\n",
      "Removed data: 16 (0.00%)\n",
      "Final data length: 1166899\n",
      ">>>> Starting missing value imputation...\n",
      "Dropped 1 entries (0.00%) from column 'distance_osrm' due to missing values.\n",
      "Initial data length: 291729\n",
      "Removed data: 1 (0.00%)\n",
      "Final data length: 291728\n"
     ]
    }
   ],
   "source": [
    "%time\n",
    "miss_val_input = MissValInput()\n",
    "X_train, y_train = miss_val_input.fit_transform(X_train, y_train)\n",
    "X_test, y_test = miss_val_input.transform(X_test, y_test)"
   ]
  },
  {
   "cell_type": "code",
   "execution_count": 41,
   "id": "4a16103b-832d-43f0-82b3-420f072a7501",
   "metadata": {},
   "outputs": [
    {
     "name": "stdout",
     "output_type": "stream",
     "text": [
      ">>>> Starting features restriction ...\n",
      "The dataset size: 1166899 rows\n",
      "trip_duration (old) -> [min, max]: [1, 3526282]\n",
      "trip_duration (new) -> [min, max]: [60, 86392]\n",
      "distance_osrm (old) -> [min, max]: [0.0, 765.6445]\n",
      "distance_osrm (new) -> [min, max]: [0.1001, 97.7243]\n",
      "speed_osrm column not found, skipping restriction on 'speed_osrm'.\n",
      "passenger_count (old) -> [min, max]: [0, 8]\n",
      "passenger_count (new) -> [min, max]: [1, 8]\n",
      "Total removed data: 11632 (1.00%)\n",
      "CPU times: total: 1.95 s\n",
      "Wall time: 2.02 s\n"
     ]
    }
   ],
   "source": [
    "%%time\n",
    "feature_restriction = FeatureRestriction()\n",
    "X_train, y_train = feature_restriction.transform(X_train, y_train)"
   ]
  },
  {
   "cell_type": "code",
   "execution_count": 42,
   "id": "e43b26ae-a63d-423c-8300-9a70c2498995",
   "metadata": {},
   "outputs": [
    {
     "name": "stdout",
     "output_type": "stream",
     "text": [
      ">>>> Starting New York City map restriction ...\n",
      "Outliers saved to 'csv_ml_baseline\\outliers_map_ml_baseline.csv'\n",
      "Map saved as 'html_ml_baseline/outliers_map_ml_baseline.html'\n",
      "Removed 71 (0.01%) records outside NYC boundaries.\n",
      "CPU times: total: 2.39 s\n",
      "Wall time: 2.52 s\n"
     ]
    }
   ],
   "source": [
    "%%time\n",
    "outlier_mapper = OutlierMapper(map_title=\"outliers_map_ml_baseline\", csv_dir=\"csv_ml_baseline\", html_dir=\"html_ml_baseline\")\n",
    "X_train, y_train = outlier_mapper.transform(X_train, y_train)\n",
    "X_test.drop(columns=['pickup_dist_NYC_center', 'dropoff_dist_NYC_center'], inplace=True)"
   ]
  },
  {
   "cell_type": "code",
   "execution_count": 43,
   "id": "52779df4-41ae-4fde-94a2-4ae406a51618",
   "metadata": {},
   "outputs": [
    {
     "name": "stdout",
     "output_type": "stream",
     "text": [
      ">>>> Starting to encode the features ...\n",
      "Starting transformations...\n",
      "Dropping 'id' column...\n",
      "Performing dummy encoding on 'vendor_id' column...\n",
      "Performing dummy encoding on 'store_and_fwd_flag' column...\n",
      "Performing cyclical encoding on 'pickup_month' column...\n",
      "Cyclical encoding for 'pickup_month' completed.\n",
      "Performing cyclical encoding on 'pickup_day' column...\n",
      "Cyclical encoding for 'pickup_day' completed.\n",
      "Performing cyclical encoding on 'pickup_day_of_week' column...\n",
      "Cyclical encoding for 'pickup_day_of_week' completed.\n",
      "Performing cyclical encoding on 'pickup_hour' column...\n",
      "Cyclical encoding for 'pickup_hour' completed.\n",
      "Dropping original columns after encoding...\n",
      "Transformation completed.\n",
      ">>>> Starting to encode the features ...\n",
      "Starting transformations...\n",
      "Dropping 'id' column...\n",
      "Performing dummy encoding on 'vendor_id' column...\n",
      "Performing dummy encoding on 'store_and_fwd_flag' column...\n",
      "Performing cyclical encoding on 'pickup_month' column...\n",
      "Cyclical encoding for 'pickup_month' completed.\n",
      "Performing cyclical encoding on 'pickup_day' column...\n",
      "Cyclical encoding for 'pickup_day' completed.\n",
      "Performing cyclical encoding on 'pickup_day_of_week' column...\n",
      "Cyclical encoding for 'pickup_day_of_week' completed.\n",
      "Performing cyclical encoding on 'pickup_hour' column...\n",
      "Cyclical encoding for 'pickup_hour' completed.\n",
      "Dropping original columns after encoding...\n",
      "Transformation completed.\n",
      "CPU times: total: 4.86 s\n",
      "Wall time: 5.46 s\n"
     ]
    }
   ],
   "source": [
    "%%time\n",
    "feature_encoding = FeatureEncoding()\n",
    "X_train = feature_encoding.transform(X_train)\n",
    "X_test = feature_encoding.transform(X_test)"
   ]
  },
  {
   "cell_type": "code",
   "execution_count": 44,
   "id": "8f5f4d13-8fc7-4b6e-bc4b-b0853eb78959",
   "metadata": {},
   "outputs": [],
   "source": [
    "# standard_scaler = StandardScaler()\n",
    "# X_train = standard_scaler.fit_transform(X_train)\n",
    "# X_test = standard_scaler.transform(X_test)"
   ]
  },
  {
   "cell_type": "code",
   "execution_count": 45,
   "id": "02ec86ce-25be-410e-ab4a-ba6ca1324d5b",
   "metadata": {},
   "outputs": [],
   "source": [
    "# minmax_scaler = MinMaxScaler()\n",
    "# X_train = minmax_scaler.fit_transform(X_train)\n",
    "# X_test = minmax_scaler.transform(X_test)"
   ]
  },
  {
   "cell_type": "code",
   "execution_count": 46,
   "id": "8c8fdd0c-7638-438a-9d03-4f7e9ef87979",
   "metadata": {},
   "outputs": [],
   "source": [
    "robust_scaler = RobustScaler()\n",
    "X_train = robust_scaler.fit_transform(X_train)\n",
    "X_test = robust_scaler.transform(X_test)"
   ]
  },
  {
   "cell_type": "code",
   "execution_count": 47,
   "id": "0d15a22b-d139-4b7d-bc55-518dd0ffef7c",
   "metadata": {},
   "outputs": [],
   "source": [
    "# Define models\n",
    "models = [\n",
    "    ('LR', LinearRegression()),\n",
    "    ('DTR', DecisionTreeRegressor()),\n",
    "    ('XGBR', XGBRegressor())\n",
    "]"
   ]
  },
  {
   "cell_type": "code",
   "execution_count": 48,
   "id": "3a9db002-9600-455b-9d04-846377ccf014",
   "metadata": {},
   "outputs": [
    {
     "name": "stdout",
     "output_type": "stream",
     "text": [
      "LR - RMSLE: 0.6386, Fit time: 1.3335 seconds\n",
      "DTR - RMSLE: 0.6119, Fit time: 48.9959 seconds\n",
      "XGBR - RMSLE: 0.5986, Fit time: 12.1261 seconds\n"
     ]
    }
   ],
   "source": [
    "stage_10 = evaluate_models(models, X_train, y_train, X_test, y_test)"
   ]
  },
  {
   "cell_type": "markdown",
   "id": "a9b63bd7-b353-4544-9cda-6859544edb74",
   "metadata": {
    "jp-MarkdownHeadingCollapsed": true
   },
   "source": [
    "### Stage 11: Feature Selection - Numerical-Numerical Feature Selection"
   ]
  },
  {
   "cell_type": "code",
   "execution_count": 1,
   "id": "68d77f60-d5bc-4ce6-928f-350213748e75",
   "metadata": {},
   "outputs": [
    {
     "name": "stdout",
     "output_type": "stream",
     "text": [
      "<class 'pandas.core.frame.DataFrame'>\n",
      "RangeIndex: 1458644 entries, 0 to 1458643\n",
      "Data columns (total 14 columns):\n",
      " #   Column                   Non-Null Count    Dtype  \n",
      "---  ------                   --------------    -----  \n",
      " 0   id                       1458644 non-null  object \n",
      " 1   vendor_id                1458644 non-null  int64  \n",
      " 2   pickup_datetime          1458644 non-null  object \n",
      " 3   dropoff_datetime         1458644 non-null  object \n",
      " 4   passenger_count          1458644 non-null  int64  \n",
      " 5   pickup_longitude         1458644 non-null  float64\n",
      " 6   pickup_latitude          1458644 non-null  float64\n",
      " 7   dropoff_longitude        1458644 non-null  float64\n",
      " 8   dropoff_latitude         1458644 non-null  float64\n",
      " 9   store_and_fwd_flag       1458644 non-null  object \n",
      " 10  trip_duration            1458644 non-null  int64  \n",
      " 11  distance_osrm            1458627 non-null  float64\n",
      " 12  pickup_dist_NYC_center   1458644 non-null  float64\n",
      " 13  dropoff_dist_NYC_center  1458644 non-null  float64\n",
      "dtypes: float64(7), int64(3), object(4)\n",
      "memory usage: 155.8+ MB\n"
     ]
    }
   ],
   "source": [
    "from playground import *\n",
    "df = pd.read_csv(\"csv_ml/eda_01.csv\")\n",
    "df.info()"
   ]
  },
  {
   "cell_type": "code",
   "execution_count": 2,
   "id": "3e800295-da22-4a66-a9de-5371619c0d3a",
   "metadata": {},
   "outputs": [],
   "source": [
    "X = df.drop(columns=\"trip_duration\", axis=1)\n",
    "y = df[\"trip_duration\"]"
   ]
  },
  {
   "cell_type": "code",
   "execution_count": 3,
   "id": "3c4fe00a-0b80-4a28-8b33-ec01196e3fab",
   "metadata": {},
   "outputs": [],
   "source": [
    "X_train, X_test, y_train, y_test = train_test_split(X, y, test_size = 0.20, random_state = 42)"
   ]
  },
  {
   "cell_type": "code",
   "execution_count": 4,
   "id": "7d497654-65cc-410d-821b-5d99338a8d30",
   "metadata": {},
   "outputs": [
    {
     "name": "stdout",
     "output_type": "stream",
     "text": [
      ">>>> Starting the process of removing duplicates ...\n",
      "No duplicates found.\n",
      "CPU times: total: 5.48 s\n",
      "Wall time: 6.18 s\n"
     ]
    }
   ],
   "source": [
    "%%time\n",
    "rm_duplicates = RemoveDuplicates()\n",
    "X_train, y_train = rm_duplicates.transform(X_train, y_train)"
   ]
  },
  {
   "cell_type": "code",
   "execution_count": 5,
   "id": "13c9edc0-ea80-46dd-8d14-d629320878c0",
   "metadata": {},
   "outputs": [
    {
     "name": "stdout",
     "output_type": "stream",
     "text": [
      ">>>> Starting data type conversion process...\n",
      "Column 'vendor_id' changed from int64 to object\n",
      "Column 'pickup_datetime' changed from object to datetime64[ns]\n",
      "Column 'dropoff_datetime' changed from object to datetime64[ns]\n",
      ">>>> Starting data type conversion process...\n",
      "Column 'vendor_id' changed from int64 to object\n",
      "Column 'pickup_datetime' changed from object to datetime64[ns]\n",
      "Column 'dropoff_datetime' changed from object to datetime64[ns]\n",
      "CPU times: total: 5.33 s\n",
      "Wall time: 5.68 s\n"
     ]
    }
   ],
   "source": [
    "%%time\n",
    "to_dtypes = ToDataTypes()\n",
    "X_train, y_train = to_dtypes.transform(X_train, y_train)\n",
    "X_test, y_test = to_dtypes.transform(X_test, y_test)"
   ]
  },
  {
   "cell_type": "code",
   "execution_count": 6,
   "id": "eabdd839-7e11-41d2-9041-b0d0ceff6e64",
   "metadata": {},
   "outputs": [
    {
     "name": "stdout",
     "output_type": "stream",
     "text": [
      ">>>> Starting datetime feature extraction...\n",
      "Extracted features: ['pickup_month', 'pickup_day', 'pickup_day_of_week', 'pickup_hour']\n",
      "Dropped columns: ['pickup_datetime', 'dropoff_datetime']\n",
      ">>>> Starting datetime feature extraction...\n",
      "Extracted features: ['pickup_month', 'pickup_day', 'pickup_day_of_week', 'pickup_hour']\n",
      "Dropped columns: ['pickup_datetime', 'dropoff_datetime']\n",
      "CPU times: total: 5.52 s\n",
      "Wall time: 5.56 s\n"
     ]
    }
   ],
   "source": [
    "%%time\n",
    "datetime_break = DateTimeBreak()\n",
    "X_train = datetime_break.transform(X_train)\n",
    "X_test = datetime_break.transform(X_test)"
   ]
  },
  {
   "cell_type": "code",
   "execution_count": 7,
   "id": "38831027-633d-4079-acd4-16fd03182e1f",
   "metadata": {},
   "outputs": [
    {
     "name": "stdout",
     "output_type": "stream",
     "text": [
      "CPU times: total: 0 ns\n",
      "Wall time: 0 ns\n",
      ">>>> Starting missing value imputation...\n",
      "Dropped 16 entries (0.00%) from column 'distance_osrm' due to missing values.\n",
      "Initial data length: 1166915\n",
      "Removed data: 16 (0.00%)\n",
      "Final data length: 1166899\n",
      ">>>> Starting missing value imputation...\n",
      "Dropped 1 entries (0.00%) from column 'distance_osrm' due to missing values.\n",
      "Initial data length: 291729\n",
      "Removed data: 1 (0.00%)\n",
      "Final data length: 291728\n"
     ]
    }
   ],
   "source": [
    "%time\n",
    "miss_val_input = MissValInput()\n",
    "X_train, y_train = miss_val_input.fit_transform(X_train, y_train)\n",
    "X_test, y_test = miss_val_input.transform(X_test, y_test)"
   ]
  },
  {
   "cell_type": "code",
   "execution_count": 8,
   "id": "fe09cca3-d39e-434c-a6c1-8e8982bd00b9",
   "metadata": {},
   "outputs": [
    {
     "name": "stdout",
     "output_type": "stream",
     "text": [
      ">>>> Starting features restriction ...\n",
      "The dataset size: 1166899 rows\n",
      "trip_duration (old) -> [min, max]: [1, 3526282]\n",
      "trip_duration (new) -> [min, max]: [60, 86392]\n",
      "distance_osrm (old) -> [min, max]: [0.0, 765.6445]\n",
      "distance_osrm (new) -> [min, max]: [0.1001, 97.7243]\n",
      "speed_osrm column not found, skipping restriction on 'speed_osrm'.\n",
      "passenger_count (old) -> [min, max]: [0, 8]\n",
      "passenger_count (new) -> [min, max]: [1, 8]\n",
      "Total removed data: 11632 (1.00%)\n",
      "CPU times: total: 1.97 s\n",
      "Wall time: 2.06 s\n"
     ]
    }
   ],
   "source": [
    "%%time\n",
    "feature_restriction = FeatureRestriction()\n",
    "X_train, y_train = feature_restriction.transform(X_train, y_train)"
   ]
  },
  {
   "cell_type": "code",
   "execution_count": 9,
   "id": "0f60d015-c90d-4b09-95c6-794ce2b3101d",
   "metadata": {},
   "outputs": [
    {
     "name": "stdout",
     "output_type": "stream",
     "text": [
      ">>>> Starting New York City map restriction ...\n",
      "Outliers saved to 'csv_ml_baseline\\outliers_map_ml_baseline.csv'\n",
      "Map saved as 'html_ml_baseline/outliers_map_ml_baseline.html'\n",
      "Removed 71 (0.01%) records outside NYC boundaries.\n",
      "CPU times: total: 2.39 s\n",
      "Wall time: 2.43 s\n"
     ]
    }
   ],
   "source": [
    "%%time\n",
    "outlier_mapper = OutlierMapper(map_title=\"outliers_map_ml_baseline\", csv_dir=\"csv_ml_baseline\", html_dir=\"html_ml_baseline\")\n",
    "X_train, y_train = outlier_mapper.transform(X_train, y_train)\n",
    "X_test.drop(columns=['pickup_dist_NYC_center', 'dropoff_dist_NYC_center'], inplace=True)"
   ]
  },
  {
   "cell_type": "code",
   "execution_count": 10,
   "id": "e7e6bc65-94fd-485e-a158-1705b7a22c44",
   "metadata": {},
   "outputs": [
    {
     "name": "stdout",
     "output_type": "stream",
     "text": [
      ">>>> Starting to encode the features ...\n",
      "Starting transformations...\n",
      "Dropping 'id' column...\n",
      "Performing dummy encoding on 'vendor_id' column...\n",
      "Performing dummy encoding on 'store_and_fwd_flag' column...\n",
      "Performing cyclical encoding on 'pickup_month' column...\n",
      "Cyclical encoding for 'pickup_month' completed.\n",
      "Performing cyclical encoding on 'pickup_day' column...\n",
      "Cyclical encoding for 'pickup_day' completed.\n",
      "Performing cyclical encoding on 'pickup_day_of_week' column...\n",
      "Cyclical encoding for 'pickup_day_of_week' completed.\n",
      "Performing cyclical encoding on 'pickup_hour' column...\n",
      "Cyclical encoding for 'pickup_hour' completed.\n",
      "Dropping original columns after encoding...\n",
      "Transformation completed.\n",
      ">>>> Starting to encode the features ...\n",
      "Starting transformations...\n",
      "Dropping 'id' column...\n",
      "Performing dummy encoding on 'vendor_id' column...\n",
      "Performing dummy encoding on 'store_and_fwd_flag' column...\n",
      "Performing cyclical encoding on 'pickup_month' column...\n",
      "Cyclical encoding for 'pickup_month' completed.\n",
      "Performing cyclical encoding on 'pickup_day' column...\n",
      "Cyclical encoding for 'pickup_day' completed.\n",
      "Performing cyclical encoding on 'pickup_day_of_week' column...\n",
      "Cyclical encoding for 'pickup_day_of_week' completed.\n",
      "Performing cyclical encoding on 'pickup_hour' column...\n",
      "Cyclical encoding for 'pickup_hour' completed.\n",
      "Dropping original columns after encoding...\n",
      "Transformation completed.\n",
      "CPU times: total: 4.53 s\n",
      "Wall time: 4.79 s\n"
     ]
    }
   ],
   "source": [
    "%%time\n",
    "feature_encoding = FeatureEncoding()\n",
    "X_train = feature_encoding.transform(X_train)\n",
    "X_test = feature_encoding.transform(X_test)"
   ]
  },
  {
   "cell_type": "code",
   "execution_count": 11,
   "id": "14524af9-ffb9-474d-84cd-e8a75f0aebcc",
   "metadata": {},
   "outputs": [
    {
     "name": "stdout",
     "output_type": "stream",
     "text": [
      "<class 'pandas.core.frame.DataFrame'>\n",
      "Int64Index: 1155196 entries, 1053743 to 121958\n",
      "Data columns (total 16 columns):\n",
      " #   Column                  Non-Null Count    Dtype  \n",
      "---  ------                  --------------    -----  \n",
      " 0   passenger_count         1155196 non-null  int64  \n",
      " 1   pickup_longitude        1155196 non-null  float64\n",
      " 2   pickup_latitude         1155196 non-null  float64\n",
      " 3   dropoff_longitude       1155196 non-null  float64\n",
      " 4   dropoff_latitude        1155196 non-null  float64\n",
      " 5   distance_osrm           1155196 non-null  float64\n",
      " 6   vendor_id_2             1155196 non-null  uint8  \n",
      " 7   store_and_fwd_flag_Y    1155196 non-null  uint8  \n",
      " 8   pickup_month_sin        1155196 non-null  float64\n",
      " 9   pickup_month_cos        1155196 non-null  float64\n",
      " 10  pickup_day_sin          1155196 non-null  float64\n",
      " 11  pickup_day_cos          1155196 non-null  float64\n",
      " 12  pickup_day_of_week_sin  1155196 non-null  float64\n",
      " 13  pickup_day_of_week_cos  1155196 non-null  float64\n",
      " 14  pickup_hour_sin         1155196 non-null  float64\n",
      " 15  pickup_hour_cos         1155196 non-null  float64\n",
      "dtypes: float64(13), int64(1), uint8(2)\n",
      "memory usage: 134.4 MB\n"
     ]
    }
   ],
   "source": [
    "X_train.info()"
   ]
  },
  {
   "cell_type": "code",
   "execution_count": 12,
   "id": "3a3d79ab-ac61-4623-97cb-ec20e2d638e5",
   "metadata": {},
   "outputs": [
    {
     "name": "stdout",
     "output_type": "stream",
     "text": [
      "<class 'pandas.core.frame.DataFrame'>\n",
      "Int64Index: 291728 entries, 67250 to 589044\n",
      "Data columns (total 16 columns):\n",
      " #   Column                  Non-Null Count   Dtype  \n",
      "---  ------                  --------------   -----  \n",
      " 0   passenger_count         291728 non-null  int64  \n",
      " 1   pickup_longitude        291728 non-null  float64\n",
      " 2   pickup_latitude         291728 non-null  float64\n",
      " 3   dropoff_longitude       291728 non-null  float64\n",
      " 4   dropoff_latitude        291728 non-null  float64\n",
      " 5   distance_osrm           291728 non-null  float64\n",
      " 6   vendor_id_2             291728 non-null  uint8  \n",
      " 7   store_and_fwd_flag_Y    291728 non-null  uint8  \n",
      " 8   pickup_month_sin        291728 non-null  float64\n",
      " 9   pickup_month_cos        291728 non-null  float64\n",
      " 10  pickup_day_sin          291728 non-null  float64\n",
      " 11  pickup_day_cos          291728 non-null  float64\n",
      " 12  pickup_day_of_week_sin  291728 non-null  float64\n",
      " 13  pickup_day_of_week_cos  291728 non-null  float64\n",
      " 14  pickup_hour_sin         291728 non-null  float64\n",
      " 15  pickup_hour_cos         291728 non-null  float64\n",
      "dtypes: float64(13), int64(1), uint8(2)\n",
      "memory usage: 33.9 MB\n"
     ]
    }
   ],
   "source": [
    "X_test.info()"
   ]
  },
  {
   "cell_type": "code",
   "execution_count": 13,
   "id": "b6fc6f61-1d16-4ffd-928f-48e131990e31",
   "metadata": {},
   "outputs": [],
   "source": [
    "# Define models\n",
    "models = [\n",
    "    ('LR', LinearRegression()),\n",
    "    ('DTR', DecisionTreeRegressor()),\n",
    "    ('XGBR', XGBRegressor())\n",
    "]"
   ]
  },
  {
   "cell_type": "code",
   "execution_count": 14,
   "id": "5412938b-e8a9-4b18-acab-f704988a9fc8",
   "metadata": {},
   "outputs": [],
   "source": [
    "k_range = range(5, X_train.shape[1] + 1)  # From 1 to number of features\n",
    "results = {}"
   ]
  },
  {
   "cell_type": "code",
   "execution_count": 15,
   "id": "2b426fe2-9b26-4cfb-ab9a-d71c15dff411",
   "metadata": {},
   "outputs": [
    {
     "name": "stdout",
     "output_type": "stream",
     "text": [
      "Evaluating for k=5...\n",
      "LR - RMSLE: 0.6498, Fit time: 0.3493 seconds\n",
      "DTR - RMSLE: 0.6378, Fit time: 34.6457 seconds\n",
      "XGBR - RMSLE: 0.5815, Fit time: 7.5156 seconds\n",
      "Evaluating for k=6...\n",
      "LR - RMSLE: 0.6549, Fit time: 0.4063 seconds\n",
      "DTR - RMSLE: 0.6362, Fit time: 30.9367 seconds\n",
      "XGBR - RMSLE: 0.5906, Fit time: 7.2813 seconds\n",
      "Evaluating for k=7...\n",
      "LR - RMSLE: 0.6508, Fit time: 0.4375 seconds\n",
      "DTR - RMSLE: 0.6186, Fit time: 32.2033 seconds\n",
      "XGBR - RMSLE: 0.5889, Fit time: 7.4844 seconds\n",
      "Evaluating for k=8...\n",
      "LR - RMSLE: 0.6507, Fit time: 0.4844 seconds\n",
      "DTR - RMSLE: 0.6256, Fit time: 35.3680 seconds\n",
      "XGBR - RMSLE: 0.5908, Fit time: 7.6093 seconds\n",
      "Evaluating for k=9...\n",
      "LR - RMSLE: 0.6474, Fit time: 0.5440 seconds\n",
      "DTR - RMSLE: 0.6254, Fit time: 34.2815 seconds\n",
      "XGBR - RMSLE: 0.5898, Fit time: 8.2344 seconds\n",
      "Evaluating for k=10...\n",
      "LR - RMSLE: 0.6386, Fit time: 0.6719 seconds\n",
      "DTR - RMSLE: 0.6092, Fit time: 34.5224 seconds\n",
      "XGBR - RMSLE: 0.5814, Fit time: 8.6251 seconds\n",
      "Evaluating for k=11...\n",
      "LR - RMSLE: 0.6387, Fit time: 0.7164 seconds\n",
      "DTR - RMSLE: 0.6105, Fit time: 38.8315 seconds\n",
      "XGBR - RMSLE: 0.5838, Fit time: 8.9938 seconds\n",
      "Evaluating for k=12...\n",
      "LR - RMSLE: 0.6386, Fit time: 0.7576 seconds\n",
      "DTR - RMSLE: 0.6083, Fit time: 39.2545 seconds\n",
      "XGBR - RMSLE: 0.5894, Fit time: 10.7064 seconds\n",
      "Evaluating for k=13...\n",
      "LR - RMSLE: 0.6386, Fit time: 0.9482 seconds\n",
      "DTR - RMSLE: 0.6150, Fit time: 46.2625 seconds\n",
      "XGBR - RMSLE: 0.5935, Fit time: 11.4631 seconds\n",
      "Evaluating for k=14...\n",
      "LR - RMSLE: 0.6386, Fit time: 1.1277 seconds\n",
      "DTR - RMSLE: 0.6146, Fit time: 46.2756 seconds\n",
      "XGBR - RMSLE: 0.5952, Fit time: 11.0566 seconds\n",
      "Evaluating for k=15...\n",
      "LR - RMSLE: 0.6386, Fit time: 1.0925 seconds\n",
      "DTR - RMSLE: 0.6037, Fit time: 46.5979 seconds\n",
      "XGBR - RMSLE: 0.5973, Fit time: 10.2480 seconds\n",
      "Evaluating for k=16...\n",
      "LR - RMSLE: 0.6386, Fit time: 1.2384 seconds\n",
      "DTR - RMSLE: 0.6072, Fit time: 43.5642 seconds\n",
      "XGBR - RMSLE: 0.5948, Fit time: 10.7622 seconds\n"
     ]
    }
   ],
   "source": [
    "for k in k_range:\n",
    "    print(f\"Evaluating for k={k}...\")\n",
    "    \n",
    "    # Feature selection\n",
    "    selector = SelectKBest(score_func=f_regression, k=k)\n",
    "    X_train_selected = selector.fit_transform(X_train, y_train)\n",
    "    X_test_selected = selector.transform(X_test)\n",
    "\n",
    "    # Evaluate models\n",
    "    stage_results = evaluate_models(models, X_train_selected, y_train, X_test_selected, y_test)\n",
    "    \n",
    "    # Store results\n",
    "    results[k] = stage_results\n",
    "    "
   ]
  },
  {
   "cell_type": "code",
   "execution_count": 23,
   "id": "6b97e99e-0a12-4e1d-90a0-0d179bdb49d4",
   "metadata": {},
   "outputs": [
    {
     "name": "stdout",
     "output_type": "stream",
     "text": [
      "Results for k=5:\n",
      "LR: RMSLE = 0.6498\n",
      "DTR: RMSLE = 0.6378\n",
      "XGBR: RMSLE = 0.5815\n",
      "Results for k=6:\n",
      "LR: RMSLE = 0.6549\n",
      "DTR: RMSLE = 0.6362\n",
      "XGBR: RMSLE = 0.5906\n",
      "Results for k=7:\n",
      "LR: RMSLE = 0.6508\n",
      "DTR: RMSLE = 0.6186\n",
      "XGBR: RMSLE = 0.5889\n",
      "Results for k=8:\n",
      "LR: RMSLE = 0.6507\n",
      "DTR: RMSLE = 0.6256\n",
      "XGBR: RMSLE = 0.5908\n",
      "Results for k=9:\n",
      "LR: RMSLE = 0.6474\n",
      "DTR: RMSLE = 0.6254\n",
      "XGBR: RMSLE = 0.5898\n",
      "Results for k=10:\n",
      "LR: RMSLE = 0.6386\n",
      "DTR: RMSLE = 0.6092\n",
      "XGBR: RMSLE = 0.5814\n",
      "Results for k=11:\n",
      "LR: RMSLE = 0.6387\n",
      "DTR: RMSLE = 0.6105\n",
      "XGBR: RMSLE = 0.5838\n",
      "Results for k=12:\n",
      "LR: RMSLE = 0.6386\n",
      "DTR: RMSLE = 0.6083\n",
      "XGBR: RMSLE = 0.5894\n",
      "Results for k=13:\n",
      "LR: RMSLE = 0.6386\n",
      "DTR: RMSLE = 0.615\n",
      "XGBR: RMSLE = 0.5935\n",
      "Results for k=14:\n",
      "LR: RMSLE = 0.6386\n",
      "DTR: RMSLE = 0.6146\n",
      "XGBR: RMSLE = 0.5952\n",
      "Results for k=15:\n",
      "LR: RMSLE = 0.6386\n",
      "DTR: RMSLE = 0.6037\n",
      "XGBR: RMSLE = 0.5973\n",
      "Results for k=16:\n",
      "LR: RMSLE = 0.6386\n",
      "DTR: RMSLE = 0.6072\n",
      "XGBR: RMSLE = 0.5948\n"
     ]
    }
   ],
   "source": [
    "# Parsing the string results into dictionaries\n",
    "parsed_results = {}\n",
    "\n",
    "for k, metrics_str in results.items():\n",
    "    print(f\"Results for k={k}:\")\n",
    "    metrics = {}\n",
    "    # Split the string by newline and then by \" - \"\n",
    "    for line in metrics_str.split(\"\\n\"):\n",
    "        model_name, metric_str = line.split(\" - \")\n",
    "        rmsle_value = float(metric_str.split(\": \")[1].split(\",\")[0])  # Extract RMSLE value\n",
    "        metrics[model_name] = rmsle_value\n",
    "        print(f\"{model_name}: RMSLE = {rmsle_value}\")\n",
    "    parsed_results[k] = metrics"
   ]
  },
  {
   "cell_type": "markdown",
   "id": "891d38d9-4514-4ca3-b026-0bbd674d3ff4",
   "metadata": {
    "jp-MarkdownHeadingCollapsed": true
   },
   "source": [
    "## Result"
   ]
  },
  {
   "cell_type": "markdown",
   "id": "b4d12e80-d499-4121-be58-cf2c287775e2",
   "metadata": {},
   "source": [
    "#### Stage 1: Baseline Model"
   ]
  },
  {
   "cell_type": "code",
   "execution_count": 15,
   "id": "85199125-39ec-46af-bb51-edd52716305e",
   "metadata": {},
   "outputs": [
    {
     "name": "stdout",
     "output_type": "stream",
     "text": [
      "LR - RMSLE: 0.8646, Fit time: 1.6810 seconds\n",
      "DTR - RMSLE: 0.6242, Fit time: 52.5158 seconds\n",
      "XGBR - RMSLE: 0.7075, Fit time: 10.8571 seconds\n"
     ]
    }
   ],
   "source": [
    "print(stage_1)"
   ]
  },
  {
   "cell_type": "markdown",
   "id": "b8b828fe-9f37-4ee9-9621-395d10795948",
   "metadata": {},
   "source": [
    "#### Stage 2: Adding distance_osrm Feature"
   ]
  },
  {
   "cell_type": "markdown",
   "id": "93ffade9-8330-49b2-ba5e-edf72937920e",
   "metadata": {},
   "source": [
    "I drop the missing values in distance_osrm before performing the train-test split. This result is ignored"
   ]
  },
  {
   "cell_type": "code",
   "execution_count": 14,
   "id": "d0ed74df-2e62-426b-9671-6013f0ec3202",
   "metadata": {},
   "outputs": [
    {
     "name": "stdout",
     "output_type": "stream",
     "text": [
      "LR - RMSLE: 0.6594, Fit time: 1.6992 seconds\n",
      "DTR - RMSLE: 0.5957, Fit time: 51.1731 seconds\n",
      "XGBR - RMSLE: 0.6944, Fit time: 11.4793 seconds\n"
     ]
    }
   ],
   "source": [
    "print(stage_2)"
   ]
  },
  {
   "cell_type": "markdown",
   "id": "58985e55-85a2-4f69-99f9-eb16588c606d",
   "metadata": {},
   "source": [
    "#### Stage 3: Missing Value Imputation"
   ]
  },
  {
   "cell_type": "code",
   "execution_count": 14,
   "id": "2b873f34-0b3c-49eb-b275-cc4af0d05bef",
   "metadata": {},
   "outputs": [
    {
     "name": "stdout",
     "output_type": "stream",
     "text": [
      "LR - RMSLE: 0.6560, Fit time: 1.3997 seconds\n",
      "DTR - RMSLE: 0.5937, Fit time: 46.4586 seconds\n",
      "XGBR - RMSLE: 0.7084, Fit time: 12.4147 seconds\n"
     ]
    }
   ],
   "source": [
    "print(stage_3)"
   ]
  },
  {
   "cell_type": "markdown",
   "id": "0b29b73b-4af0-4917-81ea-fd9daf09f898",
   "metadata": {},
   "source": [
    "#### Stage 4: Adding speed_osrm Feature"
   ]
  },
  {
   "cell_type": "code",
   "execution_count": 15,
   "id": "ce53b7d2-4aed-44cb-b9ae-77ab986c5add",
   "metadata": {},
   "outputs": [
    {
     "name": "stdout",
     "output_type": "stream",
     "text": [
      "LR - RMSLE: 0.6235, Fit time: 1.8488 seconds\n",
      "DTR - RMSLE: 0.1430, Fit time: 48.4794 seconds\n",
      "XGBR - RMSLE: 0.2661, Fit time: 14.2972 seconds\n"
     ]
    }
   ],
   "source": [
    "print(stage_4)"
   ]
  },
  {
   "cell_type": "markdown",
   "id": "9e4bacb9-18af-4c33-880c-8fc5e2d81245",
   "metadata": {},
   "source": [
    "#### Stage 5: Applying sensible restrictions to the Features"
   ]
  },
  {
   "cell_type": "code",
   "execution_count": 15,
   "id": "20ffdd01-e7ce-4639-a99f-05457133fe15",
   "metadata": {},
   "outputs": [
    {
     "name": "stdout",
     "output_type": "stream",
     "text": [
      "LR - RMSLE: 0.6394, Fit time: 1.5391 seconds\n",
      "DTR - RMSLE: 0.6078, Fit time: 47.7388 seconds\n",
      "XGBR - RMSLE: 0.5942, Fit time: 11.0469 seconds\n"
     ]
    }
   ],
   "source": [
    "print(stage_5)"
   ]
  },
  {
   "cell_type": "markdown",
   "id": "f46631f8-95ea-4aaf-9d25-93f3e9b38ed1",
   "metadata": {},
   "source": [
    "#### Stage 6: Restricting the boundary to the area around NYC"
   ]
  },
  {
   "cell_type": "code",
   "execution_count": 15,
   "id": "04236d52-d1af-4f96-840e-d6ed194a196c",
   "metadata": {},
   "outputs": [
    {
     "name": "stdout",
     "output_type": "stream",
     "text": [
      "LR - RMSLE: 0.6386, Fit time: 1.4434 seconds\n",
      "DTR - RMSLE: 0.6115, Fit time: 50.3154 seconds\n",
      "XGBR - RMSLE: 0.5948, Fit time: 14.8784 seconds\n"
     ]
    }
   ],
   "source": [
    "print(stage_6)"
   ]
  },
  {
   "cell_type": "markdown",
   "id": "10822de9-2309-4fc2-8855-33f27e73fd9f",
   "metadata": {},
   "source": [
    "#### Stage 7: Replacing pickup_longitude, pickup_latitude with pickup_cluster and dropoff_longitude, dropoff_latitude with dropoff_cluster"
   ]
  },
  {
   "cell_type": "code",
   "execution_count": 16,
   "id": "b0f6063d-ae50-477d-8151-01074ee600b2",
   "metadata": {},
   "outputs": [
    {
     "name": "stdout",
     "output_type": "stream",
     "text": [
      "LR - RMSLE: 0.6385, Fit time: 1.6137 seconds\n",
      "DTR - RMSLE: 0.6494, Fit time: 26.2606 seconds\n",
      "XGBR - RMSLE: 0.6287, Fit time: 11.3091 seconds\n"
     ]
    }
   ],
   "source": [
    "# optimal_k_pickup=4, optimal_k_dropoff=3\n",
    "print(stage_7)"
   ]
  },
  {
   "cell_type": "code",
   "execution_count": 16,
   "id": "743e1856-6541-4e2e-938b-9aad13902b38",
   "metadata": {},
   "outputs": [
    {
     "name": "stdout",
     "output_type": "stream",
     "text": [
      "LR - RMSLE: 0.6398, Fit time: 1.9373 seconds\n",
      "DTR - RMSLE: 0.6502, Fit time: 28.3572 seconds\n",
      "XGBR - RMSLE: 0.6178, Fit time: 15.6123 seconds\n"
     ]
    }
   ],
   "source": [
    "# optimal_k_pickup=3, optimal_k_dropoff=3\n",
    "print(stage_7)"
   ]
  },
  {
   "cell_type": "code",
   "execution_count": 16,
   "id": "e1cdffec-f488-4fde-857c-86a99ed51974",
   "metadata": {},
   "outputs": [
    {
     "name": "stdout",
     "output_type": "stream",
     "text": [
      "LR - RMSLE: 0.6370, Fit time: 1.4430 seconds\n",
      "DTR - RMSLE: 0.6333, Fit time: 23.0397 seconds\n",
      "XGBR - RMSLE: 0.6199, Fit time: 11.0230 seconds\n"
     ]
    }
   ],
   "source": [
    "# optimal_k_pickup=3, optimal_k_dropoff=4\n",
    "print(stage_7)"
   ]
  },
  {
   "cell_type": "code",
   "execution_count": 16,
   "id": "3f3f8113-f54f-41bb-b77e-257aa0310db4",
   "metadata": {},
   "outputs": [
    {
     "name": "stdout",
     "output_type": "stream",
     "text": [
      "LR - RMSLE: 0.6351, Fit time: 1.5940 seconds\n",
      "DTR - RMSLE: 0.6372, Fit time: 22.4325 seconds\n",
      "XGBR - RMSLE: 0.6131, Fit time: 11.2697 seconds\n"
     ]
    }
   ],
   "source": [
    "# optimal_k_pickup=4, optimal_k_dropoff=4\n",
    "print(stage_7)"
   ]
  },
  {
   "cell_type": "markdown",
   "id": "e897d75a-3ba6-454e-ba40-3c07f3f00c01",
   "metadata": {},
   "source": [
    "#### Stage 8: Skewness Transformation"
   ]
  },
  {
   "cell_type": "code",
   "execution_count": 17,
   "id": "6f281831-610b-4264-92cc-1566aa88ef0e",
   "metadata": {},
   "outputs": [
    {
     "name": "stdout",
     "output_type": "stream",
     "text": [
      "LR - RMSLE: 0.0646, Fit time: 1.6233 seconds\n",
      "DTR - RMSLE: 0.0807, Fit time: 33.0034 seconds\n",
      "XGBR - RMSLE: 0.0591, Fit time: 13.9955 seconds\n"
     ]
    }
   ],
   "source": [
    "print(stage_8)"
   ]
  },
  {
   "cell_type": "markdown",
   "id": "05ef7633-2c7a-42e4-a433-9b2003031e2e",
   "metadata": {},
   "source": [
    "#### Stage 9: Encoding Features"
   ]
  },
  {
   "cell_type": "markdown",
   "id": "9e6a7a98-50c5-4f7f-9d0e-98b937c22914",
   "metadata": {},
   "source": [
    "cylical encoding"
   ]
  },
  {
   "cell_type": "code",
   "execution_count": 15,
   "id": "835e6e5d-e4fd-4762-916d-ae4b9f4c6a6c",
   "metadata": {},
   "outputs": [
    {
     "name": "stdout",
     "output_type": "stream",
     "text": [
      "LR - RMSLE: 0.6386, Fit time: 1.4434 seconds\n",
      "DTR - RMSLE: 0.6115, Fit time: 50.3154 seconds\n",
      "XGBR - RMSLE: 0.5948, Fit time: 14.8784 seconds\n"
     ]
    }
   ],
   "source": [
    "print(stage_6)"
   ]
  },
  {
   "cell_type": "markdown",
   "id": "877a4a91-c9a3-43ed-a1e8-93ed847fa9db",
   "metadata": {},
   "source": [
    "dummy encoding"
   ]
  },
  {
   "cell_type": "code",
   "execution_count": 38,
   "id": "9d46a42f-3d72-4e0e-8139-68d0d9857a2b",
   "metadata": {},
   "outputs": [
    {
     "name": "stdout",
     "output_type": "stream",
     "text": [
      "LR - RMSLE: 0.6432, Fit time: 12.7416 seconds\n",
      "DTR - RMSLE: 0.6035, Fit time: 90.4740 seconds\n",
      "XGBR - RMSLE: 0.6035, Fit time: 23.4781 seconds\n"
     ]
    }
   ],
   "source": [
    "print(stage_9)"
   ]
  },
  {
   "cell_type": "markdown",
   "id": "370f282e-583a-4142-96b1-2e4aff94e945",
   "metadata": {},
   "source": [
    "#### Stage 10: Feature Scaling - Standardization (Z-score normalization)"
   ]
  },
  {
   "cell_type": "markdown",
   "id": "fbd3f859-d460-4e71-bad5-715d6df2d016",
   "metadata": {},
   "source": [
    "standard scaler"
   ]
  },
  {
   "cell_type": "code",
   "execution_count": 17,
   "id": "aeed0bff-14e1-4772-ad72-d91bdf12eb32",
   "metadata": {},
   "outputs": [
    {
     "name": "stdout",
     "output_type": "stream",
     "text": [
      "LR - RMSLE: 0.6386, Fit time: 1.1339 seconds\n",
      "DTR - RMSLE: 0.6070, Fit time: 47.6009 seconds\n",
      "XGBR - RMSLE: 0.5979, Fit time: 11.1721 seconds\n"
     ]
    }
   ],
   "source": [
    "print(stage_10)"
   ]
  },
  {
   "cell_type": "markdown",
   "id": "f4785c70-7080-436a-bea1-89a5aad718bd",
   "metadata": {},
   "source": [
    "min max scaler"
   ]
  },
  {
   "cell_type": "code",
   "execution_count": 33,
   "id": "eb529e12-d96a-4c7c-9ae7-6a2300a360e9",
   "metadata": {},
   "outputs": [
    {
     "name": "stdout",
     "output_type": "stream",
     "text": [
      "LR - RMSLE: 0.6386, Fit time: 1.1525 seconds\n",
      "DTR - RMSLE: 0.6016, Fit time: 46.3015 seconds\n",
      "XGBR - RMSLE: 0.5969, Fit time: 11.8969 seconds\n"
     ]
    }
   ],
   "source": [
    "print(stage_10)"
   ]
  },
  {
   "cell_type": "markdown",
   "id": "c4512cb6-74c7-42c1-bdae-c8eb24057a88",
   "metadata": {},
   "source": [
    "robust scaler"
   ]
  },
  {
   "cell_type": "code",
   "execution_count": 49,
   "id": "3e9dd4b1-3f4e-4b30-9ce6-daaf6872a8a8",
   "metadata": {},
   "outputs": [
    {
     "name": "stdout",
     "output_type": "stream",
     "text": [
      "LR - RMSLE: 0.6386, Fit time: 1.3335 seconds\n",
      "DTR - RMSLE: 0.6119, Fit time: 48.9959 seconds\n",
      "XGBR - RMSLE: 0.5986, Fit time: 12.1261 seconds\n"
     ]
    }
   ],
   "source": [
    "print(stage_10)"
   ]
  },
  {
   "cell_type": "markdown",
   "id": "3d53a324-212d-4943-8559-9933e73f71c8",
   "metadata": {},
   "source": [
    "#### Stage 11: Feature Selection - Numerical-Numerical Feature Selection"
   ]
  },
  {
   "cell_type": "code",
   "execution_count": 24,
   "id": "7ea1e3c3-c909-4247-8640-2141237ac77d",
   "metadata": {},
   "outputs": [
    {
     "name": "stdout",
     "output_type": "stream",
     "text": [
      "Results for k=5:\n",
      "LR: RMSLE = 0.6498\n",
      "DTR: RMSLE = 0.6378\n",
      "XGBR: RMSLE = 0.5815\n",
      "Results for k=6:\n",
      "LR: RMSLE = 0.6549\n",
      "DTR: RMSLE = 0.6362\n",
      "XGBR: RMSLE = 0.5906\n",
      "Results for k=7:\n",
      "LR: RMSLE = 0.6508\n",
      "DTR: RMSLE = 0.6186\n",
      "XGBR: RMSLE = 0.5889\n",
      "Results for k=8:\n",
      "LR: RMSLE = 0.6507\n",
      "DTR: RMSLE = 0.6256\n",
      "XGBR: RMSLE = 0.5908\n",
      "Results for k=9:\n",
      "LR: RMSLE = 0.6474\n",
      "DTR: RMSLE = 0.6254\n",
      "XGBR: RMSLE = 0.5898\n",
      "Results for k=10:\n",
      "LR: RMSLE = 0.6386\n",
      "DTR: RMSLE = 0.6092\n",
      "XGBR: RMSLE = 0.5814\n",
      "Results for k=11:\n",
      "LR: RMSLE = 0.6387\n",
      "DTR: RMSLE = 0.6105\n",
      "XGBR: RMSLE = 0.5838\n",
      "Results for k=12:\n",
      "LR: RMSLE = 0.6386\n",
      "DTR: RMSLE = 0.6083\n",
      "XGBR: RMSLE = 0.5894\n",
      "Results for k=13:\n",
      "LR: RMSLE = 0.6386\n",
      "DTR: RMSLE = 0.615\n",
      "XGBR: RMSLE = 0.5935\n",
      "Results for k=14:\n",
      "LR: RMSLE = 0.6386\n",
      "DTR: RMSLE = 0.6146\n",
      "XGBR: RMSLE = 0.5952\n",
      "Results for k=15:\n",
      "LR: RMSLE = 0.6386\n",
      "DTR: RMSLE = 0.6037\n",
      "XGBR: RMSLE = 0.5973\n",
      "Results for k=16:\n",
      "LR: RMSLE = 0.6386\n",
      "DTR: RMSLE = 0.6072\n",
      "XGBR: RMSLE = 0.5948\n"
     ]
    }
   ],
   "source": [
    "# Parsing the string results into dictionaries\n",
    "parsed_results = {}\n",
    "\n",
    "for k, metrics_str in results.items():\n",
    "    print(f\"Results for k={k}:\")\n",
    "    metrics = {}\n",
    "    # Split the string by newline and then by \" - \"\n",
    "    for line in metrics_str.split(\"\\n\"):\n",
    "        model_name, metric_str = line.split(\" - \")\n",
    "        rmsle_value = float(metric_str.split(\": \")[1].split(\",\")[0])  # Extract RMSLE value\n",
    "        metrics[model_name] = rmsle_value\n",
    "        print(f\"{model_name}: RMSLE = {rmsle_value}\")\n",
    "    parsed_results[k] = metrics"
   ]
  }
 ],
 "metadata": {
  "kernelspec": {
   "display_name": "Python 3 (ipykernel)",
   "language": "python",
   "name": "python3"
  },
  "language_info": {
   "codemirror_mode": {
    "name": "ipython",
    "version": 3
   },
   "file_extension": ".py",
   "mimetype": "text/x-python",
   "name": "python",
   "nbconvert_exporter": "python",
   "pygments_lexer": "ipython3",
   "version": "3.10.9"
  }
 },
 "nbformat": 4,
 "nbformat_minor": 5
}
