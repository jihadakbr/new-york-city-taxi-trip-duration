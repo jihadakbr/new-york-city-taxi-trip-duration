{
 "cells": [
  {
   "cell_type": "markdown",
   "id": "6c66b934-26e5-4d26-88de-0dc005bdc338",
   "metadata": {},
   "source": [
    "The result from the previous notebook:\n",
    "\n",
    "- LGBM RMSLE Score --> 0.5461"
   ]
  },
  {
   "cell_type": "markdown",
   "id": "6c5dd811-9840-4166-b101-6d7e29675eb8",
   "metadata": {},
   "source": [
    "Another Experiment for LGBM:\n",
    "\n",
    "- Without outlier mapper --> 0.5452\n",
    "- Without missing value Imputation --> 0.5461\n",
    "- Without feature restriction --> 0.5888\n",
    "- Add pickdrop cluster --> 0.5556\n",
    "- Add skewness transform --> 0.5480\n",
    "- Add dummy encoding --> 0.5549"
   ]
  },
  {
   "cell_type": "markdown",
   "id": "c36a0f79-7838-4609-85ef-afa29547e69e",
   "metadata": {
    "jp-MarkdownHeadingCollapsed": true
   },
   "source": [
    "## Stage Selection"
   ]
  },
  {
   "cell_type": "code",
   "execution_count": 1,
   "id": "f58344c1-a66b-409b-ad8b-8c9e0122d2a0",
   "metadata": {},
   "outputs": [],
   "source": [
    "from utils_ml import *"
   ]
  },
  {
   "cell_type": "code",
   "execution_count": 2,
   "id": "afa234a7-8aad-4c4d-9f12-17b7ec4608c7",
   "metadata": {},
   "outputs": [],
   "source": [
    "df = pd.read_csv(\"csv_ml/eda_01.csv\")"
   ]
  },
  {
   "cell_type": "code",
   "execution_count": 3,
   "id": "fef64101-18b4-4d2e-9a41-049d18558eb2",
   "metadata": {},
   "outputs": [
    {
     "name": "stdout",
     "output_type": "stream",
     "text": [
      "<class 'pandas.core.frame.DataFrame'>\n",
      "RangeIndex: 1458644 entries, 0 to 1458643\n",
      "Data columns (total 14 columns):\n",
      " #   Column                   Non-Null Count    Dtype  \n",
      "---  ------                   --------------    -----  \n",
      " 0   id                       1458644 non-null  object \n",
      " 1   vendor_id                1458644 non-null  int64  \n",
      " 2   pickup_datetime          1458644 non-null  object \n",
      " 3   dropoff_datetime         1458644 non-null  object \n",
      " 4   passenger_count          1458644 non-null  int64  \n",
      " 5   pickup_longitude         1458644 non-null  float64\n",
      " 6   pickup_latitude          1458644 non-null  float64\n",
      " 7   dropoff_longitude        1458644 non-null  float64\n",
      " 8   dropoff_latitude         1458644 non-null  float64\n",
      " 9   store_and_fwd_flag       1458644 non-null  object \n",
      " 10  trip_duration            1458644 non-null  int64  \n",
      " 11  distance_osrm            1458627 non-null  float64\n",
      " 12  pickup_dist_NYC_center   1458644 non-null  float64\n",
      " 13  dropoff_dist_NYC_center  1458644 non-null  float64\n",
      "dtypes: float64(7), int64(3), object(4)\n",
      "memory usage: 155.8+ MB\n"
     ]
    }
   ],
   "source": [
    "df.info()"
   ]
  },
  {
   "cell_type": "code",
   "execution_count": 4,
   "id": "b4691702-207d-4c6c-8b73-4a5637d11ebb",
   "metadata": {},
   "outputs": [
    {
     "data": {
      "text/html": [
       "<div>\n",
       "<style scoped>\n",
       "    .dataframe tbody tr th:only-of-type {\n",
       "        vertical-align: middle;\n",
       "    }\n",
       "\n",
       "    .dataframe tbody tr th {\n",
       "        vertical-align: top;\n",
       "    }\n",
       "\n",
       "    .dataframe thead th {\n",
       "        text-align: right;\n",
       "    }\n",
       "</style>\n",
       "<table border=\"1\" class=\"dataframe\">\n",
       "  <thead>\n",
       "    <tr style=\"text-align: right;\">\n",
       "      <th></th>\n",
       "      <th>id</th>\n",
       "      <th>vendor_id</th>\n",
       "      <th>pickup_datetime</th>\n",
       "      <th>dropoff_datetime</th>\n",
       "      <th>passenger_count</th>\n",
       "      <th>pickup_longitude</th>\n",
       "      <th>pickup_latitude</th>\n",
       "      <th>dropoff_longitude</th>\n",
       "      <th>dropoff_latitude</th>\n",
       "      <th>store_and_fwd_flag</th>\n",
       "      <th>trip_duration</th>\n",
       "      <th>distance_osrm</th>\n",
       "      <th>pickup_dist_NYC_center</th>\n",
       "      <th>dropoff_dist_NYC_center</th>\n",
       "    </tr>\n",
       "  </thead>\n",
       "  <tbody>\n",
       "    <tr>\n",
       "      <th>0</th>\n",
       "      <td>id2875421</td>\n",
       "      <td>2</td>\n",
       "      <td>2016-03-14 17:24:55</td>\n",
       "      <td>2016-03-14 17:32:30</td>\n",
       "      <td>1</td>\n",
       "      <td>-73.982155</td>\n",
       "      <td>40.767937</td>\n",
       "      <td>-73.964630</td>\n",
       "      <td>40.765602</td>\n",
       "      <td>N</td>\n",
       "      <td>455</td>\n",
       "      <td>2.1587</td>\n",
       "      <td>6.445619</td>\n",
       "      <td>6.825864</td>\n",
       "    </tr>\n",
       "    <tr>\n",
       "      <th>1</th>\n",
       "      <td>id2377394</td>\n",
       "      <td>1</td>\n",
       "      <td>2016-06-12 00:43:35</td>\n",
       "      <td>2016-06-12 00:54:38</td>\n",
       "      <td>1</td>\n",
       "      <td>-73.980415</td>\n",
       "      <td>40.738564</td>\n",
       "      <td>-73.999481</td>\n",
       "      <td>40.731152</td>\n",
       "      <td>N</td>\n",
       "      <td>663</td>\n",
       "      <td>2.5113</td>\n",
       "      <td>3.585708</td>\n",
       "      <td>2.111028</td>\n",
       "    </tr>\n",
       "    <tr>\n",
       "      <th>2</th>\n",
       "      <td>id3858529</td>\n",
       "      <td>2</td>\n",
       "      <td>2016-01-19 11:35:24</td>\n",
       "      <td>2016-01-19 12:10:48</td>\n",
       "      <td>1</td>\n",
       "      <td>-73.979027</td>\n",
       "      <td>40.763939</td>\n",
       "      <td>-74.005333</td>\n",
       "      <td>40.710087</td>\n",
       "      <td>N</td>\n",
       "      <td>2124</td>\n",
       "      <td>9.9354</td>\n",
       "      <td>6.118901</td>\n",
       "      <td>0.306521</td>\n",
       "    </tr>\n",
       "    <tr>\n",
       "      <th>3</th>\n",
       "      <td>id3504673</td>\n",
       "      <td>2</td>\n",
       "      <td>2016-04-06 19:32:31</td>\n",
       "      <td>2016-04-06 19:39:40</td>\n",
       "      <td>1</td>\n",
       "      <td>-74.010040</td>\n",
       "      <td>40.719971</td>\n",
       "      <td>-74.012268</td>\n",
       "      <td>40.706718</td>\n",
       "      <td>N</td>\n",
       "      <td>429</td>\n",
       "      <td>1.7776</td>\n",
       "      <td>0.866388</td>\n",
       "      <td>0.858280</td>\n",
       "    </tr>\n",
       "    <tr>\n",
       "      <th>4</th>\n",
       "      <td>id2181028</td>\n",
       "      <td>2</td>\n",
       "      <td>2016-03-26 13:30:55</td>\n",
       "      <td>2016-03-26 13:38:10</td>\n",
       "      <td>1</td>\n",
       "      <td>-73.973053</td>\n",
       "      <td>40.793209</td>\n",
       "      <td>-73.972923</td>\n",
       "      <td>40.782520</td>\n",
       "      <td>N</td>\n",
       "      <td>435</td>\n",
       "      <td>1.6064</td>\n",
       "      <td>9.352795</td>\n",
       "      <td>8.230915</td>\n",
       "    </tr>\n",
       "  </tbody>\n",
       "</table>\n",
       "</div>"
      ],
      "text/plain": [
       "          id  vendor_id      pickup_datetime     dropoff_datetime  \\\n",
       "0  id2875421          2  2016-03-14 17:24:55  2016-03-14 17:32:30   \n",
       "1  id2377394          1  2016-06-12 00:43:35  2016-06-12 00:54:38   \n",
       "2  id3858529          2  2016-01-19 11:35:24  2016-01-19 12:10:48   \n",
       "3  id3504673          2  2016-04-06 19:32:31  2016-04-06 19:39:40   \n",
       "4  id2181028          2  2016-03-26 13:30:55  2016-03-26 13:38:10   \n",
       "\n",
       "   passenger_count  pickup_longitude  pickup_latitude  dropoff_longitude  \\\n",
       "0                1        -73.982155        40.767937         -73.964630   \n",
       "1                1        -73.980415        40.738564         -73.999481   \n",
       "2                1        -73.979027        40.763939         -74.005333   \n",
       "3                1        -74.010040        40.719971         -74.012268   \n",
       "4                1        -73.973053        40.793209         -73.972923   \n",
       "\n",
       "   dropoff_latitude store_and_fwd_flag  trip_duration  distance_osrm  \\\n",
       "0         40.765602                  N            455         2.1587   \n",
       "1         40.731152                  N            663         2.5113   \n",
       "2         40.710087                  N           2124         9.9354   \n",
       "3         40.706718                  N            429         1.7776   \n",
       "4         40.782520                  N            435         1.6064   \n",
       "\n",
       "   pickup_dist_NYC_center  dropoff_dist_NYC_center  \n",
       "0                6.445619                 6.825864  \n",
       "1                3.585708                 2.111028  \n",
       "2                6.118901                 0.306521  \n",
       "3                0.866388                 0.858280  \n",
       "4                9.352795                 8.230915  "
      ]
     },
     "execution_count": 4,
     "metadata": {},
     "output_type": "execute_result"
    }
   ],
   "source": [
    "df.head()"
   ]
  },
  {
   "cell_type": "code",
   "execution_count": 5,
   "id": "c88140f4-dfcf-4286-8aae-7363fd75e67e",
   "metadata": {},
   "outputs": [],
   "source": [
    "X = df.drop(columns=\"trip_duration\", axis=1)\n",
    "y = df[\"trip_duration\"]"
   ]
  },
  {
   "cell_type": "code",
   "execution_count": 6,
   "id": "19dda600-9ad6-4217-a3df-b97a73eb0cbc",
   "metadata": {},
   "outputs": [],
   "source": [
    "X_train, X_test, y_train, y_test = train_test_split(X, y, test_size = 0.20, random_state = 42)"
   ]
  },
  {
   "cell_type": "code",
   "execution_count": 7,
   "id": "3ed78e7f-4483-4b48-b342-9f7f777d890c",
   "metadata": {},
   "outputs": [
    {
     "name": "stdout",
     "output_type": "stream",
     "text": [
      ">>>> Starting the process of removing duplicates ...\n",
      "No duplicates found.\n",
      "CPU times: total: 5.92 s\n",
      "Wall time: 6.96 s\n"
     ]
    }
   ],
   "source": [
    "%%time\n",
    "rm_duplicates = RemoveDuplicates()\n",
    "X_train, y_train = rm_duplicates.transform(X_train, y_train)"
   ]
  },
  {
   "cell_type": "code",
   "execution_count": 8,
   "id": "09b923fa-72d1-49fc-9fa4-5f31917ba1c7",
   "metadata": {},
   "outputs": [
    {
     "name": "stdout",
     "output_type": "stream",
     "text": [
      ">>>> Starting data type conversion process...\n",
      "Column 'vendor_id' changed from int64 to object\n",
      "Column 'pickup_datetime' changed from object to datetime64[ns]\n",
      "Column 'dropoff_datetime' changed from object to datetime64[ns]\n",
      ">>>> Starting data type conversion process...\n",
      "Column 'vendor_id' changed from int64 to object\n",
      "Column 'pickup_datetime' changed from object to datetime64[ns]\n",
      "Column 'dropoff_datetime' changed from object to datetime64[ns]\n",
      "CPU times: total: 5.27 s\n",
      "Wall time: 5.32 s\n"
     ]
    }
   ],
   "source": [
    "%%time\n",
    "to_dtypes = ToDataTypes()\n",
    "X_train, y_train = to_dtypes.transform(X_train, y_train)\n",
    "X_test, y_test = to_dtypes.transform(X_test, y_test)"
   ]
  },
  {
   "cell_type": "code",
   "execution_count": 9,
   "id": "0f1a4da0-c885-4152-bbaf-2f538ecb4371",
   "metadata": {},
   "outputs": [
    {
     "name": "stdout",
     "output_type": "stream",
     "text": [
      ">>>> Starting datetime feature extraction...\n",
      "Extracted features: ['pickup_month', 'pickup_day', 'pickup_day_of_week', 'pickup_hour']\n",
      "Dropped columns: ['pickup_datetime', 'dropoff_datetime']\n",
      ">>>> Starting datetime feature extraction...\n",
      "Extracted features: ['pickup_month', 'pickup_day', 'pickup_day_of_week', 'pickup_hour']\n",
      "Dropped columns: ['pickup_datetime', 'dropoff_datetime']\n",
      "CPU times: total: 5.89 s\n",
      "Wall time: 6.37 s\n"
     ]
    }
   ],
   "source": [
    "%%time\n",
    "datetime_break = DateTimeBreak()\n",
    "X_train = datetime_break.transform(X_train)\n",
    "X_test = datetime_break.transform(X_test)"
   ]
  },
  {
   "cell_type": "code",
   "execution_count": 10,
   "id": "ebfa7479-5335-4038-84a3-5de0f15e04a0",
   "metadata": {},
   "outputs": [
    {
     "name": "stdout",
     "output_type": "stream",
     "text": [
      "CPU times: total: 0 ns\n",
      "Wall time: 0 ns\n",
      ">>>> Starting missing value imputation...\n",
      "Dropped 16 entries (0.00%) from column 'distance_osrm' due to missing values.\n",
      "Initial data length: 1166915\n",
      "Removed data: 16 (0.00%)\n",
      "Final data length: 1166899\n",
      ">>>> Starting missing value imputation...\n",
      "Dropped 1 entries (0.00%) from column 'distance_osrm' due to missing values.\n",
      "Initial data length: 291729\n",
      "Removed data: 1 (0.00%)\n",
      "Final data length: 291728\n"
     ]
    }
   ],
   "source": [
    "%time\n",
    "miss_val_input = MissValInput()\n",
    "X_train, y_train = miss_val_input.fit_transform(X_train, y_train)\n",
    "X_test, y_test = miss_val_input.transform(X_test, y_test)"
   ]
  },
  {
   "cell_type": "code",
   "execution_count": 11,
   "id": "42f10287-3185-4971-ae5a-4d1104e829a3",
   "metadata": {},
   "outputs": [
    {
     "name": "stdout",
     "output_type": "stream",
     "text": [
      ">>>> Starting features restriction ...\n",
      "The dataset size: 1166899 rows\n",
      "trip_duration (old) -> [min, max]: [1, 3526282]\n",
      "trip_duration (new) -> [min, max]: [60, 86392]\n",
      "distance_osrm (old) -> [min, max]: [0.0, 765.6445]\n",
      "distance_osrm (new) -> [min, max]: [0.1001, 97.7243]\n",
      "speed_osrm column not found, skipping restriction on 'speed_osrm'.\n",
      "passenger_count (old) -> [min, max]: [0, 8]\n",
      "passenger_count (new) -> [min, max]: [1, 8]\n",
      "Total removed data: 11632 (1.00%)\n",
      "CPU times: total: 1.88 s\n",
      "Wall time: 1.99 s\n"
     ]
    }
   ],
   "source": [
    "%%time\n",
    "feature_restriction = FeatureRestriction()\n",
    "X_train, y_train = feature_restriction.transform(X_train, y_train)"
   ]
  },
  {
   "cell_type": "code",
   "execution_count": 12,
   "id": "a030eaf6-c2d2-430e-a277-91c5662e370f",
   "metadata": {},
   "outputs": [
    {
     "name": "stdout",
     "output_type": "stream",
     "text": [
      ">>>> Starting New York City map restriction ...\n",
      "Outliers saved to 'csv_ml_baseline\\outliers_map_ml_baseline.csv'\n",
      "Map saved as 'html_ml_baseline/outliers_map_ml_baseline.html'\n",
      "Removed 71 (0.01%) records outside NYC boundaries.\n",
      "CPU times: total: 2.41 s\n",
      "Wall time: 2.46 s\n"
     ]
    }
   ],
   "source": [
    "%%time\n",
    "outlier_mapper = OutlierMapper(map_title=\"outliers_map_ml_baseline\", csv_dir=\"csv_ml_baseline\", html_dir=\"html_ml_baseline\")\n",
    "X_train, y_train = outlier_mapper.transform(X_train, y_train)\n",
    "X_test.drop(columns=['pickup_dist_NYC_center', 'dropoff_dist_NYC_center'], inplace=True)"
   ]
  },
  {
   "cell_type": "code",
   "execution_count": 13,
   "id": "b6f1e90a-2dcb-4af8-aa64-6b1694aba051",
   "metadata": {},
   "outputs": [
    {
     "name": "stdout",
     "output_type": "stream",
     "text": [
      ">>>> Starting to encode the features ...\n",
      "Starting transformations...\n",
      "Dropping 'id' column...\n",
      "Performing dummy encoding on 'vendor_id' column...\n",
      "Performing dummy encoding on 'store_and_fwd_flag' column...\n",
      "Performing cyclical encoding on 'pickup_month' column...\n",
      "Cyclical encoding for 'pickup_month' completed.\n",
      "Performing cyclical encoding on 'pickup_day' column...\n",
      "Cyclical encoding for 'pickup_day' completed.\n",
      "Performing cyclical encoding on 'pickup_day_of_week' column...\n",
      "Cyclical encoding for 'pickup_day_of_week' completed.\n",
      "Performing cyclical encoding on 'pickup_hour' column...\n",
      "Cyclical encoding for 'pickup_hour' completed.\n",
      "Dropping original columns after encoding...\n",
      "Transformation completed.\n",
      ">>>> Starting to encode the features ...\n",
      "Starting transformations...\n",
      "Dropping 'id' column...\n",
      "Performing dummy encoding on 'vendor_id' column...\n",
      "Performing dummy encoding on 'store_and_fwd_flag' column...\n",
      "Performing cyclical encoding on 'pickup_month' column...\n",
      "Cyclical encoding for 'pickup_month' completed.\n",
      "Performing cyclical encoding on 'pickup_day' column...\n",
      "Cyclical encoding for 'pickup_day' completed.\n",
      "Performing cyclical encoding on 'pickup_day_of_week' column...\n",
      "Cyclical encoding for 'pickup_day_of_week' completed.\n",
      "Performing cyclical encoding on 'pickup_hour' column...\n",
      "Cyclical encoding for 'pickup_hour' completed.\n",
      "Dropping original columns after encoding...\n",
      "Transformation completed.\n",
      "CPU times: total: 4.47 s\n",
      "Wall time: 4.69 s\n"
     ]
    }
   ],
   "source": [
    "%%time\n",
    "feature_encoding = FeatureEncoding()\n",
    "X_train = feature_encoding.transform(X_train)\n",
    "X_test = feature_encoding.transform(X_test)"
   ]
  },
  {
   "cell_type": "code",
   "execution_count": 14,
   "id": "4c7bc05d-383f-41c5-9e10-323268927cec",
   "metadata": {},
   "outputs": [
    {
     "name": "stdout",
     "output_type": "stream",
     "text": [
      "<class 'pandas.core.frame.DataFrame'>\n",
      "Int64Index: 1155196 entries, 1053743 to 121958\n",
      "Data columns (total 16 columns):\n",
      " #   Column                  Non-Null Count    Dtype  \n",
      "---  ------                  --------------    -----  \n",
      " 0   passenger_count         1155196 non-null  int64  \n",
      " 1   pickup_longitude        1155196 non-null  float64\n",
      " 2   pickup_latitude         1155196 non-null  float64\n",
      " 3   dropoff_longitude       1155196 non-null  float64\n",
      " 4   dropoff_latitude        1155196 non-null  float64\n",
      " 5   distance_osrm           1155196 non-null  float64\n",
      " 6   vendor_id_2             1155196 non-null  uint8  \n",
      " 7   store_and_fwd_flag_Y    1155196 non-null  uint8  \n",
      " 8   pickup_month_sin        1155196 non-null  float64\n",
      " 9   pickup_month_cos        1155196 non-null  float64\n",
      " 10  pickup_day_sin          1155196 non-null  float64\n",
      " 11  pickup_day_cos          1155196 non-null  float64\n",
      " 12  pickup_day_of_week_sin  1155196 non-null  float64\n",
      " 13  pickup_day_of_week_cos  1155196 non-null  float64\n",
      " 14  pickup_hour_sin         1155196 non-null  float64\n",
      " 15  pickup_hour_cos         1155196 non-null  float64\n",
      "dtypes: float64(13), int64(1), uint8(2)\n",
      "memory usage: 134.4 MB\n"
     ]
    }
   ],
   "source": [
    "X_train.info()"
   ]
  },
  {
   "cell_type": "code",
   "execution_count": 15,
   "id": "c5909c95-366e-455b-89be-a790be26f5ce",
   "metadata": {},
   "outputs": [
    {
     "name": "stdout",
     "output_type": "stream",
     "text": [
      "<class 'pandas.core.frame.DataFrame'>\n",
      "Int64Index: 291728 entries, 67250 to 589044\n",
      "Data columns (total 16 columns):\n",
      " #   Column                  Non-Null Count   Dtype  \n",
      "---  ------                  --------------   -----  \n",
      " 0   passenger_count         291728 non-null  int64  \n",
      " 1   pickup_longitude        291728 non-null  float64\n",
      " 2   pickup_latitude         291728 non-null  float64\n",
      " 3   dropoff_longitude       291728 non-null  float64\n",
      " 4   dropoff_latitude        291728 non-null  float64\n",
      " 5   distance_osrm           291728 non-null  float64\n",
      " 6   vendor_id_2             291728 non-null  uint8  \n",
      " 7   store_and_fwd_flag_Y    291728 non-null  uint8  \n",
      " 8   pickup_month_sin        291728 non-null  float64\n",
      " 9   pickup_month_cos        291728 non-null  float64\n",
      " 10  pickup_day_sin          291728 non-null  float64\n",
      " 11  pickup_day_cos          291728 non-null  float64\n",
      " 12  pickup_day_of_week_sin  291728 non-null  float64\n",
      " 13  pickup_day_of_week_cos  291728 non-null  float64\n",
      " 14  pickup_hour_sin         291728 non-null  float64\n",
      " 15  pickup_hour_cos         291728 non-null  float64\n",
      "dtypes: float64(13), int64(1), uint8(2)\n",
      "memory usage: 33.9 MB\n"
     ]
    }
   ],
   "source": [
    "X_test.info()"
   ]
  },
  {
   "cell_type": "code",
   "execution_count": 16,
   "id": "ee218cd2-cc5e-4714-a45c-5acfa4f09e2d",
   "metadata": {},
   "outputs": [],
   "source": [
    "models = [\n",
    "    ('LGBM', LGBMRegressor(verbose=0))\n",
    "]"
   ]
  },
  {
   "cell_type": "code",
   "execution_count": 17,
   "id": "83bafe03-8c30-4b55-8226-55c3457f72f0",
   "metadata": {},
   "outputs": [
    {
     "name": "stdout",
     "output_type": "stream",
     "text": [
      "LGBM - RMSLE: 0.5461, Fit time: 14.8824 seconds\n"
     ]
    }
   ],
   "source": [
    "result = evaluate_models(models, X_train, y_train, X_test, y_test)"
   ]
  },
  {
   "cell_type": "markdown",
   "id": "ba8ea604-840a-4301-a91f-51d56e324327",
   "metadata": {
    "jp-MarkdownHeadingCollapsed": true
   },
   "source": [
    "## GridSearchCV"
   ]
  },
  {
   "cell_type": "code",
   "execution_count": 1,
   "id": "1dbc87b0-246a-47c6-8f52-4a8b29a244fa",
   "metadata": {},
   "outputs": [],
   "source": [
    "from utils_ml import *"
   ]
  },
  {
   "cell_type": "code",
   "execution_count": 2,
   "id": "e16ee4be-bb32-48bd-a21a-6bd52c8badce",
   "metadata": {},
   "outputs": [],
   "source": [
    "df = pd.read_csv(\"csv_ml/eda_01.csv\")"
   ]
  },
  {
   "cell_type": "code",
   "execution_count": 3,
   "id": "a278af6d-6204-4be6-9522-e3392f37617e",
   "metadata": {},
   "outputs": [
    {
     "name": "stdout",
     "output_type": "stream",
     "text": [
      "<class 'pandas.core.frame.DataFrame'>\n",
      "RangeIndex: 1458644 entries, 0 to 1458643\n",
      "Data columns (total 14 columns):\n",
      " #   Column                   Non-Null Count    Dtype  \n",
      "---  ------                   --------------    -----  \n",
      " 0   id                       1458644 non-null  object \n",
      " 1   vendor_id                1458644 non-null  int64  \n",
      " 2   pickup_datetime          1458644 non-null  object \n",
      " 3   dropoff_datetime         1458644 non-null  object \n",
      " 4   passenger_count          1458644 non-null  int64  \n",
      " 5   pickup_longitude         1458644 non-null  float64\n",
      " 6   pickup_latitude          1458644 non-null  float64\n",
      " 7   dropoff_longitude        1458644 non-null  float64\n",
      " 8   dropoff_latitude         1458644 non-null  float64\n",
      " 9   store_and_fwd_flag       1458644 non-null  object \n",
      " 10  trip_duration            1458644 non-null  int64  \n",
      " 11  distance_osrm            1458627 non-null  float64\n",
      " 12  pickup_dist_NYC_center   1458644 non-null  float64\n",
      " 13  dropoff_dist_NYC_center  1458644 non-null  float64\n",
      "dtypes: float64(7), int64(3), object(4)\n",
      "memory usage: 155.8+ MB\n"
     ]
    }
   ],
   "source": [
    "df.info()"
   ]
  },
  {
   "cell_type": "code",
   "execution_count": 4,
   "id": "3ed5a989-171c-4e17-a604-02b346f6b442",
   "metadata": {},
   "outputs": [
    {
     "data": {
      "text/html": [
       "<div>\n",
       "<style scoped>\n",
       "    .dataframe tbody tr th:only-of-type {\n",
       "        vertical-align: middle;\n",
       "    }\n",
       "\n",
       "    .dataframe tbody tr th {\n",
       "        vertical-align: top;\n",
       "    }\n",
       "\n",
       "    .dataframe thead th {\n",
       "        text-align: right;\n",
       "    }\n",
       "</style>\n",
       "<table border=\"1\" class=\"dataframe\">\n",
       "  <thead>\n",
       "    <tr style=\"text-align: right;\">\n",
       "      <th></th>\n",
       "      <th>id</th>\n",
       "      <th>vendor_id</th>\n",
       "      <th>pickup_datetime</th>\n",
       "      <th>dropoff_datetime</th>\n",
       "      <th>passenger_count</th>\n",
       "      <th>pickup_longitude</th>\n",
       "      <th>pickup_latitude</th>\n",
       "      <th>dropoff_longitude</th>\n",
       "      <th>dropoff_latitude</th>\n",
       "      <th>store_and_fwd_flag</th>\n",
       "      <th>trip_duration</th>\n",
       "      <th>distance_osrm</th>\n",
       "      <th>pickup_dist_NYC_center</th>\n",
       "      <th>dropoff_dist_NYC_center</th>\n",
       "    </tr>\n",
       "  </thead>\n",
       "  <tbody>\n",
       "    <tr>\n",
       "      <th>0</th>\n",
       "      <td>id2875421</td>\n",
       "      <td>2</td>\n",
       "      <td>2016-03-14 17:24:55</td>\n",
       "      <td>2016-03-14 17:32:30</td>\n",
       "      <td>1</td>\n",
       "      <td>-73.982155</td>\n",
       "      <td>40.767937</td>\n",
       "      <td>-73.964630</td>\n",
       "      <td>40.765602</td>\n",
       "      <td>N</td>\n",
       "      <td>455</td>\n",
       "      <td>2.1587</td>\n",
       "      <td>6.445619</td>\n",
       "      <td>6.825864</td>\n",
       "    </tr>\n",
       "    <tr>\n",
       "      <th>1</th>\n",
       "      <td>id2377394</td>\n",
       "      <td>1</td>\n",
       "      <td>2016-06-12 00:43:35</td>\n",
       "      <td>2016-06-12 00:54:38</td>\n",
       "      <td>1</td>\n",
       "      <td>-73.980415</td>\n",
       "      <td>40.738564</td>\n",
       "      <td>-73.999481</td>\n",
       "      <td>40.731152</td>\n",
       "      <td>N</td>\n",
       "      <td>663</td>\n",
       "      <td>2.5113</td>\n",
       "      <td>3.585708</td>\n",
       "      <td>2.111028</td>\n",
       "    </tr>\n",
       "    <tr>\n",
       "      <th>2</th>\n",
       "      <td>id3858529</td>\n",
       "      <td>2</td>\n",
       "      <td>2016-01-19 11:35:24</td>\n",
       "      <td>2016-01-19 12:10:48</td>\n",
       "      <td>1</td>\n",
       "      <td>-73.979027</td>\n",
       "      <td>40.763939</td>\n",
       "      <td>-74.005333</td>\n",
       "      <td>40.710087</td>\n",
       "      <td>N</td>\n",
       "      <td>2124</td>\n",
       "      <td>9.9354</td>\n",
       "      <td>6.118901</td>\n",
       "      <td>0.306521</td>\n",
       "    </tr>\n",
       "    <tr>\n",
       "      <th>3</th>\n",
       "      <td>id3504673</td>\n",
       "      <td>2</td>\n",
       "      <td>2016-04-06 19:32:31</td>\n",
       "      <td>2016-04-06 19:39:40</td>\n",
       "      <td>1</td>\n",
       "      <td>-74.010040</td>\n",
       "      <td>40.719971</td>\n",
       "      <td>-74.012268</td>\n",
       "      <td>40.706718</td>\n",
       "      <td>N</td>\n",
       "      <td>429</td>\n",
       "      <td>1.7776</td>\n",
       "      <td>0.866388</td>\n",
       "      <td>0.858280</td>\n",
       "    </tr>\n",
       "    <tr>\n",
       "      <th>4</th>\n",
       "      <td>id2181028</td>\n",
       "      <td>2</td>\n",
       "      <td>2016-03-26 13:30:55</td>\n",
       "      <td>2016-03-26 13:38:10</td>\n",
       "      <td>1</td>\n",
       "      <td>-73.973053</td>\n",
       "      <td>40.793209</td>\n",
       "      <td>-73.972923</td>\n",
       "      <td>40.782520</td>\n",
       "      <td>N</td>\n",
       "      <td>435</td>\n",
       "      <td>1.6064</td>\n",
       "      <td>9.352795</td>\n",
       "      <td>8.230915</td>\n",
       "    </tr>\n",
       "  </tbody>\n",
       "</table>\n",
       "</div>"
      ],
      "text/plain": [
       "          id  vendor_id      pickup_datetime     dropoff_datetime  \\\n",
       "0  id2875421          2  2016-03-14 17:24:55  2016-03-14 17:32:30   \n",
       "1  id2377394          1  2016-06-12 00:43:35  2016-06-12 00:54:38   \n",
       "2  id3858529          2  2016-01-19 11:35:24  2016-01-19 12:10:48   \n",
       "3  id3504673          2  2016-04-06 19:32:31  2016-04-06 19:39:40   \n",
       "4  id2181028          2  2016-03-26 13:30:55  2016-03-26 13:38:10   \n",
       "\n",
       "   passenger_count  pickup_longitude  pickup_latitude  dropoff_longitude  \\\n",
       "0                1        -73.982155        40.767937         -73.964630   \n",
       "1                1        -73.980415        40.738564         -73.999481   \n",
       "2                1        -73.979027        40.763939         -74.005333   \n",
       "3                1        -74.010040        40.719971         -74.012268   \n",
       "4                1        -73.973053        40.793209         -73.972923   \n",
       "\n",
       "   dropoff_latitude store_and_fwd_flag  trip_duration  distance_osrm  \\\n",
       "0         40.765602                  N            455         2.1587   \n",
       "1         40.731152                  N            663         2.5113   \n",
       "2         40.710087                  N           2124         9.9354   \n",
       "3         40.706718                  N            429         1.7776   \n",
       "4         40.782520                  N            435         1.6064   \n",
       "\n",
       "   pickup_dist_NYC_center  dropoff_dist_NYC_center  \n",
       "0                6.445619                 6.825864  \n",
       "1                3.585708                 2.111028  \n",
       "2                6.118901                 0.306521  \n",
       "3                0.866388                 0.858280  \n",
       "4                9.352795                 8.230915  "
      ]
     },
     "execution_count": 4,
     "metadata": {},
     "output_type": "execute_result"
    }
   ],
   "source": [
    "df.head()"
   ]
  },
  {
   "cell_type": "code",
   "execution_count": 5,
   "id": "d5807bf6-dd9e-4aa5-a654-93bd64928f13",
   "metadata": {},
   "outputs": [],
   "source": [
    "X = df.drop(columns=\"trip_duration\", axis=1)\n",
    "y = df[\"trip_duration\"]"
   ]
  },
  {
   "cell_type": "code",
   "execution_count": 6,
   "id": "3a10ab37-315b-4961-8790-70eb7c16e3a2",
   "metadata": {},
   "outputs": [],
   "source": [
    "X_train, X_test, y_train, y_test = train_test_split(X, y, test_size = 0.20, random_state = 42)"
   ]
  },
  {
   "cell_type": "code",
   "execution_count": 7,
   "id": "752545fc-2ea8-4965-9a0a-d42026191230",
   "metadata": {},
   "outputs": [
    {
     "name": "stdout",
     "output_type": "stream",
     "text": [
      ">>>> Starting the process of removing duplicates ...\n",
      "No duplicates found.\n",
      "CPU times: total: 5.64 s\n",
      "Wall time: 5.91 s\n"
     ]
    }
   ],
   "source": [
    "%%time\n",
    "rm_duplicates = RemoveDuplicates()\n",
    "X_train, y_train = rm_duplicates.transform(X_train, y_train)"
   ]
  },
  {
   "cell_type": "code",
   "execution_count": 8,
   "id": "48a9ff53-d458-427d-b329-8bc6b0ecf812",
   "metadata": {},
   "outputs": [
    {
     "name": "stdout",
     "output_type": "stream",
     "text": [
      ">>>> Starting data type conversion process...\n",
      "Column 'vendor_id' changed from int64 to object\n",
      "Column 'pickup_datetime' changed from object to datetime64[ns]\n",
      "Column 'dropoff_datetime' changed from object to datetime64[ns]\n",
      ">>>> Starting data type conversion process...\n",
      "Column 'vendor_id' changed from int64 to object\n",
      "Column 'pickup_datetime' changed from object to datetime64[ns]\n",
      "Column 'dropoff_datetime' changed from object to datetime64[ns]\n",
      "CPU times: total: 5.31 s\n",
      "Wall time: 5.37 s\n"
     ]
    }
   ],
   "source": [
    "%%time\n",
    "to_dtypes = ToDataTypes()\n",
    "X_train, y_train = to_dtypes.transform(X_train, y_train)\n",
    "X_test, y_test = to_dtypes.transform(X_test, y_test)"
   ]
  },
  {
   "cell_type": "code",
   "execution_count": 9,
   "id": "cd1d066a-1b0e-4fcc-9a7e-3856e26a863e",
   "metadata": {},
   "outputs": [
    {
     "name": "stdout",
     "output_type": "stream",
     "text": [
      ">>>> Starting datetime feature extraction...\n",
      "Extracted features: ['pickup_month', 'pickup_day', 'pickup_day_of_week', 'pickup_hour']\n",
      "Dropped columns: ['pickup_datetime', 'dropoff_datetime']\n",
      ">>>> Starting datetime feature extraction...\n",
      "Extracted features: ['pickup_month', 'pickup_day', 'pickup_day_of_week', 'pickup_hour']\n",
      "Dropped columns: ['pickup_datetime', 'dropoff_datetime']\n",
      "CPU times: total: 5.84 s\n",
      "Wall time: 6.13 s\n"
     ]
    }
   ],
   "source": [
    "%%time\n",
    "datetime_break = DateTimeBreak()\n",
    "X_train = datetime_break.transform(X_train)\n",
    "X_test = datetime_break.transform(X_test)"
   ]
  },
  {
   "cell_type": "code",
   "execution_count": 10,
   "id": "2782d23f-5c14-493d-9938-70e5519a4451",
   "metadata": {},
   "outputs": [
    {
     "name": "stdout",
     "output_type": "stream",
     "text": [
      "CPU times: total: 0 ns\n",
      "Wall time: 0 ns\n",
      ">>>> Starting missing value imputation...\n",
      "Dropped 16 entries (0.00%) from column 'distance_osrm' due to missing values.\n",
      "Initial data length: 1166915\n",
      "Removed data: 16 (0.00%)\n",
      "Final data length: 1166899\n",
      ">>>> Starting missing value imputation...\n",
      "Dropped 1 entries (0.00%) from column 'distance_osrm' due to missing values.\n",
      "Initial data length: 291729\n",
      "Removed data: 1 (0.00%)\n",
      "Final data length: 291728\n"
     ]
    }
   ],
   "source": [
    "%time\n",
    "miss_val_input = MissValInput()\n",
    "X_train, y_train = miss_val_input.fit_transform(X_train, y_train)\n",
    "X_test, y_test = miss_val_input.transform(X_test, y_test)"
   ]
  },
  {
   "cell_type": "code",
   "execution_count": 11,
   "id": "28763c09-af36-44f4-8d50-843999733588",
   "metadata": {},
   "outputs": [
    {
     "name": "stdout",
     "output_type": "stream",
     "text": [
      ">>>> Starting features restriction ...\n",
      "The dataset size: 1166899 rows\n",
      "trip_duration (old) -> [min, max]: [1, 3526282]\n",
      "trip_duration (new) -> [min, max]: [60, 86392]\n",
      "distance_osrm (old) -> [min, max]: [0.0, 765.6445]\n",
      "distance_osrm (new) -> [min, max]: [0.1001, 97.7243]\n",
      "speed_osrm column not found, skipping restriction on 'speed_osrm'.\n",
      "passenger_count (old) -> [min, max]: [0, 8]\n",
      "passenger_count (new) -> [min, max]: [1, 8]\n",
      "Total removed data: 11632 (1.00%)\n",
      "CPU times: total: 1.88 s\n",
      "Wall time: 2.03 s\n"
     ]
    }
   ],
   "source": [
    "%%time\n",
    "feature_restriction = FeatureRestriction()\n",
    "X_train, y_train = feature_restriction.transform(X_train, y_train)"
   ]
  },
  {
   "cell_type": "code",
   "execution_count": 12,
   "id": "91d8ffa7-67d1-4d6a-a102-b5979fc78b53",
   "metadata": {},
   "outputs": [
    {
     "name": "stdout",
     "output_type": "stream",
     "text": [
      ">>>> Starting New York City map restriction ...\n",
      "Outliers saved to 'csv_ml_baseline\\outliers_map_ml_baseline.csv'\n",
      "Map saved as 'html_ml_baseline/outliers_map_ml_baseline.html'\n",
      "Removed 71 (0.01%) records outside NYC boundaries.\n",
      "CPU times: total: 2.58 s\n",
      "Wall time: 2.6 s\n"
     ]
    }
   ],
   "source": [
    "%%time\n",
    "outlier_mapper = OutlierMapper(map_title=\"outliers_map_ml_baseline\", csv_dir=\"csv_ml_baseline\", html_dir=\"html_ml_baseline\")\n",
    "X_train, y_train = outlier_mapper.transform(X_train, y_train)\n",
    "X_test.drop(columns=['pickup_dist_NYC_center', 'dropoff_dist_NYC_center'], inplace=True)"
   ]
  },
  {
   "cell_type": "code",
   "execution_count": 13,
   "id": "47796538-272d-4322-a5e9-bfd3ecbc0b33",
   "metadata": {},
   "outputs": [
    {
     "name": "stdout",
     "output_type": "stream",
     "text": [
      ">>>> Starting to encode the features ...\n",
      "Starting transformations...\n",
      "Dropping 'id' column...\n",
      "Performing dummy encoding on 'vendor_id' column...\n",
      "Performing dummy encoding on 'store_and_fwd_flag' column...\n",
      "Performing cyclical encoding on 'pickup_month' column...\n",
      "Cyclical encoding for 'pickup_month' completed.\n",
      "Performing cyclical encoding on 'pickup_day' column...\n",
      "Cyclical encoding for 'pickup_day' completed.\n",
      "Performing cyclical encoding on 'pickup_day_of_week' column...\n",
      "Cyclical encoding for 'pickup_day_of_week' completed.\n",
      "Performing cyclical encoding on 'pickup_hour' column...\n",
      "Cyclical encoding for 'pickup_hour' completed.\n",
      "Dropping original columns after encoding...\n",
      "Transformation completed.\n",
      ">>>> Starting to encode the features ...\n",
      "Starting transformations...\n",
      "Dropping 'id' column...\n",
      "Performing dummy encoding on 'vendor_id' column...\n",
      "Performing dummy encoding on 'store_and_fwd_flag' column...\n",
      "Performing cyclical encoding on 'pickup_month' column...\n",
      "Cyclical encoding for 'pickup_month' completed.\n",
      "Performing cyclical encoding on 'pickup_day' column...\n",
      "Cyclical encoding for 'pickup_day' completed.\n",
      "Performing cyclical encoding on 'pickup_day_of_week' column...\n",
      "Cyclical encoding for 'pickup_day_of_week' completed.\n",
      "Performing cyclical encoding on 'pickup_hour' column...\n",
      "Cyclical encoding for 'pickup_hour' completed.\n",
      "Dropping original columns after encoding...\n",
      "Transformation completed.\n",
      "CPU times: total: 4.69 s\n",
      "Wall time: 4.77 s\n"
     ]
    }
   ],
   "source": [
    "%%time\n",
    "feature_encoding = FeatureEncoding()\n",
    "X_train = feature_encoding.transform(X_train)\n",
    "X_test = feature_encoding.transform(X_test)"
   ]
  },
  {
   "cell_type": "code",
   "execution_count": 14,
   "id": "d4d34f69-bd5d-40e1-a1cb-a0604bbe51bf",
   "metadata": {},
   "outputs": [
    {
     "name": "stdout",
     "output_type": "stream",
     "text": [
      "<class 'pandas.core.frame.DataFrame'>\n",
      "Int64Index: 1155196 entries, 1053743 to 121958\n",
      "Data columns (total 16 columns):\n",
      " #   Column                  Non-Null Count    Dtype  \n",
      "---  ------                  --------------    -----  \n",
      " 0   passenger_count         1155196 non-null  int64  \n",
      " 1   pickup_longitude        1155196 non-null  float64\n",
      " 2   pickup_latitude         1155196 non-null  float64\n",
      " 3   dropoff_longitude       1155196 non-null  float64\n",
      " 4   dropoff_latitude        1155196 non-null  float64\n",
      " 5   distance_osrm           1155196 non-null  float64\n",
      " 6   vendor_id_2             1155196 non-null  uint8  \n",
      " 7   store_and_fwd_flag_Y    1155196 non-null  uint8  \n",
      " 8   pickup_month_sin        1155196 non-null  float64\n",
      " 9   pickup_month_cos        1155196 non-null  float64\n",
      " 10  pickup_day_sin          1155196 non-null  float64\n",
      " 11  pickup_day_cos          1155196 non-null  float64\n",
      " 12  pickup_day_of_week_sin  1155196 non-null  float64\n",
      " 13  pickup_day_of_week_cos  1155196 non-null  float64\n",
      " 14  pickup_hour_sin         1155196 non-null  float64\n",
      " 15  pickup_hour_cos         1155196 non-null  float64\n",
      "dtypes: float64(13), int64(1), uint8(2)\n",
      "memory usage: 134.4 MB\n"
     ]
    }
   ],
   "source": [
    "X_train.info()"
   ]
  },
  {
   "cell_type": "code",
   "execution_count": 15,
   "id": "b6e1b3fe-fca4-48c5-93e1-42c28cbf8d9f",
   "metadata": {},
   "outputs": [
    {
     "name": "stdout",
     "output_type": "stream",
     "text": [
      "<class 'pandas.core.frame.DataFrame'>\n",
      "Int64Index: 291728 entries, 67250 to 589044\n",
      "Data columns (total 16 columns):\n",
      " #   Column                  Non-Null Count   Dtype  \n",
      "---  ------                  --------------   -----  \n",
      " 0   passenger_count         291728 non-null  int64  \n",
      " 1   pickup_longitude        291728 non-null  float64\n",
      " 2   pickup_latitude         291728 non-null  float64\n",
      " 3   dropoff_longitude       291728 non-null  float64\n",
      " 4   dropoff_latitude        291728 non-null  float64\n",
      " 5   distance_osrm           291728 non-null  float64\n",
      " 6   vendor_id_2             291728 non-null  uint8  \n",
      " 7   store_and_fwd_flag_Y    291728 non-null  uint8  \n",
      " 8   pickup_month_sin        291728 non-null  float64\n",
      " 9   pickup_month_cos        291728 non-null  float64\n",
      " 10  pickup_day_sin          291728 non-null  float64\n",
      " 11  pickup_day_cos          291728 non-null  float64\n",
      " 12  pickup_day_of_week_sin  291728 non-null  float64\n",
      " 13  pickup_day_of_week_cos  291728 non-null  float64\n",
      " 14  pickup_hour_sin         291728 non-null  float64\n",
      " 15  pickup_hour_cos         291728 non-null  float64\n",
      "dtypes: float64(13), int64(1), uint8(2)\n",
      "memory usage: 33.9 MB\n"
     ]
    }
   ],
   "source": [
    "X_test.info()"
   ]
  },
  {
   "cell_type": "code",
   "execution_count": 16,
   "id": "7f87b31d-2a68-4235-9b60-8633d1f5cabe",
   "metadata": {},
   "outputs": [],
   "source": [
    "model = LGBMRegressor(random_state=42, verbose=-1)"
   ]
  },
  {
   "cell_type": "code",
   "execution_count": 17,
   "id": "06974f01-aaff-45fe-8f73-27d0342832c7",
   "metadata": {},
   "outputs": [],
   "source": [
    "# result = evaluate_models(models, X_train, y_train, X_test, y_test)"
   ]
  },
  {
   "cell_type": "code",
   "execution_count": 18,
   "id": "9a755dce-8984-4028-b3f8-2a7861588094",
   "metadata": {},
   "outputs": [],
   "source": [
    "# Create a custom scorer for GridSearchCV\n",
    "rmsle_scorer = make_scorer(rmsle, greater_is_better=False)"
   ]
  },
  {
   "cell_type": "code",
   "execution_count": 19,
   "id": "6e0c6abc-00fc-4369-a615-f235a385d562",
   "metadata": {},
   "outputs": [],
   "source": [
    "param_grid = {\n",
    "    'n_estimators': [100, 200],   # Number of boosting rounds\n",
    "    'learning_rate': [0.05, 0.1],     # Step size shrinkage\n",
    "    'num_leaves': [31, 63],            # Maximum leaves in a tree\n",
    "    'max_depth': [10, -1]\n",
    "}"
   ]
  },
  {
   "cell_type": "code",
   "execution_count": 20,
   "id": "571cabe7-bcc0-4c1d-9be3-7cf82fc10341",
   "metadata": {},
   "outputs": [],
   "source": [
    "cv = KFold(n_splits=3, random_state=42, shuffle=True)"
   ]
  },
  {
   "cell_type": "code",
   "execution_count": 21,
   "id": "951d7950-5e96-4ef3-bb3e-af067da2971e",
   "metadata": {},
   "outputs": [],
   "source": [
    "# Set up GridSearchCV\n",
    "grid_search = GridSearchCV(\n",
    "    estimator=model,\n",
    "    param_grid=param_grid,\n",
    "    scoring=rmsle_scorer,\n",
    "    cv=cv,\n",
    "    verbose=2,\n",
    "    n_jobs=-1\n",
    ")"
   ]
  },
  {
   "cell_type": "markdown",
   "id": "21389c04-b50d-4736-a633-94c7ddb09a04",
   "metadata": {},
   "source": [
    "Total fit = number of fold (cv) * the number of different hyperparameter configurations"
   ]
  },
  {
   "cell_type": "code",
   "execution_count": 22,
   "id": "5b29bc82-e815-422e-a35a-43eb1c5662ba",
   "metadata": {},
   "outputs": [
    {
     "name": "stdout",
     "output_type": "stream",
     "text": [
      "Fitting 3 folds for each of 16 candidates, totalling 48 fits\n",
      "CPU times: total: 49.1 s\n",
      "Wall time: 9min 15s\n"
     ]
    },
    {
     "data": {
      "text/html": [
       "<style>#sk-container-id-1 {color: black;background-color: white;}#sk-container-id-1 pre{padding: 0;}#sk-container-id-1 div.sk-toggleable {background-color: white;}#sk-container-id-1 label.sk-toggleable__label {cursor: pointer;display: block;width: 100%;margin-bottom: 0;padding: 0.3em;box-sizing: border-box;text-align: center;}#sk-container-id-1 label.sk-toggleable__label-arrow:before {content: \"▸\";float: left;margin-right: 0.25em;color: #696969;}#sk-container-id-1 label.sk-toggleable__label-arrow:hover:before {color: black;}#sk-container-id-1 div.sk-estimator:hover label.sk-toggleable__label-arrow:before {color: black;}#sk-container-id-1 div.sk-toggleable__content {max-height: 0;max-width: 0;overflow: hidden;text-align: left;background-color: #f0f8ff;}#sk-container-id-1 div.sk-toggleable__content pre {margin: 0.2em;color: black;border-radius: 0.25em;background-color: #f0f8ff;}#sk-container-id-1 input.sk-toggleable__control:checked~div.sk-toggleable__content {max-height: 200px;max-width: 100%;overflow: auto;}#sk-container-id-1 input.sk-toggleable__control:checked~label.sk-toggleable__label-arrow:before {content: \"▾\";}#sk-container-id-1 div.sk-estimator input.sk-toggleable__control:checked~label.sk-toggleable__label {background-color: #d4ebff;}#sk-container-id-1 div.sk-label input.sk-toggleable__control:checked~label.sk-toggleable__label {background-color: #d4ebff;}#sk-container-id-1 input.sk-hidden--visually {border: 0;clip: rect(1px 1px 1px 1px);clip: rect(1px, 1px, 1px, 1px);height: 1px;margin: -1px;overflow: hidden;padding: 0;position: absolute;width: 1px;}#sk-container-id-1 div.sk-estimator {font-family: monospace;background-color: #f0f8ff;border: 1px dotted black;border-radius: 0.25em;box-sizing: border-box;margin-bottom: 0.5em;}#sk-container-id-1 div.sk-estimator:hover {background-color: #d4ebff;}#sk-container-id-1 div.sk-parallel-item::after {content: \"\";width: 100%;border-bottom: 1px solid gray;flex-grow: 1;}#sk-container-id-1 div.sk-label:hover label.sk-toggleable__label {background-color: #d4ebff;}#sk-container-id-1 div.sk-serial::before {content: \"\";position: absolute;border-left: 1px solid gray;box-sizing: border-box;top: 0;bottom: 0;left: 50%;z-index: 0;}#sk-container-id-1 div.sk-serial {display: flex;flex-direction: column;align-items: center;background-color: white;padding-right: 0.2em;padding-left: 0.2em;position: relative;}#sk-container-id-1 div.sk-item {position: relative;z-index: 1;}#sk-container-id-1 div.sk-parallel {display: flex;align-items: stretch;justify-content: center;background-color: white;position: relative;}#sk-container-id-1 div.sk-item::before, #sk-container-id-1 div.sk-parallel-item::before {content: \"\";position: absolute;border-left: 1px solid gray;box-sizing: border-box;top: 0;bottom: 0;left: 50%;z-index: -1;}#sk-container-id-1 div.sk-parallel-item {display: flex;flex-direction: column;z-index: 1;position: relative;background-color: white;}#sk-container-id-1 div.sk-parallel-item:first-child::after {align-self: flex-end;width: 50%;}#sk-container-id-1 div.sk-parallel-item:last-child::after {align-self: flex-start;width: 50%;}#sk-container-id-1 div.sk-parallel-item:only-child::after {width: 0;}#sk-container-id-1 div.sk-dashed-wrapped {border: 1px dashed gray;margin: 0 0.4em 0.5em 0.4em;box-sizing: border-box;padding-bottom: 0.4em;background-color: white;}#sk-container-id-1 div.sk-label label {font-family: monospace;font-weight: bold;display: inline-block;line-height: 1.2em;}#sk-container-id-1 div.sk-label-container {text-align: center;}#sk-container-id-1 div.sk-container {/* jupyter's `normalize.less` sets `[hidden] { display: none; }` but bootstrap.min.css set `[hidden] { display: none !important; }` so we also need the `!important` here to be able to override the default hidden behavior on the sphinx rendered scikit-learn.org. See: https://github.com/scikit-learn/scikit-learn/issues/21755 */display: inline-block !important;position: relative;}#sk-container-id-1 div.sk-text-repr-fallback {display: none;}</style><div id=\"sk-container-id-1\" class=\"sk-top-container\"><div class=\"sk-text-repr-fallback\"><pre>GridSearchCV(cv=KFold(n_splits=3, random_state=42, shuffle=True),\n",
       "             estimator=LGBMRegressor(random_state=42, verbose=-1), n_jobs=-1,\n",
       "             param_grid={&#x27;learning_rate&#x27;: [0.05, 0.1], &#x27;max_depth&#x27;: [10, -1],\n",
       "                         &#x27;n_estimators&#x27;: [100, 200], &#x27;num_leaves&#x27;: [31, 63]},\n",
       "             scoring=make_scorer(rmsle, greater_is_better=False), verbose=2)</pre><b>In a Jupyter environment, please rerun this cell to show the HTML representation or trust the notebook. <br />On GitHub, the HTML representation is unable to render, please try loading this page with nbviewer.org.</b></div><div class=\"sk-container\" hidden><div class=\"sk-item sk-dashed-wrapped\"><div class=\"sk-label-container\"><div class=\"sk-label sk-toggleable\"><input class=\"sk-toggleable__control sk-hidden--visually\" id=\"sk-estimator-id-1\" type=\"checkbox\" ><label for=\"sk-estimator-id-1\" class=\"sk-toggleable__label sk-toggleable__label-arrow\">GridSearchCV</label><div class=\"sk-toggleable__content\"><pre>GridSearchCV(cv=KFold(n_splits=3, random_state=42, shuffle=True),\n",
       "             estimator=LGBMRegressor(random_state=42, verbose=-1), n_jobs=-1,\n",
       "             param_grid={&#x27;learning_rate&#x27;: [0.05, 0.1], &#x27;max_depth&#x27;: [10, -1],\n",
       "                         &#x27;n_estimators&#x27;: [100, 200], &#x27;num_leaves&#x27;: [31, 63]},\n",
       "             scoring=make_scorer(rmsle, greater_is_better=False), verbose=2)</pre></div></div></div><div class=\"sk-parallel\"><div class=\"sk-parallel-item\"><div class=\"sk-item\"><div class=\"sk-label-container\"><div class=\"sk-label sk-toggleable\"><input class=\"sk-toggleable__control sk-hidden--visually\" id=\"sk-estimator-id-2\" type=\"checkbox\" ><label for=\"sk-estimator-id-2\" class=\"sk-toggleable__label sk-toggleable__label-arrow\">estimator: LGBMRegressor</label><div class=\"sk-toggleable__content\"><pre>LGBMRegressor(random_state=42, verbose=-1)</pre></div></div></div><div class=\"sk-serial\"><div class=\"sk-item\"><div class=\"sk-estimator sk-toggleable\"><input class=\"sk-toggleable__control sk-hidden--visually\" id=\"sk-estimator-id-3\" type=\"checkbox\" ><label for=\"sk-estimator-id-3\" class=\"sk-toggleable__label sk-toggleable__label-arrow\">LGBMRegressor</label><div class=\"sk-toggleable__content\"><pre>LGBMRegressor(random_state=42, verbose=-1)</pre></div></div></div></div></div></div></div></div></div></div>"
      ],
      "text/plain": [
       "GridSearchCV(cv=KFold(n_splits=3, random_state=42, shuffle=True),\n",
       "             estimator=LGBMRegressor(random_state=42, verbose=-1), n_jobs=-1,\n",
       "             param_grid={'learning_rate': [0.05, 0.1], 'max_depth': [10, -1],\n",
       "                         'n_estimators': [100, 200], 'num_leaves': [31, 63]},\n",
       "             scoring=make_scorer(rmsle, greater_is_better=False), verbose=2)"
      ]
     },
     "execution_count": 22,
     "metadata": {},
     "output_type": "execute_result"
    }
   ],
   "source": [
    "%%time\n",
    "grid_search.fit(X_train, y_train)"
   ]
  },
  {
   "cell_type": "code",
   "execution_count": 23,
   "id": "d5b69cbd-69bf-48c8-8684-df16d3a64378",
   "metadata": {},
   "outputs": [
    {
     "name": "stdout",
     "output_type": "stream",
     "text": [
      "Best Parameters: {'learning_rate': 0.05, 'max_depth': 10, 'n_estimators': 200, 'num_leaves': 31}\n",
      "Best Cross-Validation RSMLE Score: -0.4892630110267507\n"
     ]
    }
   ],
   "source": [
    "# Best parameters and best model\n",
    "print(\"Best Parameters:\", grid_search.best_params_)\n",
    "print(\"Best Cross-Validation RSMLE Score:\", grid_search.best_score_)"
   ]
  },
  {
   "cell_type": "code",
   "execution_count": 24,
   "id": "9a77d1d1-2cb4-43d3-846b-a4500a4f1c4b",
   "metadata": {},
   "outputs": [
    {
     "name": "stdout",
     "output_type": "stream",
     "text": [
      "Best: -0.489263 using {'learning_rate': 0.05, 'max_depth': 10, 'n_estimators': 200, 'num_leaves': 31}\n",
      "-0.500057 (±0.000551) with: {'learning_rate': 0.05, 'max_depth': 10, 'n_estimators': 100, 'num_leaves': 31}\n",
      "-0.496747 (±0.000701) with: {'learning_rate': 0.05, 'max_depth': 10, 'n_estimators': 100, 'num_leaves': 63}\n",
      "-0.489263 (±0.000216) with: {'learning_rate': 0.05, 'max_depth': 10, 'n_estimators': 200, 'num_leaves': 31}\n",
      "-0.490794 (±0.001658) with: {'learning_rate': 0.05, 'max_depth': 10, 'n_estimators': 200, 'num_leaves': 63}\n",
      "-0.501088 (±0.000938) with: {'learning_rate': 0.05, 'max_depth': -1, 'n_estimators': 100, 'num_leaves': 31}\n",
      "-0.498772 (±0.000665) with: {'learning_rate': 0.05, 'max_depth': -1, 'n_estimators': 100, 'num_leaves': 63}\n",
      "-0.489979 (±0.000566) with: {'learning_rate': 0.05, 'max_depth': -1, 'n_estimators': 200, 'num_leaves': 31}\n",
      "-0.492227 (±0.000365) with: {'learning_rate': 0.05, 'max_depth': -1, 'n_estimators': 200, 'num_leaves': 63}\n",
      "-0.489339 (±0.001412) with: {'learning_rate': 0.1, 'max_depth': 10, 'n_estimators': 100, 'num_leaves': 31}\n",
      "-0.492927 (±0.001444) with: {'learning_rate': 0.1, 'max_depth': 10, 'n_estimators': 100, 'num_leaves': 63}\n",
      "-0.494321 (±0.003172) with: {'learning_rate': 0.1, 'max_depth': 10, 'n_estimators': 200, 'num_leaves': 31}\n",
      "-0.523528 (±0.004677) with: {'learning_rate': 0.1, 'max_depth': 10, 'n_estimators': 200, 'num_leaves': 63}\n",
      "-0.490841 (±0.000117) with: {'learning_rate': 0.1, 'max_depth': -1, 'n_estimators': 100, 'num_leaves': 31}\n",
      "-0.494306 (±0.000394) with: {'learning_rate': 0.1, 'max_depth': -1, 'n_estimators': 100, 'num_leaves': 63}\n",
      "-0.494681 (±0.002918) with: {'learning_rate': 0.1, 'max_depth': -1, 'n_estimators': 200, 'num_leaves': 31}\n",
      "-0.528300 (±0.006654) with: {'learning_rate': 0.1, 'max_depth': -1, 'n_estimators': 200, 'num_leaves': 63}\n"
     ]
    }
   ],
   "source": [
    "print(\"Best: %f using %s\" % (grid_search.best_score_, grid_search.best_params_))\n",
    "means = grid_search.cv_results_['mean_test_score']\n",
    "stds = grid_search.cv_results_['std_test_score']\n",
    "params = grid_search.cv_results_['params']\n",
    "\n",
    "for mean, stdev, param in zip(means, stds, params):\n",
    "    print(f\"{mean:.6f} (±{stdev:.6f}) with: {param}\")"
   ]
  },
  {
   "cell_type": "code",
   "execution_count": 25,
   "id": "a817f4c1-18c9-4077-9b23-a3c3db0b6143",
   "metadata": {},
   "outputs": [
    {
     "name": "stdout",
     "output_type": "stream",
     "text": [
      "Test RSMLE: 0.5462083977336132\n"
     ]
    }
   ],
   "source": [
    "# Evaluation on test set\n",
    "best_model = grid_search.best_estimator_\n",
    "y_pred = best_model.predict(X_test)\n",
    "\n",
    "test_rmsle = rmsle(y_test, y_pred)\n",
    "print(\"Test RSMLE:\", test_rmsle)"
   ]
  },
  {
   "cell_type": "markdown",
   "id": "53f1e4f0-028e-40d3-bfaa-527e4a1cbb10",
   "metadata": {},
   "source": [
    "---"
   ]
  },
  {
   "cell_type": "code",
   "execution_count": 26,
   "id": "fb4c0659-9010-40f8-ba80-bd8340855de3",
   "metadata": {},
   "outputs": [],
   "source": [
    "model = [\n",
    "    ('LGBM', LGBMRegressor(random_state=42, verbose=-1, n_estimators=200, learning_rate=0.05, num_leaves=31, max_depth=10))\n",
    "]"
   ]
  },
  {
   "cell_type": "code",
   "execution_count": 27,
   "id": "63bd9eb5-1d66-4246-9f0c-55c22f71fb19",
   "metadata": {},
   "outputs": [
    {
     "name": "stdout",
     "output_type": "stream",
     "text": [
      "LGBM - RMSLE: 0.5462, Fit time: 20.9654 seconds\n"
     ]
    }
   ],
   "source": [
    "result = evaluate_models(model, X_train, y_train, X_test, y_test)"
   ]
  },
  {
   "cell_type": "markdown",
   "id": "c7482a6d-2e09-442b-9f64-5cc9bc28bd46",
   "metadata": {},
   "source": [
    "---"
   ]
  },
  {
   "cell_type": "code",
   "execution_count": 28,
   "id": "3575d731-cd01-40f4-9ae7-b082cb4987e6",
   "metadata": {},
   "outputs": [
    {
     "name": "stdout",
     "output_type": "stream",
     "text": [
      "Model saved to lgbm_model.joblib\n"
     ]
    }
   ],
   "source": [
    "joblib.dump(best_model, 'lgbm_model.joblib')\n",
    "print(\"Model saved to lgbm_model.joblib\")"
   ]
  },
  {
   "cell_type": "code",
   "execution_count": 29,
   "id": "d773bc7b-57ac-45ea-821a-d853b725c21a",
   "metadata": {},
   "outputs": [
    {
     "name": "stdout",
     "output_type": "stream",
     "text": [
      "Model loaded successfully\n"
     ]
    }
   ],
   "source": [
    "loaded_model = joblib.load('lgbm_model.joblib')\n",
    "print(\"Model loaded successfully\")"
   ]
  },
  {
   "cell_type": "code",
   "execution_count": 30,
   "id": "5b4e5260-a694-4fe0-85b1-fdab7ad94b26",
   "metadata": {},
   "outputs": [
    {
     "name": "stdout",
     "output_type": "stream",
     "text": [
      "Test RSMLE with loaded model: 0.546208\n"
     ]
    }
   ],
   "source": [
    "# Make predictions with the loaded model\n",
    "y_pred = loaded_model.predict(X_test)\n",
    "\n",
    "# Evaluate the loaded model\n",
    "test_rmsle = rmsle(y_test, y_pred)\n",
    "print(f\"Test RSMLE with loaded model: {test_rmsle:.6f}\")"
   ]
  }
 ],
 "metadata": {
  "kernelspec": {
   "display_name": "Python 3 (ipykernel)",
   "language": "python",
   "name": "python3"
  },
  "language_info": {
   "codemirror_mode": {
    "name": "ipython",
    "version": 3
   },
   "file_extension": ".py",
   "mimetype": "text/x-python",
   "name": "python",
   "nbconvert_exporter": "python",
   "pygments_lexer": "ipython3",
   "version": "3.10.9"
  }
 },
 "nbformat": 4,
 "nbformat_minor": 5
}
