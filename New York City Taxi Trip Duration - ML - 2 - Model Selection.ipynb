{
 "cells": [
  {
   "cell_type": "markdown",
   "id": "4fb6d216-eb64-427a-af77-f09ea65c9203",
   "metadata": {},
   "source": [
    "# Model Selection"
   ]
  },
  {
   "cell_type": "markdown",
   "id": "621c5554-36cd-4754-ab6c-7490f9a65a87",
   "metadata": {
    "jp-MarkdownHeadingCollapsed": true
   },
   "source": [
    "## Selecting Models"
   ]
  },
  {
   "cell_type": "markdown",
   "id": "f40aae42-1853-4b48-9947-f88cb1f565c6",
   "metadata": {},
   "source": [
    "To be analyzed:\n",
    "- missing values imputation? Regression should not have missing values.\n",
    "- restricting boundaries?"
   ]
  },
  {
   "cell_type": "code",
   "execution_count": 1,
   "id": "0f726bdf-7b64-42c7-8301-8e9ba33cb1df",
   "metadata": {},
   "outputs": [],
   "source": [
    "from playground import *"
   ]
  },
  {
   "cell_type": "code",
   "execution_count": 2,
   "id": "851894ff-811f-4c8d-a110-ae49583b1f66",
   "metadata": {},
   "outputs": [],
   "source": [
    "df = pd.read_csv(\"csv_ml/eda_01.csv\")"
   ]
  },
  {
   "cell_type": "code",
   "execution_count": 3,
   "id": "4b615140-5e81-4394-949b-eab708ec2163",
   "metadata": {},
   "outputs": [
    {
     "name": "stdout",
     "output_type": "stream",
     "text": [
      "<class 'pandas.core.frame.DataFrame'>\n",
      "RangeIndex: 1458644 entries, 0 to 1458643\n",
      "Data columns (total 14 columns):\n",
      " #   Column                   Non-Null Count    Dtype  \n",
      "---  ------                   --------------    -----  \n",
      " 0   id                       1458644 non-null  object \n",
      " 1   vendor_id                1458644 non-null  int64  \n",
      " 2   pickup_datetime          1458644 non-null  object \n",
      " 3   dropoff_datetime         1458644 non-null  object \n",
      " 4   passenger_count          1458644 non-null  int64  \n",
      " 5   pickup_longitude         1458644 non-null  float64\n",
      " 6   pickup_latitude          1458644 non-null  float64\n",
      " 7   dropoff_longitude        1458644 non-null  float64\n",
      " 8   dropoff_latitude         1458644 non-null  float64\n",
      " 9   store_and_fwd_flag       1458644 non-null  object \n",
      " 10  trip_duration            1458644 non-null  int64  \n",
      " 11  distance_osrm            1458627 non-null  float64\n",
      " 12  pickup_dist_NYC_center   1458644 non-null  float64\n",
      " 13  dropoff_dist_NYC_center  1458644 non-null  float64\n",
      "dtypes: float64(7), int64(3), object(4)\n",
      "memory usage: 155.8+ MB\n"
     ]
    }
   ],
   "source": [
    "df.info()"
   ]
  },
  {
   "cell_type": "code",
   "execution_count": 4,
   "id": "2bbaf9e2-a3dd-4d6c-9c0d-21e378c8409a",
   "metadata": {},
   "outputs": [
    {
     "data": {
      "text/html": [
       "<div>\n",
       "<style scoped>\n",
       "    .dataframe tbody tr th:only-of-type {\n",
       "        vertical-align: middle;\n",
       "    }\n",
       "\n",
       "    .dataframe tbody tr th {\n",
       "        vertical-align: top;\n",
       "    }\n",
       "\n",
       "    .dataframe thead th {\n",
       "        text-align: right;\n",
       "    }\n",
       "</style>\n",
       "<table border=\"1\" class=\"dataframe\">\n",
       "  <thead>\n",
       "    <tr style=\"text-align: right;\">\n",
       "      <th></th>\n",
       "      <th>id</th>\n",
       "      <th>vendor_id</th>\n",
       "      <th>pickup_datetime</th>\n",
       "      <th>dropoff_datetime</th>\n",
       "      <th>passenger_count</th>\n",
       "      <th>pickup_longitude</th>\n",
       "      <th>pickup_latitude</th>\n",
       "      <th>dropoff_longitude</th>\n",
       "      <th>dropoff_latitude</th>\n",
       "      <th>store_and_fwd_flag</th>\n",
       "      <th>trip_duration</th>\n",
       "      <th>distance_osrm</th>\n",
       "      <th>pickup_dist_NYC_center</th>\n",
       "      <th>dropoff_dist_NYC_center</th>\n",
       "    </tr>\n",
       "  </thead>\n",
       "  <tbody>\n",
       "    <tr>\n",
       "      <th>0</th>\n",
       "      <td>id2875421</td>\n",
       "      <td>2</td>\n",
       "      <td>2016-03-14 17:24:55</td>\n",
       "      <td>2016-03-14 17:32:30</td>\n",
       "      <td>1</td>\n",
       "      <td>-73.982155</td>\n",
       "      <td>40.767937</td>\n",
       "      <td>-73.964630</td>\n",
       "      <td>40.765602</td>\n",
       "      <td>N</td>\n",
       "      <td>455</td>\n",
       "      <td>2.1587</td>\n",
       "      <td>6.445619</td>\n",
       "      <td>6.825864</td>\n",
       "    </tr>\n",
       "    <tr>\n",
       "      <th>1</th>\n",
       "      <td>id2377394</td>\n",
       "      <td>1</td>\n",
       "      <td>2016-06-12 00:43:35</td>\n",
       "      <td>2016-06-12 00:54:38</td>\n",
       "      <td>1</td>\n",
       "      <td>-73.980415</td>\n",
       "      <td>40.738564</td>\n",
       "      <td>-73.999481</td>\n",
       "      <td>40.731152</td>\n",
       "      <td>N</td>\n",
       "      <td>663</td>\n",
       "      <td>2.5113</td>\n",
       "      <td>3.585708</td>\n",
       "      <td>2.111028</td>\n",
       "    </tr>\n",
       "    <tr>\n",
       "      <th>2</th>\n",
       "      <td>id3858529</td>\n",
       "      <td>2</td>\n",
       "      <td>2016-01-19 11:35:24</td>\n",
       "      <td>2016-01-19 12:10:48</td>\n",
       "      <td>1</td>\n",
       "      <td>-73.979027</td>\n",
       "      <td>40.763939</td>\n",
       "      <td>-74.005333</td>\n",
       "      <td>40.710087</td>\n",
       "      <td>N</td>\n",
       "      <td>2124</td>\n",
       "      <td>9.9354</td>\n",
       "      <td>6.118901</td>\n",
       "      <td>0.306521</td>\n",
       "    </tr>\n",
       "    <tr>\n",
       "      <th>3</th>\n",
       "      <td>id3504673</td>\n",
       "      <td>2</td>\n",
       "      <td>2016-04-06 19:32:31</td>\n",
       "      <td>2016-04-06 19:39:40</td>\n",
       "      <td>1</td>\n",
       "      <td>-74.010040</td>\n",
       "      <td>40.719971</td>\n",
       "      <td>-74.012268</td>\n",
       "      <td>40.706718</td>\n",
       "      <td>N</td>\n",
       "      <td>429</td>\n",
       "      <td>1.7776</td>\n",
       "      <td>0.866388</td>\n",
       "      <td>0.858280</td>\n",
       "    </tr>\n",
       "    <tr>\n",
       "      <th>4</th>\n",
       "      <td>id2181028</td>\n",
       "      <td>2</td>\n",
       "      <td>2016-03-26 13:30:55</td>\n",
       "      <td>2016-03-26 13:38:10</td>\n",
       "      <td>1</td>\n",
       "      <td>-73.973053</td>\n",
       "      <td>40.793209</td>\n",
       "      <td>-73.972923</td>\n",
       "      <td>40.782520</td>\n",
       "      <td>N</td>\n",
       "      <td>435</td>\n",
       "      <td>1.6064</td>\n",
       "      <td>9.352795</td>\n",
       "      <td>8.230915</td>\n",
       "    </tr>\n",
       "  </tbody>\n",
       "</table>\n",
       "</div>"
      ],
      "text/plain": [
       "          id  vendor_id      pickup_datetime     dropoff_datetime  \\\n",
       "0  id2875421          2  2016-03-14 17:24:55  2016-03-14 17:32:30   \n",
       "1  id2377394          1  2016-06-12 00:43:35  2016-06-12 00:54:38   \n",
       "2  id3858529          2  2016-01-19 11:35:24  2016-01-19 12:10:48   \n",
       "3  id3504673          2  2016-04-06 19:32:31  2016-04-06 19:39:40   \n",
       "4  id2181028          2  2016-03-26 13:30:55  2016-03-26 13:38:10   \n",
       "\n",
       "   passenger_count  pickup_longitude  pickup_latitude  dropoff_longitude  \\\n",
       "0                1        -73.982155        40.767937         -73.964630   \n",
       "1                1        -73.980415        40.738564         -73.999481   \n",
       "2                1        -73.979027        40.763939         -74.005333   \n",
       "3                1        -74.010040        40.719971         -74.012268   \n",
       "4                1        -73.973053        40.793209         -73.972923   \n",
       "\n",
       "   dropoff_latitude store_and_fwd_flag  trip_duration  distance_osrm  \\\n",
       "0         40.765602                  N            455         2.1587   \n",
       "1         40.731152                  N            663         2.5113   \n",
       "2         40.710087                  N           2124         9.9354   \n",
       "3         40.706718                  N            429         1.7776   \n",
       "4         40.782520                  N            435         1.6064   \n",
       "\n",
       "   pickup_dist_NYC_center  dropoff_dist_NYC_center  \n",
       "0                6.445619                 6.825864  \n",
       "1                3.585708                 2.111028  \n",
       "2                6.118901                 0.306521  \n",
       "3                0.866388                 0.858280  \n",
       "4                9.352795                 8.230915  "
      ]
     },
     "execution_count": 4,
     "metadata": {},
     "output_type": "execute_result"
    }
   ],
   "source": [
    "df.head()"
   ]
  },
  {
   "cell_type": "code",
   "execution_count": 5,
   "id": "0b55d64b-0558-49f1-b061-f177edc522af",
   "metadata": {},
   "outputs": [],
   "source": [
    "X = df.drop(columns=\"trip_duration\", axis=1)\n",
    "y = df[\"trip_duration\"]"
   ]
  },
  {
   "cell_type": "code",
   "execution_count": 6,
   "id": "b863ca02-90a7-4a4b-8d8a-e7e0c9b368c0",
   "metadata": {},
   "outputs": [],
   "source": [
    "X_train, X_test, y_train, y_test = train_test_split(X, y, test_size = 0.20, random_state = 42)"
   ]
  },
  {
   "cell_type": "code",
   "execution_count": 7,
   "id": "7988aef3-ecc2-443e-8917-aa20524c7ef2",
   "metadata": {},
   "outputs": [
    {
     "name": "stdout",
     "output_type": "stream",
     "text": [
      ">>>> Starting the process of removing duplicates ...\n",
      "No duplicates found.\n",
      "CPU times: total: 5.88 s\n",
      "Wall time: 6.38 s\n"
     ]
    }
   ],
   "source": [
    "%%time\n",
    "rm_duplicates = RemoveDuplicates()\n",
    "X_train, y_train = rm_duplicates.transform(X_train, y_train)"
   ]
  },
  {
   "cell_type": "code",
   "execution_count": 8,
   "id": "4f617852-70dd-445c-821a-2ba6d8bd9c25",
   "metadata": {},
   "outputs": [
    {
     "name": "stdout",
     "output_type": "stream",
     "text": [
      ">>>> Starting data type conversion process...\n",
      "Column 'vendor_id' changed from int64 to object\n",
      "Column 'pickup_datetime' changed from object to datetime64[ns]\n",
      "Column 'dropoff_datetime' changed from object to datetime64[ns]\n",
      ">>>> Starting data type conversion process...\n",
      "Column 'vendor_id' changed from int64 to object\n",
      "Column 'pickup_datetime' changed from object to datetime64[ns]\n",
      "Column 'dropoff_datetime' changed from object to datetime64[ns]\n",
      "CPU times: total: 5.22 s\n",
      "Wall time: 5.39 s\n"
     ]
    }
   ],
   "source": [
    "%%time\n",
    "to_dtypes = ToDataTypes()\n",
    "X_train, y_train = to_dtypes.transform(X_train, y_train)\n",
    "X_test, y_test = to_dtypes.transform(X_test, y_test)"
   ]
  },
  {
   "cell_type": "code",
   "execution_count": 9,
   "id": "ff0341f6-33fa-4204-8ebb-ca1122d04302",
   "metadata": {},
   "outputs": [
    {
     "name": "stdout",
     "output_type": "stream",
     "text": [
      ">>>> Starting datetime feature extraction...\n",
      "Extracted features: ['pickup_month', 'pickup_day', 'pickup_day_of_week', 'pickup_hour']\n",
      "Dropped columns: ['pickup_datetime', 'dropoff_datetime']\n",
      ">>>> Starting datetime feature extraction...\n",
      "Extracted features: ['pickup_month', 'pickup_day', 'pickup_day_of_week', 'pickup_hour']\n",
      "Dropped columns: ['pickup_datetime', 'dropoff_datetime']\n",
      "CPU times: total: 5.44 s\n",
      "Wall time: 5.61 s\n"
     ]
    }
   ],
   "source": [
    "%%time\n",
    "datetime_break = DateTimeBreak()\n",
    "X_train = datetime_break.transform(X_train)\n",
    "X_test = datetime_break.transform(X_test)"
   ]
  },
  {
   "cell_type": "code",
   "execution_count": 10,
   "id": "91eac48a-dd5a-4fa2-8df5-734d76bd20e8",
   "metadata": {},
   "outputs": [
    {
     "name": "stdout",
     "output_type": "stream",
     "text": [
      "CPU times: total: 0 ns\n",
      "Wall time: 0 ns\n",
      ">>>> Starting missing value imputation...\n",
      "Dropped 16 entries (0.00%) from column 'distance_osrm' due to missing values.\n",
      "Initial data length: 1166915\n",
      "Removed data: 16 (0.00%)\n",
      "Final data length: 1166899\n",
      ">>>> Starting missing value imputation...\n",
      "Dropped 1 entries (0.00%) from column 'distance_osrm' due to missing values.\n",
      "Initial data length: 291729\n",
      "Removed data: 1 (0.00%)\n",
      "Final data length: 291728\n"
     ]
    }
   ],
   "source": [
    "%time\n",
    "miss_val_input = MissValInput()\n",
    "X_train, y_train = miss_val_input.fit_transform(X_train, y_train)\n",
    "X_test, y_test = miss_val_input.transform(X_test, y_test)"
   ]
  },
  {
   "cell_type": "code",
   "execution_count": 11,
   "id": "39e68ac0-ea07-44fa-bac9-d1fe6d322558",
   "metadata": {},
   "outputs": [
    {
     "name": "stdout",
     "output_type": "stream",
     "text": [
      ">>>> Starting features restriction ...\n",
      "The dataset size: 1166899 rows\n",
      "trip_duration (old) -> [min, max]: [1, 3526282]\n",
      "trip_duration (new) -> [min, max]: [60, 86392]\n",
      "distance_osrm (old) -> [min, max]: [0.0, 765.6445]\n",
      "distance_osrm (new) -> [min, max]: [0.1001, 97.7243]\n",
      "speed_osrm column not found, skipping restriction on 'speed_osrm'.\n",
      "passenger_count (old) -> [min, max]: [0, 8]\n",
      "passenger_count (new) -> [min, max]: [1, 8]\n",
      "Total removed data: 11632 (1.00%)\n",
      "CPU times: total: 2.02 s\n",
      "Wall time: 2.07 s\n"
     ]
    }
   ],
   "source": [
    "%%time\n",
    "feature_restriction = FeatureRestriction()\n",
    "X_train, y_train = feature_restriction.transform(X_train, y_train)"
   ]
  },
  {
   "cell_type": "code",
   "execution_count": 12,
   "id": "6a945667-c220-4b63-831e-12e60b708a55",
   "metadata": {},
   "outputs": [],
   "source": [
    "# %%time\n",
    "# outlier_mapper = OutlierMapper(map_title=\"outliers_map_ml_baseline\", csv_dir=\"csv_ml_baseline\", html_dir=\"html_ml_baseline\")\n",
    "# X_train, y_train = outlier_mapper.transform(X_train, y_train)\n",
    "# X_test.drop(columns=['pickup_dist_NYC_center', 'dropoff_dist_NYC_center'], inplace=True)"
   ]
  },
  {
   "cell_type": "code",
   "execution_count": 13,
   "id": "7f53ba68-7b5f-4bcd-9d7f-ebd12dca47a5",
   "metadata": {},
   "outputs": [],
   "source": [
    "# without restricting boundary area\n",
    "X_train.drop(columns=['pickup_dist_NYC_center', 'dropoff_dist_NYC_center'], inplace=True)\n",
    "X_test.drop(columns=['pickup_dist_NYC_center', 'dropoff_dist_NYC_center'], inplace=True)"
   ]
  },
  {
   "cell_type": "code",
   "execution_count": 14,
   "id": "b812c6c1-6203-4f10-bc40-1faec6dd3f07",
   "metadata": {},
   "outputs": [
    {
     "name": "stdout",
     "output_type": "stream",
     "text": [
      ">>>> Starting to encode the features ...\n",
      "Starting transformations...\n",
      "Dropping 'id' column...\n",
      "Performing dummy encoding on 'vendor_id' column...\n",
      "Performing dummy encoding on 'store_and_fwd_flag' column...\n",
      "Performing cyclical encoding on 'pickup_month' column...\n",
      "Cyclical encoding for 'pickup_month' completed.\n",
      "Performing cyclical encoding on 'pickup_day' column...\n",
      "Cyclical encoding for 'pickup_day' completed.\n",
      "Performing cyclical encoding on 'pickup_day_of_week' column...\n",
      "Cyclical encoding for 'pickup_day_of_week' completed.\n",
      "Performing cyclical encoding on 'pickup_hour' column...\n",
      "Cyclical encoding for 'pickup_hour' completed.\n",
      "Dropping original columns after encoding...\n",
      "Transformation completed.\n",
      ">>>> Starting to encode the features ...\n",
      "Starting transformations...\n",
      "Dropping 'id' column...\n",
      "Performing dummy encoding on 'vendor_id' column...\n",
      "Performing dummy encoding on 'store_and_fwd_flag' column...\n",
      "Performing cyclical encoding on 'pickup_month' column...\n",
      "Cyclical encoding for 'pickup_month' completed.\n",
      "Performing cyclical encoding on 'pickup_day' column...\n",
      "Cyclical encoding for 'pickup_day' completed.\n",
      "Performing cyclical encoding on 'pickup_day_of_week' column...\n",
      "Cyclical encoding for 'pickup_day_of_week' completed.\n",
      "Performing cyclical encoding on 'pickup_hour' column...\n",
      "Cyclical encoding for 'pickup_hour' completed.\n",
      "Dropping original columns after encoding...\n",
      "Transformation completed.\n",
      "CPU times: total: 4.66 s\n",
      "Wall time: 4.75 s\n"
     ]
    }
   ],
   "source": [
    "%%time\n",
    "feature_encoding = FeatureEncoding()\n",
    "X_train = feature_encoding.transform(X_train)\n",
    "X_test = feature_encoding.transform(X_test)"
   ]
  },
  {
   "cell_type": "code",
   "execution_count": 15,
   "id": "cdab2a6b-3624-44ff-90b5-1fd926e896d7",
   "metadata": {},
   "outputs": [
    {
     "name": "stdout",
     "output_type": "stream",
     "text": [
      "<class 'pandas.core.frame.DataFrame'>\n",
      "Int64Index: 1155267 entries, 1053743 to 121958\n",
      "Data columns (total 16 columns):\n",
      " #   Column                  Non-Null Count    Dtype  \n",
      "---  ------                  --------------    -----  \n",
      " 0   passenger_count         1155267 non-null  int64  \n",
      " 1   pickup_longitude        1155267 non-null  float64\n",
      " 2   pickup_latitude         1155267 non-null  float64\n",
      " 3   dropoff_longitude       1155267 non-null  float64\n",
      " 4   dropoff_latitude        1155267 non-null  float64\n",
      " 5   distance_osrm           1155267 non-null  float64\n",
      " 6   vendor_id_2             1155267 non-null  uint8  \n",
      " 7   store_and_fwd_flag_Y    1155267 non-null  uint8  \n",
      " 8   pickup_month_sin        1155267 non-null  float64\n",
      " 9   pickup_month_cos        1155267 non-null  float64\n",
      " 10  pickup_day_sin          1155267 non-null  float64\n",
      " 11  pickup_day_cos          1155267 non-null  float64\n",
      " 12  pickup_day_of_week_sin  1155267 non-null  float64\n",
      " 13  pickup_day_of_week_cos  1155267 non-null  float64\n",
      " 14  pickup_hour_sin         1155267 non-null  float64\n",
      " 15  pickup_hour_cos         1155267 non-null  float64\n",
      "dtypes: float64(13), int64(1), uint8(2)\n",
      "memory usage: 134.4 MB\n"
     ]
    }
   ],
   "source": [
    "X_train.info()"
   ]
  },
  {
   "cell_type": "code",
   "execution_count": 16,
   "id": "b9a1dff1-9b14-40c9-8bdf-41d6d78db85a",
   "metadata": {},
   "outputs": [
    {
     "name": "stdout",
     "output_type": "stream",
     "text": [
      "<class 'pandas.core.frame.DataFrame'>\n",
      "Int64Index: 291728 entries, 67250 to 589044\n",
      "Data columns (total 16 columns):\n",
      " #   Column                  Non-Null Count   Dtype  \n",
      "---  ------                  --------------   -----  \n",
      " 0   passenger_count         291728 non-null  int64  \n",
      " 1   pickup_longitude        291728 non-null  float64\n",
      " 2   pickup_latitude         291728 non-null  float64\n",
      " 3   dropoff_longitude       291728 non-null  float64\n",
      " 4   dropoff_latitude        291728 non-null  float64\n",
      " 5   distance_osrm           291728 non-null  float64\n",
      " 6   vendor_id_2             291728 non-null  uint8  \n",
      " 7   store_and_fwd_flag_Y    291728 non-null  uint8  \n",
      " 8   pickup_month_sin        291728 non-null  float64\n",
      " 9   pickup_month_cos        291728 non-null  float64\n",
      " 10  pickup_day_sin          291728 non-null  float64\n",
      " 11  pickup_day_cos          291728 non-null  float64\n",
      " 12  pickup_day_of_week_sin  291728 non-null  float64\n",
      " 13  pickup_day_of_week_cos  291728 non-null  float64\n",
      " 14  pickup_hour_sin         291728 non-null  float64\n",
      " 15  pickup_hour_cos         291728 non-null  float64\n",
      "dtypes: float64(13), int64(1), uint8(2)\n",
      "memory usage: 33.9 MB\n"
     ]
    }
   ],
   "source": [
    "X_test.info()"
   ]
  },
  {
   "cell_type": "code",
   "execution_count": 17,
   "id": "4cccae3f-063f-4255-b4d0-156e9480622e",
   "metadata": {},
   "outputs": [],
   "source": [
    "models = [\n",
    "    ('AB', AdaBoostRegressor()),\n",
    "    ('XGBR', XGBRegressor()),\n",
    "    ('LGBM', LGBMRegressor(verbose=0))\n",
    "]"
   ]
  },
  {
   "cell_type": "code",
   "execution_count": 18,
   "id": "ba92baaa-c0cf-4349-917a-9e9d6750f220",
   "metadata": {},
   "outputs": [
    {
     "name": "stdout",
     "output_type": "stream",
     "text": [
      "AB - RMSLE: 0.6384, Fit time: 28.4388 seconds\n",
      "XGBR - RMSLE: 0.5942, Fit time: 11.3917 seconds\n",
      "LGBM - RMSLE: 0.5452, Fit time: 11.8531 seconds\n"
     ]
    }
   ],
   "source": [
    "result = evaluate_models(models, X_train, y_train, X_test, y_test)"
   ]
  },
  {
   "cell_type": "markdown",
   "id": "61b706b2-34f6-4d4a-8cb4-e67f9647200d",
   "metadata": {
    "jp-MarkdownHeadingCollapsed": true
   },
   "source": [
    "## Result"
   ]
  },
  {
   "cell_type": "markdown",
   "id": "7d795aea-1747-4e8f-a187-f429fe16e28d",
   "metadata": {},
   "source": [
    "### With Restricting Boundary Area"
   ]
  },
  {
   "cell_type": "code",
   "execution_count": 26,
   "id": "07021a79-cfd4-40cd-8d4d-7987f26d1208",
   "metadata": {},
   "outputs": [
    {
     "name": "stdout",
     "output_type": "stream",
     "text": [
      "AB - RMSLE: 0.5954, Fit time: 38.6425 seconds\n",
      "XGBR - RMSLE: 0.5948, Fit time: 11.9088 seconds\n",
      "LGBM - RMSLE: 0.5461, Fit time: 11.8881 seconds\n"
     ]
    }
   ],
   "source": [
    "print(result)"
   ]
  },
  {
   "cell_type": "markdown",
   "id": "feb67f26-beda-4eb8-b732-d931b5b42f60",
   "metadata": {},
   "source": [
    "### Without Restricting Boundary Area"
   ]
  },
  {
   "cell_type": "code",
   "execution_count": 19,
   "id": "7815768b-0703-4673-9858-16b4ec7b7273",
   "metadata": {},
   "outputs": [
    {
     "name": "stdout",
     "output_type": "stream",
     "text": [
      "AB - RMSLE: 0.6384, Fit time: 28.4388 seconds\n",
      "XGBR - RMSLE: 0.5942, Fit time: 11.3917 seconds\n",
      "LGBM - RMSLE: 0.5452, Fit time: 11.8531 seconds\n"
     ]
    }
   ],
   "source": [
    "print(result)"
   ]
  },
  {
   "cell_type": "markdown",
   "id": "ccb28fe6-1613-4316-9f4b-8e0125c02bec",
   "metadata": {
    "jp-MarkdownHeadingCollapsed": true
   },
   "source": [
    "## Final Model"
   ]
  },
  {
   "cell_type": "markdown",
   "id": "7ea9d89f-18f7-4447-b1be-6166a6102eec",
   "metadata": {},
   "source": [
    "LGBM"
   ]
  },
  {
   "cell_type": "code",
   "execution_count": 1,
   "id": "c0e5bad4-3bbb-4dc9-915a-e1df13e8c45b",
   "metadata": {},
   "outputs": [
    {
     "name": "stdout",
     "output_type": "stream",
     "text": [
      "<class 'pandas.core.frame.DataFrame'>\n",
      "RangeIndex: 1458644 entries, 0 to 1458643\n",
      "Data columns (total 14 columns):\n",
      " #   Column                   Non-Null Count    Dtype  \n",
      "---  ------                   --------------    -----  \n",
      " 0   id                       1458644 non-null  object \n",
      " 1   vendor_id                1458644 non-null  int64  \n",
      " 2   pickup_datetime          1458644 non-null  object \n",
      " 3   dropoff_datetime         1458644 non-null  object \n",
      " 4   passenger_count          1458644 non-null  int64  \n",
      " 5   pickup_longitude         1458644 non-null  float64\n",
      " 6   pickup_latitude          1458644 non-null  float64\n",
      " 7   dropoff_longitude        1458644 non-null  float64\n",
      " 8   dropoff_latitude         1458644 non-null  float64\n",
      " 9   store_and_fwd_flag       1458644 non-null  object \n",
      " 10  trip_duration            1458644 non-null  int64  \n",
      " 11  distance_osrm            1458627 non-null  float64\n",
      " 12  pickup_dist_NYC_center   1458644 non-null  float64\n",
      " 13  dropoff_dist_NYC_center  1458644 non-null  float64\n",
      "dtypes: float64(7), int64(3), object(4)\n",
      "memory usage: 155.8+ MB\n"
     ]
    }
   ],
   "source": [
    "from playground import *\n",
    "df = pd.read_csv(\"csv_ml/eda_01.csv\")\n",
    "df.info()"
   ]
  },
  {
   "cell_type": "code",
   "execution_count": 2,
   "id": "65841fcf-3e0f-4a84-9381-810abf0a6bb7",
   "metadata": {},
   "outputs": [],
   "source": [
    "X = df.drop(columns=\"trip_duration\", axis=1)\n",
    "y = df[\"trip_duration\"]"
   ]
  },
  {
   "cell_type": "code",
   "execution_count": 3,
   "id": "b0e227e7-2784-4f5f-8a14-77193f5db96f",
   "metadata": {},
   "outputs": [],
   "source": [
    "X_train, X_test, y_train, y_test = train_test_split(X, y, test_size = 0.20, random_state = 42)"
   ]
  },
  {
   "cell_type": "code",
   "execution_count": 4,
   "id": "d7b99974-ed66-4711-bb70-ed005bbef697",
   "metadata": {},
   "outputs": [
    {
     "name": "stdout",
     "output_type": "stream",
     "text": [
      ">>>> Starting the process of removing duplicates ...\n",
      "No duplicates found.\n",
      "CPU times: total: 5.41 s\n",
      "Wall time: 5.49 s\n"
     ]
    }
   ],
   "source": [
    "%%time\n",
    "rm_duplicates = RemoveDuplicates()\n",
    "X_train, y_train = rm_duplicates.transform(X_train, y_train)"
   ]
  },
  {
   "cell_type": "code",
   "execution_count": 5,
   "id": "3e5e91de-9b43-4a20-9383-8f540db03cca",
   "metadata": {},
   "outputs": [
    {
     "name": "stdout",
     "output_type": "stream",
     "text": [
      ">>>> Starting data type conversion process...\n",
      "Column 'vendor_id' changed from int64 to object\n",
      "Column 'pickup_datetime' changed from object to datetime64[ns]\n",
      "Column 'dropoff_datetime' changed from object to datetime64[ns]\n",
      ">>>> Starting data type conversion process...\n",
      "Column 'vendor_id' changed from int64 to object\n",
      "Column 'pickup_datetime' changed from object to datetime64[ns]\n",
      "Column 'dropoff_datetime' changed from object to datetime64[ns]\n",
      "CPU times: total: 5.17 s\n",
      "Wall time: 5.26 s\n"
     ]
    }
   ],
   "source": [
    "%%time\n",
    "to_dtypes = ToDataTypes()\n",
    "X_train, y_train = to_dtypes.transform(X_train, y_train)\n",
    "X_test, y_test = to_dtypes.transform(X_test, y_test)"
   ]
  },
  {
   "cell_type": "code",
   "execution_count": 6,
   "id": "425f696e-bc77-4d14-b1c4-952e3014f7fb",
   "metadata": {},
   "outputs": [
    {
     "name": "stdout",
     "output_type": "stream",
     "text": [
      ">>>> Starting datetime feature extraction...\n",
      "Extracted features: ['pickup_month', 'pickup_day', 'pickup_day_of_week', 'pickup_hour']\n",
      "Dropped columns: ['pickup_datetime', 'dropoff_datetime']\n",
      ">>>> Starting datetime feature extraction...\n",
      "Extracted features: ['pickup_month', 'pickup_day', 'pickup_day_of_week', 'pickup_hour']\n",
      "Dropped columns: ['pickup_datetime', 'dropoff_datetime']\n",
      "CPU times: total: 5.67 s\n",
      "Wall time: 5.72 s\n"
     ]
    }
   ],
   "source": [
    "%%time\n",
    "datetime_break = DateTimeBreak()\n",
    "X_train = datetime_break.transform(X_train)\n",
    "X_test = datetime_break.transform(X_test)"
   ]
  },
  {
   "cell_type": "code",
   "execution_count": 7,
   "id": "485ec567-8b2e-4d5d-98cc-faf09a8fd566",
   "metadata": {},
   "outputs": [
    {
     "name": "stdout",
     "output_type": "stream",
     "text": [
      "CPU times: total: 0 ns\n",
      "Wall time: 0 ns\n",
      ">>>> Starting missing value imputation...\n",
      "Dropped 16 entries (0.00%) from column 'distance_osrm' due to missing values.\n",
      "Initial data length: 1166915\n",
      "Removed data: 16 (0.00%)\n",
      "Final data length: 1166899\n",
      ">>>> Starting missing value imputation...\n",
      "Dropped 1 entries (0.00%) from column 'distance_osrm' due to missing values.\n",
      "Initial data length: 291729\n",
      "Removed data: 1 (0.00%)\n",
      "Final data length: 291728\n"
     ]
    }
   ],
   "source": [
    "%time\n",
    "miss_val_input = MissValInput()\n",
    "X_train, y_train = miss_val_input.fit_transform(X_train, y_train)\n",
    "X_test, y_test = miss_val_input.transform(X_test, y_test)"
   ]
  },
  {
   "cell_type": "code",
   "execution_count": 8,
   "id": "3eb5c91c-d979-4561-bb35-a1d2cc28f349",
   "metadata": {},
   "outputs": [
    {
     "name": "stdout",
     "output_type": "stream",
     "text": [
      ">>>> Starting features restriction ...\n",
      "The dataset size: 1166899 rows\n",
      "trip_duration (old) -> [min, max]: [1, 3526282]\n",
      "trip_duration (new) -> [min, max]: [60, 86392]\n",
      "distance_osrm (old) -> [min, max]: [0.0, 765.6445]\n",
      "distance_osrm (new) -> [min, max]: [0.1001, 97.7243]\n",
      "speed_osrm column not found, skipping restriction on 'speed_osrm'.\n",
      "passenger_count (old) -> [min, max]: [0, 8]\n",
      "passenger_count (new) -> [min, max]: [1, 8]\n",
      "Total removed data: 11632 (1.00%)\n",
      "CPU times: total: 1.91 s\n",
      "Wall time: 1.94 s\n"
     ]
    }
   ],
   "source": [
    "%%time\n",
    "feature_restriction = FeatureRestriction()\n",
    "X_train, y_train = feature_restriction.transform(X_train, y_train)"
   ]
  },
  {
   "cell_type": "code",
   "execution_count": 9,
   "id": "4713bc58-a357-4f5e-b657-b5822d611b8f",
   "metadata": {},
   "outputs": [
    {
     "name": "stdout",
     "output_type": "stream",
     "text": [
      ">>>> Starting New York City map restriction ...\n",
      "Outliers saved to 'csv_ml_baseline\\outliers_map_ml_baseline.csv'\n",
      "Map saved as 'html_ml_baseline/outliers_map_ml_baseline.html'\n",
      "Removed 71 (0.01%) records outside NYC boundaries.\n",
      "CPU times: total: 2.45 s\n",
      "Wall time: 2.51 s\n"
     ]
    }
   ],
   "source": [
    "%%time\n",
    "outlier_mapper = OutlierMapper(map_title=\"outliers_map_ml_baseline\", csv_dir=\"csv_ml_baseline\", html_dir=\"html_ml_baseline\")\n",
    "X_train, y_train = outlier_mapper.transform(X_train, y_train)\n",
    "X_test.drop(columns=['pickup_dist_NYC_center', 'dropoff_dist_NYC_center'], inplace=True)"
   ]
  },
  {
   "cell_type": "code",
   "execution_count": 10,
   "id": "8a3f884e-be04-4847-b5f7-5486e034ed4d",
   "metadata": {},
   "outputs": [
    {
     "name": "stdout",
     "output_type": "stream",
     "text": [
      ">>>> Starting to encode the features ...\n",
      "Starting transformations...\n",
      "Dropping 'id' column...\n",
      "Performing dummy encoding on 'vendor_id' column...\n",
      "Performing dummy encoding on 'store_and_fwd_flag' column...\n",
      "Performing cyclical encoding on 'pickup_month' column...\n",
      "Cyclical encoding for 'pickup_month' completed.\n",
      "Performing cyclical encoding on 'pickup_day' column...\n",
      "Cyclical encoding for 'pickup_day' completed.\n",
      "Performing cyclical encoding on 'pickup_day_of_week' column...\n",
      "Cyclical encoding for 'pickup_day_of_week' completed.\n",
      "Performing cyclical encoding on 'pickup_hour' column...\n",
      "Cyclical encoding for 'pickup_hour' completed.\n",
      "Dropping original columns after encoding...\n",
      "Transformation completed.\n",
      ">>>> Starting to encode the features ...\n",
      "Starting transformations...\n",
      "Dropping 'id' column...\n",
      "Performing dummy encoding on 'vendor_id' column...\n",
      "Performing dummy encoding on 'store_and_fwd_flag' column...\n",
      "Performing cyclical encoding on 'pickup_month' column...\n",
      "Cyclical encoding for 'pickup_month' completed.\n",
      "Performing cyclical encoding on 'pickup_day' column...\n",
      "Cyclical encoding for 'pickup_day' completed.\n",
      "Performing cyclical encoding on 'pickup_day_of_week' column...\n",
      "Cyclical encoding for 'pickup_day_of_week' completed.\n",
      "Performing cyclical encoding on 'pickup_hour' column...\n",
      "Cyclical encoding for 'pickup_hour' completed.\n",
      "Dropping original columns after encoding...\n",
      "Transformation completed.\n",
      "CPU times: total: 4.59 s\n",
      "Wall time: 4.68 s\n"
     ]
    }
   ],
   "source": [
    "%%time\n",
    "feature_encoding = FeatureEncoding()\n",
    "X_train = feature_encoding.transform(X_train)\n",
    "X_test = feature_encoding.transform(X_test)"
   ]
  },
  {
   "cell_type": "code",
   "execution_count": 11,
   "id": "8a420da8-0add-4c3a-ae61-1f587ad38776",
   "metadata": {},
   "outputs": [
    {
     "name": "stdout",
     "output_type": "stream",
     "text": [
      "<class 'pandas.core.frame.DataFrame'>\n",
      "Int64Index: 1155196 entries, 1053743 to 121958\n",
      "Data columns (total 16 columns):\n",
      " #   Column                  Non-Null Count    Dtype  \n",
      "---  ------                  --------------    -----  \n",
      " 0   passenger_count         1155196 non-null  int64  \n",
      " 1   pickup_longitude        1155196 non-null  float64\n",
      " 2   pickup_latitude         1155196 non-null  float64\n",
      " 3   dropoff_longitude       1155196 non-null  float64\n",
      " 4   dropoff_latitude        1155196 non-null  float64\n",
      " 5   distance_osrm           1155196 non-null  float64\n",
      " 6   vendor_id_2             1155196 non-null  uint8  \n",
      " 7   store_and_fwd_flag_Y    1155196 non-null  uint8  \n",
      " 8   pickup_month_sin        1155196 non-null  float64\n",
      " 9   pickup_month_cos        1155196 non-null  float64\n",
      " 10  pickup_day_sin          1155196 non-null  float64\n",
      " 11  pickup_day_cos          1155196 non-null  float64\n",
      " 12  pickup_day_of_week_sin  1155196 non-null  float64\n",
      " 13  pickup_day_of_week_cos  1155196 non-null  float64\n",
      " 14  pickup_hour_sin         1155196 non-null  float64\n",
      " 15  pickup_hour_cos         1155196 non-null  float64\n",
      "dtypes: float64(13), int64(1), uint8(2)\n",
      "memory usage: 134.4 MB\n"
     ]
    }
   ],
   "source": [
    "X_train.info()"
   ]
  },
  {
   "cell_type": "code",
   "execution_count": 12,
   "id": "d68334f9-3a4a-48a0-a727-d1668f29f318",
   "metadata": {},
   "outputs": [
    {
     "name": "stdout",
     "output_type": "stream",
     "text": [
      "<class 'pandas.core.frame.DataFrame'>\n",
      "Int64Index: 291728 entries, 67250 to 589044\n",
      "Data columns (total 16 columns):\n",
      " #   Column                  Non-Null Count   Dtype  \n",
      "---  ------                  --------------   -----  \n",
      " 0   passenger_count         291728 non-null  int64  \n",
      " 1   pickup_longitude        291728 non-null  float64\n",
      " 2   pickup_latitude         291728 non-null  float64\n",
      " 3   dropoff_longitude       291728 non-null  float64\n",
      " 4   dropoff_latitude        291728 non-null  float64\n",
      " 5   distance_osrm           291728 non-null  float64\n",
      " 6   vendor_id_2             291728 non-null  uint8  \n",
      " 7   store_and_fwd_flag_Y    291728 non-null  uint8  \n",
      " 8   pickup_month_sin        291728 non-null  float64\n",
      " 9   pickup_month_cos        291728 non-null  float64\n",
      " 10  pickup_day_sin          291728 non-null  float64\n",
      " 11  pickup_day_cos          291728 non-null  float64\n",
      " 12  pickup_day_of_week_sin  291728 non-null  float64\n",
      " 13  pickup_day_of_week_cos  291728 non-null  float64\n",
      " 14  pickup_hour_sin         291728 non-null  float64\n",
      " 15  pickup_hour_cos         291728 non-null  float64\n",
      "dtypes: float64(13), int64(1), uint8(2)\n",
      "memory usage: 33.9 MB\n"
     ]
    }
   ],
   "source": [
    "X_test.info()"
   ]
  },
  {
   "cell_type": "code",
   "execution_count": 13,
   "id": "bf894ab5-a041-4d8b-a549-99ac11361243",
   "metadata": {},
   "outputs": [],
   "source": [
    "# Define models\n",
    "models = [\n",
    "    ('LGBM', LGBMRegressor(verbose=0))\n",
    "]"
   ]
  },
  {
   "cell_type": "code",
   "execution_count": 14,
   "id": "1ea9b499-4454-4715-8b32-5fd61025d3f2",
   "metadata": {},
   "outputs": [],
   "source": [
    "k_range = range(1, X_train.shape[1] + 1)  # From 1 to number of features\n",
    "results = {}"
   ]
  },
  {
   "cell_type": "code",
   "execution_count": 15,
   "id": "c48c7272-bb9f-42fc-b1cc-31548a427f96",
   "metadata": {},
   "outputs": [
    {
     "name": "stdout",
     "output_type": "stream",
     "text": [
      "Evaluating for k=1...\n",
      "LGBM - RMSLE: 0.5918, Fit time: 5.6630 seconds\n",
      "Evaluating for k=2...\n",
      "LGBM - RMSLE: 0.5847, Fit time: 3.4909 seconds\n",
      "Evaluating for k=3...\n",
      "LGBM - RMSLE: 0.5846, Fit time: 4.1136 seconds\n",
      "Evaluating for k=4...\n",
      "LGBM - RMSLE: 0.5789, Fit time: 4.2470 seconds\n",
      "Evaluating for k=5...\n",
      "LGBM - RMSLE: 0.5724, Fit time: 5.2788 seconds\n",
      "Evaluating for k=6...\n",
      "LGBM - RMSLE: 0.5805, Fit time: 5.8019 seconds\n",
      "Evaluating for k=7...\n",
      "LGBM - RMSLE: 0.5663, Fit time: 6.6725 seconds\n",
      "Evaluating for k=8...\n",
      "LGBM - RMSLE: 0.5637, Fit time: 7.2219 seconds\n",
      "Evaluating for k=9...\n",
      "LGBM - RMSLE: 0.5602, Fit time: 7.6097 seconds\n",
      "Evaluating for k=10...\n",
      "LGBM - RMSLE: 0.5518, Fit time: 7.7974 seconds\n",
      "Evaluating for k=11...\n",
      "LGBM - RMSLE: 0.5528, Fit time: 8.7655 seconds\n",
      "Evaluating for k=12...\n",
      "LGBM - RMSLE: 0.5533, Fit time: 8.8822 seconds\n",
      "Evaluating for k=13...\n",
      "LGBM - RMSLE: 0.5516, Fit time: 10.3007 seconds\n",
      "Evaluating for k=14...\n",
      "LGBM - RMSLE: 0.5516, Fit time: 9.4740 seconds\n",
      "Evaluating for k=15...\n",
      "LGBM - RMSLE: 0.5457, Fit time: 10.0985 seconds\n",
      "Evaluating for k=16...\n",
      "LGBM - RMSLE: 0.5461, Fit time: 10.9288 seconds\n"
     ]
    }
   ],
   "source": [
    "for k in k_range:\n",
    "    print(f\"Evaluating for k={k}...\")\n",
    "    \n",
    "    # Feature selection\n",
    "    selector = SelectKBest(score_func=f_regression, k=k)\n",
    "    X_train_selected = selector.fit_transform(X_train, y_train)\n",
    "    X_test_selected = selector.transform(X_test)\n",
    "\n",
    "    # Evaluate models\n",
    "    stage_results = evaluate_models(models, X_train_selected, y_train, X_test_selected, y_test)\n",
    "    \n",
    "    # Store results\n",
    "    results[k] = stage_results\n",
    "    "
   ]
  },
  {
   "cell_type": "code",
   "execution_count": 16,
   "id": "3261ad6c-1046-4239-9d36-827b6dfaaa49",
   "metadata": {},
   "outputs": [
    {
     "name": "stdout",
     "output_type": "stream",
     "text": [
      "Results for k=1:\n",
      "LGBM: RMSLE = 0.5918\n",
      "Results for k=2:\n",
      "LGBM: RMSLE = 0.5847\n",
      "Results for k=3:\n",
      "LGBM: RMSLE = 0.5846\n",
      "Results for k=4:\n",
      "LGBM: RMSLE = 0.5789\n",
      "Results for k=5:\n",
      "LGBM: RMSLE = 0.5724\n",
      "Results for k=6:\n",
      "LGBM: RMSLE = 0.5805\n",
      "Results for k=7:\n",
      "LGBM: RMSLE = 0.5663\n",
      "Results for k=8:\n",
      "LGBM: RMSLE = 0.5637\n",
      "Results for k=9:\n",
      "LGBM: RMSLE = 0.5602\n",
      "Results for k=10:\n",
      "LGBM: RMSLE = 0.5518\n",
      "Results for k=11:\n",
      "LGBM: RMSLE = 0.5528\n",
      "Results for k=12:\n",
      "LGBM: RMSLE = 0.5533\n",
      "Results for k=13:\n",
      "LGBM: RMSLE = 0.5516\n",
      "Results for k=14:\n",
      "LGBM: RMSLE = 0.5516\n",
      "Results for k=15:\n",
      "LGBM: RMSLE = 0.5457\n",
      "Results for k=16:\n",
      "LGBM: RMSLE = 0.5461\n"
     ]
    }
   ],
   "source": [
    "# Parsing the string results into dictionaries\n",
    "parsed_results = {}\n",
    "\n",
    "for k, metrics_str in results.items():\n",
    "    print(f\"Results for k={k}:\")\n",
    "    metrics = {}\n",
    "    # Split the string by newline and then by \" - \"\n",
    "    for line in metrics_str.split(\"\\n\"):\n",
    "        model_name, metric_str = line.split(\" - \")\n",
    "        rmsle_value = float(metric_str.split(\": \")[1].split(\",\")[0])  # Extract RMSLE value\n",
    "        metrics[model_name] = rmsle_value\n",
    "        print(f\"{model_name}: RMSLE = {rmsle_value}\")\n",
    "    parsed_results[k] = metrics"
   ]
  }
 ],
 "metadata": {
  "kernelspec": {
   "display_name": "Python 3 (ipykernel)",
   "language": "python",
   "name": "python3"
  },
  "language_info": {
   "codemirror_mode": {
    "name": "ipython",
    "version": 3
   },
   "file_extension": ".py",
   "mimetype": "text/x-python",
   "name": "python",
   "nbconvert_exporter": "python",
   "pygments_lexer": "ipython3",
   "version": "3.10.9"
  }
 },
 "nbformat": 4,
 "nbformat_minor": 5
}
